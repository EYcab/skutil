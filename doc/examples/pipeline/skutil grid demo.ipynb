{
 "cells": [
  {
   "cell_type": "code",
   "execution_count": null,
   "metadata": {
    "collapsed": false
   },
   "outputs": [],
   "source": [
    "import pandas as pd\n",
    "import numpy as np\n",
    "from sklearn.datasets import load_iris\n",
    "from skutil.preprocessing import BoxCoxTransformer\n",
    "from skutil.feature_selection import MulticollinearityFilterer"
   ]
  },
  {
   "cell_type": "code",
   "execution_count": 2,
   "metadata": {
    "collapsed": true
   },
   "outputs": [],
   "source": [
    "iris = load_iris()\n",
    "X = pd.DataFrame.from_records(data=iris.data, columns=iris.feature_names)"
   ]
  },
  {
   "cell_type": "code",
   "execution_count": 3,
   "metadata": {
    "collapsed": false
   },
   "outputs": [
    {
     "data": {
      "text/html": [
       "<div>\n",
       "<table border=\"1\" class=\"dataframe\">\n",
       "  <thead>\n",
       "    <tr style=\"text-align: right;\">\n",
       "      <th></th>\n",
       "      <th>sepal length (cm)</th>\n",
       "      <th>sepal width (cm)</th>\n",
       "      <th>petal length (cm)</th>\n",
       "      <th>petal width (cm)</th>\n",
       "    </tr>\n",
       "  </thead>\n",
       "  <tbody>\n",
       "    <tr>\n",
       "      <th>0</th>\n",
       "      <td>5.1</td>\n",
       "      <td>3.5</td>\n",
       "      <td>1.4</td>\n",
       "      <td>0.2</td>\n",
       "    </tr>\n",
       "    <tr>\n",
       "      <th>1</th>\n",
       "      <td>4.9</td>\n",
       "      <td>3.0</td>\n",
       "      <td>1.4</td>\n",
       "      <td>0.2</td>\n",
       "    </tr>\n",
       "    <tr>\n",
       "      <th>2</th>\n",
       "      <td>4.7</td>\n",
       "      <td>3.2</td>\n",
       "      <td>1.3</td>\n",
       "      <td>0.2</td>\n",
       "    </tr>\n",
       "    <tr>\n",
       "      <th>3</th>\n",
       "      <td>4.6</td>\n",
       "      <td>3.1</td>\n",
       "      <td>1.5</td>\n",
       "      <td>0.2</td>\n",
       "    </tr>\n",
       "    <tr>\n",
       "      <th>4</th>\n",
       "      <td>5.0</td>\n",
       "      <td>3.6</td>\n",
       "      <td>1.4</td>\n",
       "      <td>0.2</td>\n",
       "    </tr>\n",
       "  </tbody>\n",
       "</table>\n",
       "</div>"
      ],
      "text/plain": [
       "   sepal length (cm)  sepal width (cm)  petal length (cm)  petal width (cm)\n",
       "0                5.1               3.5                1.4               0.2\n",
       "1                4.9               3.0                1.4               0.2\n",
       "2                4.7               3.2                1.3               0.2\n",
       "3                4.6               3.1                1.5               0.2\n",
       "4                5.0               3.6                1.4               0.2"
      ]
     },
     "execution_count": 3,
     "metadata": {},
     "output_type": "execute_result"
    }
   ],
   "source": [
    "X.head()"
   ]
  },
  {
   "cell_type": "code",
   "execution_count": 4,
   "metadata": {
    "collapsed": true
   },
   "outputs": [],
   "source": [
    "from sklearn.cross_validation import train_test_split\n",
    "\n",
    "X_train, X_test, y_train, y_test = train_test_split(X, iris.target, train_size=0.7)"
   ]
  },
  {
   "cell_type": "markdown",
   "metadata": {},
   "source": [
    "### Build a simple Pipeline"
   ]
  },
  {
   "cell_type": "code",
   "execution_count": 6,
   "metadata": {
    "collapsed": false
   },
   "outputs": [
    {
     "name": "stdout",
     "output_type": "stream",
     "text": [
      "Train RF accuracy: 1.00000\n",
      "Test RF accuracy: 0.82222\n"
     ]
    }
   ],
   "source": [
    "from sklearn.pipeline import Pipeline\n",
    "from skutil.preprocessing import SelectiveScaler\n",
    "from sklearn.decomposition import PCA\n",
    "from sklearn.ensemble import RandomForestClassifier\n",
    "from sklearn.metrics import accuracy_score\n",
    "\n",
    "# build a pipeline\n",
    "pipe = Pipeline([\n",
    "        ('collinearity', MulticollinearityFilterer(threshold=0.85)),\n",
    "        ('scaler'      , SelectiveScaler()),\n",
    "        ('boxcox'      , BoxCoxTransformer()),\n",
    "        ('pca'         , PCA(n_components=0.9)),\n",
    "        ('model'       , RandomForestClassifier())\n",
    "    ])\n",
    "\n",
    "# fit the pipe, report scores\n",
    "pipe.fit(X_train, y_train)\n",
    "\n",
    "# report scores\n",
    "print 'Train RF accuracy: %.5f' % accuracy_score(y_train, pipe.predict(X_train))\n",
    "print 'Test RF accuracy: %.5f'  % accuracy_score(y_test,  pipe.predict(X_test))"
   ]
  },
  {
   "cell_type": "markdown",
   "metadata": {},
   "source": [
    "### Can we make this better with a gridsearch?"
   ]
  },
  {
   "cell_type": "code",
   "execution_count": 8,
   "metadata": {
    "collapsed": false
   },
   "outputs": [
    {
     "name": "stdout",
     "output_type": "stream",
     "text": [
      "Train RF accuracy: 0.94286\n",
      "Test RF accuracy: 0.91111\n"
     ]
    }
   ],
   "source": [
    "from sklearn.grid_search import RandomizedSearchCV\n",
    "from sklearn.cross_validation import KFold\n",
    "from sklearn.preprocessing import StandardScaler, RobustScaler\n",
    "from scipy.stats import randint, uniform\n",
    "\n",
    "# default CV does not shuffle, so we define our own\n",
    "custom_cv = KFold(n=y_train.shape[0], n_folds=5, shuffle=True, random_state=42)\n",
    "\n",
    "# build a pipeline\n",
    "pipe = Pipeline([\n",
    "        ('collinearity', MulticollinearityFilterer(threshold=0.85)),\n",
    "        ('scaler'      , SelectiveScaler()),\n",
    "        ('boxcox'      , BoxCoxTransformer()),\n",
    "        ('pca'         , PCA(n_components=0.9)),\n",
    "        ('model'       , RandomForestClassifier())\n",
    "    ])\n",
    "\n",
    "# let's define a set of hyper-parameters over which to search\n",
    "hp = {\n",
    "    'collinearity__threshold' : uniform(0.8, 0.15),\n",
    "    'collinearity__method'    : ['pearson','kendall','spearman'],\n",
    "    'scaler__scaler'          : [StandardScaler(), RobustScaler()],\n",
    "    'pca__n_components'       : randint(1,2),\n",
    "    'pca__whiten'             : [True, False],\n",
    "    'model__n_estimators'     : randint(10,100),\n",
    "    'model__max_depth'        : randint(4,15),\n",
    "    'model__min_samples_leaf' : randint(1,10),\n",
    "    'model__max_features'     : uniform(loc=.5, scale=.5),\n",
    "    'model__max_leaf_nodes'   : randint(10,50)\n",
    "}\n",
    "\n",
    "# define the gridsearch\n",
    "search = RandomizedSearchCV(pipe, hp,\n",
    "                            n_iter=30,\n",
    "                            scoring='accuracy',\n",
    "                            cv=custom_cv,\n",
    "                            random_state=42)\n",
    "\n",
    "# fit the search\n",
    "search.fit(X_train, y_train)\n",
    "\n",
    "# get the best estimator:\n",
    "best_model = search.best_estimator_\n",
    "\n",
    "# report scores\n",
    "print 'Train RF accuracy: %.5f' % accuracy_score(y_train, best_model.predict(X_train))\n",
    "print 'Test RF accuracy: %.5f' % accuracy_score(y_test, best_model.predict(X_test))"
   ]
  },
  {
   "cell_type": "code",
   "execution_count": null,
   "metadata": {
    "collapsed": true
   },
   "outputs": [],
   "source": []
  }
 ],
 "metadata": {
  "kernelspec": {
   "display_name": "Python 2",
   "language": "python",
   "name": "python2"
  },
  "language_info": {
   "codemirror_mode": {
    "name": "ipython",
    "version": 2
   },
   "file_extension": ".py",
   "mimetype": "text/x-python",
   "name": "python",
   "nbconvert_exporter": "python",
   "pygments_lexer": "ipython2",
   "version": "2.7.11"
  }
 },
 "nbformat": 4,
 "nbformat_minor": 0
}
