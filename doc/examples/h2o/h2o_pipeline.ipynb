{
 "cells": [
  {
   "cell_type": "markdown",
   "metadata": {},
   "source": [
    "# Using the `H2OPipeline`\n",
    "\n",
    "*This notebook will provide an overview of the `H2OPipeline` and its nuanced behavior.*\n",
    "\n",
    "The `H2OPipeline` generates a sklearn-esque pipeline of H2O steps finished with an optional `H2OEstimator`. Note that as of version 0.1.0, the behavior of the H2OPipeline has slightly changed, given the inclusion of the `exclude_from_ppc` and `exclude_from_fit` parameters.\n",
    "\n",
    "The pipeline, at the core, is comprised of a list of length-two tuples in the form of `('name', SomeH2OTransformer())`, punctuated with an optional `H2OEstimator` as the final step. The pipeline will procedurally \n",
    "fit each stage, transforming the training data prior to fitting the next stage. When predicting or transforming new (test) data, each stage calls either `transform` or `predict` at the respective step.\n",
    "\n",
    "**On the topic of exclusions and `feature_names`:**\n",
    "\n",
    "Prior to version 0.1.0, `H2OTransformer`s did not take the keyword `exclude_features`. Its addition necessitated two new keywords in the `H2OPipeline`, and a slight change in behavior of `feature_names`:\n",
    "\n",
    "* `exclude_from_ppc` - If set in the `H2OPipeline` constructor, these features will be universally omitted from every preprocessing stage. Since `exclude_features` can be set individually in each separate transformer, in the case that `exclude_features` has been explicitly set, the exclusions in that respective stage will include the union of `exclude_from_ppc` and `exclude_features`.\n",
    "\n",
    "\n",
    "* `exclude_from_fit` - If set in the `H2OPipeline` constructor, these features will be omitted from the ``training_cols_`` fit attribute, which are the columns passed to the final stage in the pipeline.\n",
    "\n",
    "\n",
    "* `feature_names` - The former behavior of the `H2OPipeline` only used `feature_names` in the fit of the first transformer, passing the remaining columns to the next transformer as the ``feature_names`` parameter. The new behavior is more discriminating in the case of explicitly-set attributes. In the case where a transformer's ``feature_names`` parameter has been explicitly set, *only those names* will be used in the fit. This is useful in cases where someone may only want to, for instance, drop one of two multicollinear features using the `H2OMulticollinearityFilterer` rather than fitting against the entire dataset. It also adheres to the now expected behavior of the exclusion parameters.\n",
    "\n",
    "\n",
    "We will start by loading the boston housing dataset from `sklearn` and uploading it into an `H2OFrame`. Fortunately, `skutil` makes this very easy (note you must start your h2o cluster first!):"
   ]
  },
  {
   "cell_type": "code",
   "execution_count": 2,
   "metadata": {
    "collapsed": false
   },
   "outputs": [
    {
     "name": "stdout",
     "output_type": "stream",
     "text": [
      "Connecting to H2O server at http://10.7.54.204:54321... successful.\n"
     ]
    },
    {
     "data": {
      "text/html": [
       "<div style=\"overflow:auto\"><table style=\"width:50%\"><tr><td>H2O cluster uptime:</td>\n",
       "<td>12 mins 21 secs</td></tr>\n",
       "<tr><td>H2O cluster version:</td>\n",
       "<td>3.10.0.7</td></tr>\n",
       "<tr><td>H2O cluster version age:</td>\n",
       "<td>25 days </td></tr>\n",
       "<tr><td>H2O cluster name:</td>\n",
       "<td>fp7y</td></tr>\n",
       "<tr><td>H2O cluster total nodes:</td>\n",
       "<td>1</td></tr>\n",
       "<tr><td>H2O cluster free memory:</td>\n",
       "<td>3.313 Gb</td></tr>\n",
       "<tr><td>H2O cluster total cores:</td>\n",
       "<td>8</td></tr>\n",
       "<tr><td>H2O cluster allowed cores:</td>\n",
       "<td>8</td></tr>\n",
       "<tr><td>H2O cluster status:</td>\n",
       "<td>locked, healthy</td></tr>\n",
       "<tr><td>H2O connection url:</td>\n",
       "<td>http://10.7.54.204:54321</td></tr>\n",
       "<tr><td>H2O connection proxy:</td>\n",
       "<td>None</td></tr>\n",
       "<tr><td>Python version:</td>\n",
       "<td>2.7.12 final</td></tr></table></div>"
      ],
      "text/plain": [
       "--------------------------  ------------------------\n",
       "H2O cluster uptime:         12 mins 21 secs\n",
       "H2O cluster version:        3.10.0.7\n",
       "H2O cluster version age:    25 days\n",
       "H2O cluster name:           fp7y\n",
       "H2O cluster total nodes:    1\n",
       "H2O cluster free memory:    3.313 Gb\n",
       "H2O cluster total cores:    8\n",
       "H2O cluster allowed cores:  8\n",
       "H2O cluster status:         locked, healthy\n",
       "H2O connection url:         http://10.7.54.204:54321\n",
       "H2O connection proxy:\n",
       "Python version:             2.7.12 final\n",
       "--------------------------  ------------------------"
      ]
     },
     "metadata": {},
     "output_type": "display_data"
    },
    {
     "data": {
      "text/plain": [
       "<H2OConnection to http://10.7.54.204:54321, no session>"
      ]
     },
     "execution_count": 2,
     "metadata": {},
     "output_type": "execute_result"
    }
   ],
   "source": [
    "import h2o\n",
    "h2o.connect(ip='10.7.54.204', port=54321) # I started this on command line"
   ]
  },
  {
   "cell_type": "code",
   "execution_count": 4,
   "metadata": {
    "collapsed": false
   },
   "outputs": [
    {
     "name": "stdout",
     "output_type": "stream",
     "text": [
      "Parse progress: |█████████████████████████████████████████████████████████████████████████████| 100%\n"
     ]
    },
    {
     "data": {
      "text/html": [
       "<table>\n",
       "<tr><th style=\"text-align: right;\">    CRIM</th><th style=\"text-align: right;\">  ZN</th><th style=\"text-align: right;\">  INDUS</th><th style=\"text-align: right;\">  CHAS</th><th style=\"text-align: right;\">  NOX</th><th style=\"text-align: right;\">   RM</th><th style=\"text-align: right;\">  AGE</th><th style=\"text-align: right;\">   DIS</th><th style=\"text-align: right;\">  RAD</th><th style=\"text-align: right;\">  TAX</th><th style=\"text-align: right;\">  PTRATIO</th><th style=\"text-align: right;\">     B</th><th style=\"text-align: right;\">  LSTAT</th><th style=\"text-align: right;\">  target</th></tr>\n",
       "<tr><td style=\"text-align: right;\"> 0.17783</td><td style=\"text-align: right;\">   0</td><td style=\"text-align: right;\">   9.69</td><td style=\"text-align: right;\">     0</td><td style=\"text-align: right;\">0.585</td><td style=\"text-align: right;\">5.569</td><td style=\"text-align: right;\"> 73.5</td><td style=\"text-align: right;\">2.3999</td><td style=\"text-align: right;\">    6</td><td style=\"text-align: right;\">  391</td><td style=\"text-align: right;\">     19.2</td><td style=\"text-align: right;\">395.77</td><td style=\"text-align: right;\">  15.1 </td><td style=\"text-align: right;\">    17.5</td></tr>\n",
       "<tr><td style=\"text-align: right;\"> 6.80117</td><td style=\"text-align: right;\">   0</td><td style=\"text-align: right;\">  18.1 </td><td style=\"text-align: right;\">     0</td><td style=\"text-align: right;\">0.713</td><td style=\"text-align: right;\">6.081</td><td style=\"text-align: right;\"> 84.4</td><td style=\"text-align: right;\">2.7175</td><td style=\"text-align: right;\">   24</td><td style=\"text-align: right;\">  666</td><td style=\"text-align: right;\">     20.2</td><td style=\"text-align: right;\">396.9 </td><td style=\"text-align: right;\">  14.7 </td><td style=\"text-align: right;\">    20  </td></tr>\n",
       "<tr><td style=\"text-align: right;\"> 0.08707</td><td style=\"text-align: right;\">   0</td><td style=\"text-align: right;\">  12.83</td><td style=\"text-align: right;\">     0</td><td style=\"text-align: right;\">0.437</td><td style=\"text-align: right;\">6.14 </td><td style=\"text-align: right;\"> 45.8</td><td style=\"text-align: right;\">4.0905</td><td style=\"text-align: right;\">    5</td><td style=\"text-align: right;\">  398</td><td style=\"text-align: right;\">     18.7</td><td style=\"text-align: right;\">386.96</td><td style=\"text-align: right;\">  10.27</td><td style=\"text-align: right;\">    20.8</td></tr>\n",
       "<tr><td style=\"text-align: right;\"> 9.51363</td><td style=\"text-align: right;\">   0</td><td style=\"text-align: right;\">  18.1 </td><td style=\"text-align: right;\">     0</td><td style=\"text-align: right;\">0.713</td><td style=\"text-align: right;\">6.728</td><td style=\"text-align: right;\"> 94.1</td><td style=\"text-align: right;\">2.4961</td><td style=\"text-align: right;\">   24</td><td style=\"text-align: right;\">  666</td><td style=\"text-align: right;\">     20.2</td><td style=\"text-align: right;\">  6.68</td><td style=\"text-align: right;\">  18.71</td><td style=\"text-align: right;\">    14.9</td></tr>\n",
       "<tr><td style=\"text-align: right;\"> 1.13081</td><td style=\"text-align: right;\">   0</td><td style=\"text-align: right;\">   8.14</td><td style=\"text-align: right;\">     0</td><td style=\"text-align: right;\">0.538</td><td style=\"text-align: right;\">5.713</td><td style=\"text-align: right;\"> 94.1</td><td style=\"text-align: right;\">4.233 </td><td style=\"text-align: right;\">    4</td><td style=\"text-align: right;\">  307</td><td style=\"text-align: right;\">     21  </td><td style=\"text-align: right;\">360.17</td><td style=\"text-align: right;\">  22.6 </td><td style=\"text-align: right;\">    12.7</td></tr>\n",
       "<tr><td style=\"text-align: right;\"> 8.71675</td><td style=\"text-align: right;\">   0</td><td style=\"text-align: right;\">  18.1 </td><td style=\"text-align: right;\">     0</td><td style=\"text-align: right;\">0.693</td><td style=\"text-align: right;\">6.471</td><td style=\"text-align: right;\"> 98.8</td><td style=\"text-align: right;\">1.7257</td><td style=\"text-align: right;\">   24</td><td style=\"text-align: right;\">  666</td><td style=\"text-align: right;\">     20.2</td><td style=\"text-align: right;\">391.98</td><td style=\"text-align: right;\">  17.12</td><td style=\"text-align: right;\">    13.1</td></tr>\n",
       "<tr><td style=\"text-align: right;\"> 0.04462</td><td style=\"text-align: right;\">  25</td><td style=\"text-align: right;\">   4.86</td><td style=\"text-align: right;\">     0</td><td style=\"text-align: right;\">0.426</td><td style=\"text-align: right;\">6.619</td><td style=\"text-align: right;\"> 70.4</td><td style=\"text-align: right;\">5.4007</td><td style=\"text-align: right;\">    4</td><td style=\"text-align: right;\">  281</td><td style=\"text-align: right;\">     19  </td><td style=\"text-align: right;\">395.63</td><td style=\"text-align: right;\">   7.22</td><td style=\"text-align: right;\">    23.9</td></tr>\n",
       "<tr><td style=\"text-align: right;\"> 4.03841</td><td style=\"text-align: right;\">   0</td><td style=\"text-align: right;\">  18.1 </td><td style=\"text-align: right;\">     0</td><td style=\"text-align: right;\">0.532</td><td style=\"text-align: right;\">6.229</td><td style=\"text-align: right;\"> 90.7</td><td style=\"text-align: right;\">3.0993</td><td style=\"text-align: right;\">   24</td><td style=\"text-align: right;\">  666</td><td style=\"text-align: right;\">     20.2</td><td style=\"text-align: right;\">395.33</td><td style=\"text-align: right;\">  12.87</td><td style=\"text-align: right;\">    19.6</td></tr>\n",
       "<tr><td style=\"text-align: right;\">37.6619 </td><td style=\"text-align: right;\">   0</td><td style=\"text-align: right;\">  18.1 </td><td style=\"text-align: right;\">     0</td><td style=\"text-align: right;\">0.679</td><td style=\"text-align: right;\">6.202</td><td style=\"text-align: right;\"> 78.7</td><td style=\"text-align: right;\">1.8629</td><td style=\"text-align: right;\">   24</td><td style=\"text-align: right;\">  666</td><td style=\"text-align: right;\">     20.2</td><td style=\"text-align: right;\"> 18.82</td><td style=\"text-align: right;\">  14.52</td><td style=\"text-align: right;\">    10.9</td></tr>\n",
       "<tr><td style=\"text-align: right;\"> 7.02259</td><td style=\"text-align: right;\">   0</td><td style=\"text-align: right;\">  18.1 </td><td style=\"text-align: right;\">     0</td><td style=\"text-align: right;\">0.718</td><td style=\"text-align: right;\">6.006</td><td style=\"text-align: right;\"> 95.3</td><td style=\"text-align: right;\">1.8746</td><td style=\"text-align: right;\">   24</td><td style=\"text-align: right;\">  666</td><td style=\"text-align: right;\">     20.2</td><td style=\"text-align: right;\">319.98</td><td style=\"text-align: right;\">  15.7 </td><td style=\"text-align: right;\">    14.2</td></tr>\n",
       "</table>"
      ]
     },
     "metadata": {},
     "output_type": "display_data"
    },
    {
     "data": {
      "text/plain": []
     },
     "execution_count": 4,
     "metadata": {},
     "output_type": "execute_result"
    }
   ],
   "source": [
    "from skutil.h2o import load_boston_h2o\n",
    "from skutil.h2o import h2o_train_test_split\n",
    "\n",
    "X = load_boston_h2o(include_tgt=True, shuffle=True, tgt_name='target')\n",
    "X_train, X_test = h2o_train_test_split(X, train_size=0.7) # this splits our data\n",
    "\n",
    "X_train.head()"
   ]
  },
  {
   "cell_type": "markdown",
   "metadata": {},
   "source": [
    "# Fit our pipeline\n",
    "\n",
    "There are several demos out there that show the entire data munging and exploration process using skutil. We won't duplicate efforts here, but we will jump straight into the `H2OPipeline` demo."
   ]
  },
  {
   "cell_type": "code",
   "execution_count": 5,
   "metadata": {
    "collapsed": false
   },
   "outputs": [
    {
     "name": "stdout",
     "output_type": "stream",
     "text": [
      "gbm Model Build progress: |███████████████████████████████████████████████████████████████████| 100%\n",
      "Model Details\n",
      "=============\n",
      "H2OGradientBoostingEstimator :  Gradient Boosting Method\n",
      "Model Key:  GBM_model_python_1476531369030_1\n",
      "Model Summary: \n"
     ]
    },
    {
     "data": {
      "text/html": [
       "<div style=\"overflow:auto\"><table style=\"width:50%\"><tr><td><b></b></td>\n",
       "<td><b>number_of_trees</b></td>\n",
       "<td><b>number_of_internal_trees</b></td>\n",
       "<td><b>model_size_in_bytes</b></td>\n",
       "<td><b>min_depth</b></td>\n",
       "<td><b>max_depth</b></td>\n",
       "<td><b>mean_depth</b></td>\n",
       "<td><b>min_leaves</b></td>\n",
       "<td><b>max_leaves</b></td>\n",
       "<td><b>mean_leaves</b></td></tr>\n",
       "<tr><td></td>\n",
       "<td>50.0</td>\n",
       "<td>50.0</td>\n",
       "<td>11663.0</td>\n",
       "<td>5.0</td>\n",
       "<td>5.0</td>\n",
       "<td>5.0</td>\n",
       "<td>8.0</td>\n",
       "<td>21.0</td>\n",
       "<td>13.66</td></tr></table></div>"
      ],
      "text/plain": [
       "    number_of_trees    number_of_internal_trees    model_size_in_bytes    min_depth    max_depth    mean_depth    min_leaves    max_leaves    mean_leaves\n",
       "--  -----------------  --------------------------  ---------------------  -----------  -----------  ------------  ------------  ------------  -------------\n",
       "    50                 50                          11663                  5            5            5             8             21            13.66"
      ]
     },
     "metadata": {},
     "output_type": "display_data"
    },
    {
     "name": "stdout",
     "output_type": "stream",
     "text": [
      "\n",
      "\n",
      "ModelMetricsRegression: gbm\n",
      "** Reported on train data. **\n",
      "\n",
      "MSE: 2.63251954428\n",
      "RMSE: 1.62250409685\n",
      "MAE: 1.06575154719\n",
      "RMSLE: 0.0756197889648\n",
      "Mean Residual Deviance: 2.63251954428\n",
      "Scoring History: \n"
     ]
    },
    {
     "data": {
      "text/html": [
       "<div style=\"overflow:auto\"><table style=\"width:50%\"><tr><td><b></b></td>\n",
       "<td><b>timestamp</b></td>\n",
       "<td><b>duration</b></td>\n",
       "<td><b>number_of_trees</b></td>\n",
       "<td><b>training_rmse</b></td>\n",
       "<td><b>training_mae</b></td>\n",
       "<td><b>training_deviance</b></td></tr>\n",
       "<tr><td></td>\n",
       "<td>2016-10-15 06:48:39</td>\n",
       "<td> 0.022 sec</td>\n",
       "<td>0.0</td>\n",
       "<td>9.4733020</td>\n",
       "<td>6.8840244</td>\n",
       "<td>89.7434513</td></tr>\n",
       "<tr><td></td>\n",
       "<td>2016-10-15 06:48:40</td>\n",
       "<td> 0.181 sec</td>\n",
       "<td>1.0</td>\n",
       "<td>8.6632611</td>\n",
       "<td>6.3015832</td>\n",
       "<td>75.0520937</td></tr>\n",
       "<tr><td></td>\n",
       "<td>2016-10-15 06:48:40</td>\n",
       "<td> 0.222 sec</td>\n",
       "<td>2.0</td>\n",
       "<td>7.9437570</td>\n",
       "<td>5.7884133</td>\n",
       "<td>63.1032755</td></tr>\n",
       "<tr><td></td>\n",
       "<td>2016-10-15 06:48:40</td>\n",
       "<td> 0.244 sec</td>\n",
       "<td>3.0</td>\n",
       "<td>7.2968971</td>\n",
       "<td>5.3183637</td>\n",
       "<td>53.2447073</td></tr>\n",
       "<tr><td></td>\n",
       "<td>2016-10-15 06:48:40</td>\n",
       "<td> 0.267 sec</td>\n",
       "<td>4.0</td>\n",
       "<td>6.7243868</td>\n",
       "<td>4.9080230</td>\n",
       "<td>45.2173780</td></tr>\n",
       "<tr><td>---</td>\n",
       "<td>---</td>\n",
       "<td>---</td>\n",
       "<td>---</td>\n",
       "<td>---</td>\n",
       "<td>---</td>\n",
       "<td>---</td></tr>\n",
       "<tr><td></td>\n",
       "<td>2016-10-15 06:48:40</td>\n",
       "<td> 0.809 sec</td>\n",
       "<td>46.0</td>\n",
       "<td>1.6875792</td>\n",
       "<td>1.1103921</td>\n",
       "<td>2.8479235</td></tr>\n",
       "<tr><td></td>\n",
       "<td>2016-10-15 06:48:40</td>\n",
       "<td> 0.817 sec</td>\n",
       "<td>47.0</td>\n",
       "<td>1.6761373</td>\n",
       "<td>1.1002459</td>\n",
       "<td>2.8094363</td></tr>\n",
       "<tr><td></td>\n",
       "<td>2016-10-15 06:48:40</td>\n",
       "<td> 0.826 sec</td>\n",
       "<td>48.0</td>\n",
       "<td>1.6588035</td>\n",
       "<td>1.0889463</td>\n",
       "<td>2.7516292</td></tr>\n",
       "<tr><td></td>\n",
       "<td>2016-10-15 06:48:40</td>\n",
       "<td> 0.835 sec</td>\n",
       "<td>49.0</td>\n",
       "<td>1.6443885</td>\n",
       "<td>1.0810185</td>\n",
       "<td>2.7040134</td></tr>\n",
       "<tr><td></td>\n",
       "<td>2016-10-15 06:48:40</td>\n",
       "<td> 0.845 sec</td>\n",
       "<td>50.0</td>\n",
       "<td>1.6225041</td>\n",
       "<td>1.0657515</td>\n",
       "<td>2.6325195</td></tr></table></div>"
      ],
      "text/plain": [
       "     timestamp            duration    number_of_trees    training_rmse    training_mae    training_deviance\n",
       "---  -------------------  ----------  -----------------  ---------------  --------------  -------------------\n",
       "     2016-10-15 06:48:39  0.022 sec   0.0                9.47330202491    6.88402440952   89.7434512552\n",
       "     2016-10-15 06:48:40  0.181 sec   1.0                8.66326114506    6.30158321736   75.0520936674\n",
       "     2016-10-15 06:48:40  0.222 sec   2.0                7.94375701513    5.78841328217   63.1032755154\n",
       "     2016-10-15 06:48:40  0.244 sec   3.0                7.29689709767    5.31836373119   53.244707254\n",
       "     2016-10-15 06:48:40  0.267 sec   4.0                6.72438680854    4.90802296946   45.2173779509\n",
       "---  ---                  ---         ---                ---              ---             ---\n",
       "     2016-10-15 06:48:40  0.809 sec   46.0               1.68757917863    1.11039209366   2.84792348416\n",
       "     2016-10-15 06:48:40  0.817 sec   47.0               1.6761373096     1.10024585562   2.80943628062\n",
       "     2016-10-15 06:48:40  0.826 sec   48.0               1.6588035397     1.08894629128   2.75162918332\n",
       "     2016-10-15 06:48:40  0.835 sec   49.0               1.64438846901    1.08101850714   2.70401343703\n",
       "     2016-10-15 06:48:40  0.845 sec   50.0               1.62250409685    1.06575154719   2.63251954428"
      ]
     },
     "metadata": {},
     "output_type": "display_data"
    },
    {
     "name": "stdout",
     "output_type": "stream",
     "text": [
      "\n",
      "See the whole table with table.as_data_frame()\n",
      "Variable Importances: \n"
     ]
    },
    {
     "data": {
      "text/html": [
       "<div style=\"overflow:auto\"><table style=\"width:50%\"><tr><td><b>variable</b></td>\n",
       "<td><b>relative_importance</b></td>\n",
       "<td><b>scaled_importance</b></td>\n",
       "<td><b>percentage</b></td></tr>\n",
       "<tr><td>LSTAT</td>\n",
       "<td>102906.4062500</td>\n",
       "<td>1.0</td>\n",
       "<td>0.6340451</td></tr>\n",
       "<tr><td>RM</td>\n",
       "<td>32338.6660156</td>\n",
       "<td>0.3142532</td>\n",
       "<td>0.1992507</td></tr>\n",
       "<tr><td>NOX</td>\n",
       "<td>6833.0043945</td>\n",
       "<td>0.0664002</td>\n",
       "<td>0.0421007</td></tr>\n",
       "<tr><td>DIS</td>\n",
       "<td>6525.0424805</td>\n",
       "<td>0.0634075</td>\n",
       "<td>0.0402032</td></tr>\n",
       "<tr><td>CRIM</td>\n",
       "<td>3430.0273438</td>\n",
       "<td>0.0333315</td>\n",
       "<td>0.0211337</td></tr>\n",
       "<tr><td>TAX</td>\n",
       "<td>2854.7770996</td>\n",
       "<td>0.0277415</td>\n",
       "<td>0.0175894</td></tr>\n",
       "<tr><td>PTRATIO</td>\n",
       "<td>2323.4426269</td>\n",
       "<td>0.0225782</td>\n",
       "<td>0.0143156</td></tr>\n",
       "<tr><td>AGE</td>\n",
       "<td>2037.4730225</td>\n",
       "<td>0.0197993</td>\n",
       "<td>0.0125536</td></tr>\n",
       "<tr><td>B</td>\n",
       "<td>1366.0084228</td>\n",
       "<td>0.0132743</td>\n",
       "<td>0.0084165</td></tr>\n",
       "<tr><td>INDUS</td>\n",
       "<td>653.3645630</td>\n",
       "<td>0.0063491</td>\n",
       "<td>0.0040256</td></tr>\n",
       "<tr><td>RAD</td>\n",
       "<td>650.1253052</td>\n",
       "<td>0.0063176</td>\n",
       "<td>0.0040057</td></tr>\n",
       "<tr><td>CHAS</td>\n",
       "<td>380.0959778</td>\n",
       "<td>0.0036936</td>\n",
       "<td>0.0023419</td></tr>\n",
       "<tr><td>ZN</td>\n",
       "<td>2.9641106</td>\n",
       "<td>0.0000288</td>\n",
       "<td>0.0000183</td></tr></table></div>"
      ],
      "text/plain": [
       "variable    relative_importance    scaled_importance    percentage\n",
       "----------  ---------------------  -------------------  ------------\n",
       "LSTAT       102906                 1                    0.634045\n",
       "RM          32338.7                0.314253             0.199251\n",
       "NOX         6833                   0.0664002            0.0421007\n",
       "DIS         6525.04                0.0634075            0.0402032\n",
       "CRIM        3430.03                0.0333315            0.0211337\n",
       "TAX         2854.78                0.0277415            0.0175894\n",
       "PTRATIO     2323.44                0.0225782            0.0143156\n",
       "AGE         2037.47                0.0197993            0.0125536\n",
       "B           1366.01                0.0132743            0.00841649\n",
       "INDUS       653.365                0.00634911           0.00402562\n",
       "RAD         650.125                0.00631764           0.00400567\n",
       "CHAS        380.096                0.00369361           0.00234191\n",
       "ZN          2.96411                2.88039e-05          1.8263e-05"
      ]
     },
     "metadata": {},
     "output_type": "display_data"
    },
    {
     "data": {
      "text/plain": [
       "H2OPipeline(exclude_from_fit=None, exclude_from_ppc=['TAX'],\n",
       "      feature_names=['CRIM', 'ZN', 'INDUS', 'CHAS', 'NOX', 'RM', 'AGE', 'DIS', 'RAD', 'TAX', 'PTRATIO', 'B', 'LSTAT'],\n",
       "      steps=[('scl', H2OSelectiveScaler(exclude_features=['TAX'],\n",
       "          feature_names=['B', 'PTRATIO', 'CRIM'], target_feature='target',\n",
       "          with_mean=True, with_std=True)), ('mcf', H2OMulticollinearityFilterer(exclude_features=['TAX', 'CHAS'],\n",
       "               feature_names=['CRIM', 'ZN', 'INDUS'..._warn=True, target_feature='target',\n",
       "               threshold=0.85, use='complete.obs')), ('gbm', )],\n",
       "      target_feature='target')"
      ]
     },
     "execution_count": 5,
     "metadata": {},
     "output_type": "execute_result"
    }
   ],
   "source": [
    "from skutil.h2o import H2OPipeline\n",
    "from skutil.h2o.transform import H2OSelectiveScaler\n",
    "from skutil.h2o.select import H2OMulticollinearityFilterer\n",
    "from h2o.estimators import H2OGradientBoostingEstimator\n",
    "\n",
    "# Declare our pipe - this one is intentionally a bit complex in behavior\n",
    "pipe = H2OPipeline([\n",
    "        ('scl', H2OSelectiveScaler(feature_names=['B','PTRATIO','CRIM'])), # will ONLY operate on these features\n",
    "        ('mcf', H2OMulticollinearityFilterer(exclude_features=['CHAS'])),  # will exclude this AS WELL AS 'TAX'\n",
    "        ('gbm', H2OGradientBoostingEstimator())\n",
    "    ],\n",
    "    \n",
    "    exclude_from_ppc=['TAX'], # excluded from all preprocessor fits\n",
    "    feature_names=None,       # fit the first stage on ALL features (minus exceptions)\n",
    "    target_feature='target')  # will be excluded from all preprocessor fits, as it's the target\n",
    "\n",
    "# do actual fit:\n",
    "pipe.fit(X_train)"
   ]
  },
  {
   "cell_type": "markdown",
   "metadata": {},
   "source": [
    "# Validating our hypotheses\n",
    "\n",
    "Let's ensure each stage behaved like we thought it would"
   ]
  },
  {
   "cell_type": "code",
   "execution_count": 6,
   "metadata": {
    "collapsed": false
   },
   "outputs": [
    {
     "data": {
      "text/plain": [
       "{'B': 357.52463276836176,\n",
       " 'CRIM': 3.748034491525425,\n",
       " 'PTRATIO': 18.409887005649722}"
      ]
     },
     "execution_count": 6,
     "metadata": {},
     "output_type": "execute_result"
    }
   ],
   "source": [
    "# First stage should ONLY be fit on these features: ['B','PTRATIO','CRIM']\n",
    "step = pipe.steps[0][1] # extract the transformer from the tuple\n",
    "step.means"
   ]
  },
  {
   "cell_type": "code",
   "execution_count": 8,
   "metadata": {
    "collapsed": false
   },
   "outputs": [
    {
     "data": {
      "text/plain": [
       "[]"
      ]
     },
     "execution_count": 8,
     "metadata": {},
     "output_type": "execute_result"
    }
   ],
   "source": [
    "# Second stage should be fit on everything BUT ['CHAS', 'TAX'] (and of course, the target)\n",
    "step = pipe.steps[1][1]\n",
    "step.correlations_ # looks like we had nothing to drop anyways"
   ]
  },
  {
   "cell_type": "code",
   "execution_count": 9,
   "metadata": {
    "collapsed": false
   },
   "outputs": [
    {
     "data": {
      "text/plain": [
       "['CRIM',\n",
       " 'ZN',\n",
       " 'INDUS',\n",
       " 'CHAS',\n",
       " 'NOX',\n",
       " 'RM',\n",
       " 'AGE',\n",
       " 'DIS',\n",
       " 'RAD',\n",
       " 'TAX',\n",
       " 'PTRATIO',\n",
       " 'B',\n",
       " 'LSTAT']"
      ]
     },
     "execution_count": 9,
     "metadata": {},
     "output_type": "execute_result"
    }
   ],
   "source": [
    "# here are the features we ultimately fit the estimator on:\n",
    "pipe.training_cols_"
   ]
  },
  {
   "cell_type": "code",
   "execution_count": 11,
   "metadata": {
    "collapsed": false
   },
   "outputs": [
    {
     "name": "stdout",
     "output_type": "stream",
     "text": [
      "gbm prediction progress: |████████████████████████████████████████████████████████████████████| 100%\n",
      "Testing R^2: 0.77387\n"
     ]
    }
   ],
   "source": [
    "# Let's check our R^2:\n",
    "from skutil.h2o.metrics import h2o_r2_score\n",
    "\n",
    "test_pred = pipe.predict(X_test)\n",
    "print('Testing R^2: %.5f' %h2o_r2_score(X_test['target'] , test_pred))"
   ]
  }
 ],
 "metadata": {
  "anaconda-cloud": {},
  "kernelspec": {
   "display_name": "Python [Root]",
   "language": "python",
   "name": "Python [Root]"
  },
  "language_info": {
   "codemirror_mode": {
    "name": "ipython",
    "version": 2
   },
   "file_extension": ".py",
   "mimetype": "text/x-python",
   "name": "python",
   "nbconvert_exporter": "python",
   "pygments_lexer": "ipython2",
   "version": "2.7.12"
  }
 },
 "nbformat": 4,
 "nbformat_minor": 0
}
