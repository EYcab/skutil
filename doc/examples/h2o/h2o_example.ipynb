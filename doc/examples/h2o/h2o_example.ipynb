{
 "cells": [
  {
   "cell_type": "markdown",
   "metadata": {},
   "source": [
    "# H2O example\n",
    "\n",
    "This notebook will give an example of how to use `skutil` preprocessors with H2OEstimators and H2OFrames."
   ]
  },
  {
   "cell_type": "code",
   "execution_count": 1,
   "metadata": {
    "collapsed": false
   },
   "outputs": [
    {
     "name": "stdout",
     "output_type": "stream",
     "text": [
      "Skutil version:  0.0.38\n",
      "H2O version:     3.8.2.9\n",
      "Numpy version:   1.11.1\n",
      "Sklearn version: 0.17.1\n",
      "Pandas version:  0.18.1\n"
     ]
    }
   ],
   "source": [
    "from __future__ import print_function, division\n",
    "import skutil\n",
    "import sklearn\n",
    "import h2o\n",
    "import pandas as pd\n",
    "import numpy as np\n",
    "\n",
    "print('Skutil version:  %s' % skutil.__version__)\n",
    "print('H2O version:     %s' % h2o.__version__)\n",
    "print('Numpy version:   %s' % np.__version__)\n",
    "print('Sklearn version: %s' % sklearn.__version__)\n",
    "print('Pandas version:  %s' % pd.__version__)"
   ]
  },
  {
   "cell_type": "markdown",
   "metadata": {},
   "source": [
    "### Initialize H2O\n",
    "\n",
    "First, we'll start our H2O cluster..."
   ]
  },
  {
   "cell_type": "code",
   "execution_count": 3,
   "metadata": {
    "collapsed": false
   },
   "outputs": [
    {
     "data": {
      "text/html": [
       "<div style=\"overflow:auto\"><table style=\"width:50%\"><tr><td>H2O cluster uptime: </td>\n",
       "<td>22 minutes 40 seconds 989 milliseconds </td></tr>\n",
       "<tr><td>H2O cluster version: </td>\n",
       "<td>3.8.2.9</td></tr>\n",
       "<tr><td>H2O cluster name: </td>\n",
       "<td>H2O_started_from_python_tgsmith_age952</td></tr>\n",
       "<tr><td>H2O cluster total nodes: </td>\n",
       "<td>1</td></tr>\n",
       "<tr><td>H2O cluster total free memory: </td>\n",
       "<td>1.76 GB</td></tr>\n",
       "<tr><td>H2O cluster total cores: </td>\n",
       "<td>2</td></tr>\n",
       "<tr><td>H2O cluster allowed cores: </td>\n",
       "<td>2</td></tr>\n",
       "<tr><td>H2O cluster healthy: </td>\n",
       "<td>True</td></tr>\n",
       "<tr><td>H2O Connection ip: </td>\n",
       "<td>127.0.0.1</td></tr>\n",
       "<tr><td>H2O Connection port: </td>\n",
       "<td>54321</td></tr>\n",
       "<tr><td>H2O Connection proxy: </td>\n",
       "<td>None</td></tr>\n",
       "<tr><td>Python Version: </td>\n",
       "<td>2.7.12</td></tr></table></div>"
      ],
      "text/plain": [
       "------------------------------  --------------------------------------\n",
       "H2O cluster uptime:             22 minutes 40 seconds 989 milliseconds\n",
       "H2O cluster version:            3.8.2.9\n",
       "H2O cluster name:               H2O_started_from_python_tgsmith_age952\n",
       "H2O cluster total nodes:        1\n",
       "H2O cluster total free memory:  1.76 GB\n",
       "H2O cluster total cores:        2\n",
       "H2O cluster allowed cores:      2\n",
       "H2O cluster healthy:            True\n",
       "H2O Connection ip:              127.0.0.1\n",
       "H2O Connection port:            54321\n",
       "H2O Connection proxy:\n",
       "Python Version:                 2.7.12\n",
       "------------------------------  --------------------------------------"
      ]
     },
     "metadata": {},
     "output_type": "display_data"
    }
   ],
   "source": [
    "h2o.init(ip='127.0.0.1', port=54321)"
   ]
  },
  {
   "cell_type": "markdown",
   "metadata": {},
   "source": [
    "### Load data\n",
    "\n",
    "We'll load sklearn's breast cancer data. Using skutil's `from_pandas` method, we can upload a Pandas frame to the H2O cloud"
   ]
  },
  {
   "cell_type": "code",
   "execution_count": 6,
   "metadata": {
    "collapsed": false
   },
   "outputs": [
    {
     "name": "stdout",
     "output_type": "stream",
     "text": [
      "\n",
      "Parse Progress: [##################################################] 100%\n"
     ]
    },
    {
     "data": {
      "text/html": [
       "<table>\n",
       "<tr><th style=\"text-align: right;\">  mean radius</th><th style=\"text-align: right;\">  mean texture</th><th style=\"text-align: right;\">  mean perimeter</th><th style=\"text-align: right;\">  mean area</th><th style=\"text-align: right;\">  mean smoothness</th><th style=\"text-align: right;\">  mean compactness</th><th style=\"text-align: right;\">  mean concavity</th><th style=\"text-align: right;\">  mean concave points</th><th style=\"text-align: right;\">  mean symmetry</th><th style=\"text-align: right;\">  mean fractal dimension</th><th style=\"text-align: right;\">  radius error</th><th style=\"text-align: right;\">  texture error</th><th style=\"text-align: right;\">  perimeter error</th><th style=\"text-align: right;\">  area error</th><th style=\"text-align: right;\">  smoothness error</th><th style=\"text-align: right;\">  compactness error</th><th style=\"text-align: right;\">  concavity error</th><th style=\"text-align: right;\">  concave points error</th><th style=\"text-align: right;\">  symmetry error</th><th style=\"text-align: right;\">  fractal dimension error</th><th style=\"text-align: right;\">  worst radius</th><th style=\"text-align: right;\">  worst texture</th><th style=\"text-align: right;\">  worst perimeter</th><th style=\"text-align: right;\">  worst area</th><th style=\"text-align: right;\">  worst smoothness</th><th style=\"text-align: right;\">  worst compactness</th><th style=\"text-align: right;\">  worst concavity</th><th style=\"text-align: right;\">  worst concave points</th><th style=\"text-align: right;\">  worst symmetry</th><th style=\"text-align: right;\">  worst fractal dimension</th><th style=\"text-align: right;\">  target</th></tr>\n",
       "<tr><td style=\"text-align: right;\">        17.99</td><td style=\"text-align: right;\">         10.38</td><td style=\"text-align: right;\">          122.8 </td><td style=\"text-align: right;\">     1001  </td><td style=\"text-align: right;\">          0.1184 </td><td style=\"text-align: right;\">           0.2776 </td><td style=\"text-align: right;\">         0.3001 </td><td style=\"text-align: right;\">              0.1471 </td><td style=\"text-align: right;\">         0.2419</td><td style=\"text-align: right;\">                 0.07871</td><td style=\"text-align: right;\">        1.095 </td><td style=\"text-align: right;\">         0.9053</td><td style=\"text-align: right;\">            8.589</td><td style=\"text-align: right;\">      153.4 </td><td style=\"text-align: right;\">          0.006399</td><td style=\"text-align: right;\">            0.04904</td><td style=\"text-align: right;\">          0.05373</td><td style=\"text-align: right;\">               0.01587</td><td style=\"text-align: right;\">         0.03003</td><td style=\"text-align: right;\">                 0.006193</td><td style=\"text-align: right;\">         25.38</td><td style=\"text-align: right;\">          17.33</td><td style=\"text-align: right;\">           184.6 </td><td style=\"text-align: right;\">      2019  </td><td style=\"text-align: right;\">            0.1622</td><td style=\"text-align: right;\">             0.6656</td><td style=\"text-align: right;\">           0.7119</td><td style=\"text-align: right;\">                0.2654</td><td style=\"text-align: right;\">          0.4601</td><td style=\"text-align: right;\">                  0.1189 </td><td style=\"text-align: right;\">       0</td></tr>\n",
       "<tr><td style=\"text-align: right;\">        20.57</td><td style=\"text-align: right;\">         17.77</td><td style=\"text-align: right;\">          132.9 </td><td style=\"text-align: right;\">     1326  </td><td style=\"text-align: right;\">          0.08474</td><td style=\"text-align: right;\">           0.07864</td><td style=\"text-align: right;\">         0.0869 </td><td style=\"text-align: right;\">              0.07017</td><td style=\"text-align: right;\">         0.1812</td><td style=\"text-align: right;\">                 0.05667</td><td style=\"text-align: right;\">        0.5435</td><td style=\"text-align: right;\">         0.7339</td><td style=\"text-align: right;\">            3.398</td><td style=\"text-align: right;\">       74.08</td><td style=\"text-align: right;\">          0.005225</td><td style=\"text-align: right;\">            0.01308</td><td style=\"text-align: right;\">          0.0186 </td><td style=\"text-align: right;\">               0.0134 </td><td style=\"text-align: right;\">         0.01389</td><td style=\"text-align: right;\">                 0.003532</td><td style=\"text-align: right;\">         24.99</td><td style=\"text-align: right;\">          23.41</td><td style=\"text-align: right;\">           158.8 </td><td style=\"text-align: right;\">      1956  </td><td style=\"text-align: right;\">            0.1238</td><td style=\"text-align: right;\">             0.1866</td><td style=\"text-align: right;\">           0.2416</td><td style=\"text-align: right;\">                0.186 </td><td style=\"text-align: right;\">          0.275 </td><td style=\"text-align: right;\">                  0.08902</td><td style=\"text-align: right;\">       0</td></tr>\n",
       "<tr><td style=\"text-align: right;\">        19.69</td><td style=\"text-align: right;\">         21.25</td><td style=\"text-align: right;\">          130   </td><td style=\"text-align: right;\">     1203  </td><td style=\"text-align: right;\">          0.1096 </td><td style=\"text-align: right;\">           0.1599 </td><td style=\"text-align: right;\">         0.1974 </td><td style=\"text-align: right;\">              0.1279 </td><td style=\"text-align: right;\">         0.2069</td><td style=\"text-align: right;\">                 0.05999</td><td style=\"text-align: right;\">        0.7456</td><td style=\"text-align: right;\">         0.7869</td><td style=\"text-align: right;\">            4.585</td><td style=\"text-align: right;\">       94.03</td><td style=\"text-align: right;\">          0.00615 </td><td style=\"text-align: right;\">            0.04006</td><td style=\"text-align: right;\">          0.03832</td><td style=\"text-align: right;\">               0.02058</td><td style=\"text-align: right;\">         0.0225 </td><td style=\"text-align: right;\">                 0.004571</td><td style=\"text-align: right;\">         23.57</td><td style=\"text-align: right;\">          25.53</td><td style=\"text-align: right;\">           152.5 </td><td style=\"text-align: right;\">      1709  </td><td style=\"text-align: right;\">            0.1444</td><td style=\"text-align: right;\">             0.4245</td><td style=\"text-align: right;\">           0.4504</td><td style=\"text-align: right;\">                0.243 </td><td style=\"text-align: right;\">          0.3613</td><td style=\"text-align: right;\">                  0.08758</td><td style=\"text-align: right;\">       0</td></tr>\n",
       "<tr><td style=\"text-align: right;\">        11.42</td><td style=\"text-align: right;\">         20.38</td><td style=\"text-align: right;\">           77.58</td><td style=\"text-align: right;\">      386.1</td><td style=\"text-align: right;\">          0.1425 </td><td style=\"text-align: right;\">           0.2839 </td><td style=\"text-align: right;\">         0.2414 </td><td style=\"text-align: right;\">              0.1052 </td><td style=\"text-align: right;\">         0.2597</td><td style=\"text-align: right;\">                 0.09744</td><td style=\"text-align: right;\">        0.4956</td><td style=\"text-align: right;\">         1.156 </td><td style=\"text-align: right;\">            3.445</td><td style=\"text-align: right;\">       27.23</td><td style=\"text-align: right;\">          0.00911 </td><td style=\"text-align: right;\">            0.07458</td><td style=\"text-align: right;\">          0.05661</td><td style=\"text-align: right;\">               0.01867</td><td style=\"text-align: right;\">         0.05963</td><td style=\"text-align: right;\">                 0.009208</td><td style=\"text-align: right;\">         14.91</td><td style=\"text-align: right;\">          26.5 </td><td style=\"text-align: right;\">            98.87</td><td style=\"text-align: right;\">       567.7</td><td style=\"text-align: right;\">            0.2098</td><td style=\"text-align: right;\">             0.8663</td><td style=\"text-align: right;\">           0.6869</td><td style=\"text-align: right;\">                0.2575</td><td style=\"text-align: right;\">          0.6638</td><td style=\"text-align: right;\">                  0.173  </td><td style=\"text-align: right;\">       0</td></tr>\n",
       "<tr><td style=\"text-align: right;\">        20.29</td><td style=\"text-align: right;\">         14.34</td><td style=\"text-align: right;\">          135.1 </td><td style=\"text-align: right;\">     1297  </td><td style=\"text-align: right;\">          0.1003 </td><td style=\"text-align: right;\">           0.1328 </td><td style=\"text-align: right;\">         0.198  </td><td style=\"text-align: right;\">              0.1043 </td><td style=\"text-align: right;\">         0.1809</td><td style=\"text-align: right;\">                 0.05883</td><td style=\"text-align: right;\">        0.7572</td><td style=\"text-align: right;\">         0.7813</td><td style=\"text-align: right;\">            5.438</td><td style=\"text-align: right;\">       94.44</td><td style=\"text-align: right;\">          0.01149 </td><td style=\"text-align: right;\">            0.02461</td><td style=\"text-align: right;\">          0.05688</td><td style=\"text-align: right;\">               0.01885</td><td style=\"text-align: right;\">         0.01756</td><td style=\"text-align: right;\">                 0.005115</td><td style=\"text-align: right;\">         22.54</td><td style=\"text-align: right;\">          16.67</td><td style=\"text-align: right;\">           152.2 </td><td style=\"text-align: right;\">      1575  </td><td style=\"text-align: right;\">            0.1374</td><td style=\"text-align: right;\">             0.205 </td><td style=\"text-align: right;\">           0.4   </td><td style=\"text-align: right;\">                0.1625</td><td style=\"text-align: right;\">          0.2364</td><td style=\"text-align: right;\">                  0.07678</td><td style=\"text-align: right;\">       0</td></tr>\n",
       "<tr><td style=\"text-align: right;\">        12.45</td><td style=\"text-align: right;\">         15.7 </td><td style=\"text-align: right;\">           82.57</td><td style=\"text-align: right;\">      477.1</td><td style=\"text-align: right;\">          0.1278 </td><td style=\"text-align: right;\">           0.17   </td><td style=\"text-align: right;\">         0.1578 </td><td style=\"text-align: right;\">              0.08089</td><td style=\"text-align: right;\">         0.2087</td><td style=\"text-align: right;\">                 0.07613</td><td style=\"text-align: right;\">        0.3345</td><td style=\"text-align: right;\">         0.8902</td><td style=\"text-align: right;\">            2.217</td><td style=\"text-align: right;\">       27.19</td><td style=\"text-align: right;\">          0.00751 </td><td style=\"text-align: right;\">            0.03345</td><td style=\"text-align: right;\">          0.03672</td><td style=\"text-align: right;\">               0.01137</td><td style=\"text-align: right;\">         0.02165</td><td style=\"text-align: right;\">                 0.005082</td><td style=\"text-align: right;\">         15.47</td><td style=\"text-align: right;\">          23.75</td><td style=\"text-align: right;\">           103.4 </td><td style=\"text-align: right;\">       741.6</td><td style=\"text-align: right;\">            0.1791</td><td style=\"text-align: right;\">             0.5249</td><td style=\"text-align: right;\">           0.5355</td><td style=\"text-align: right;\">                0.1741</td><td style=\"text-align: right;\">          0.3985</td><td style=\"text-align: right;\">                  0.1244 </td><td style=\"text-align: right;\">       0</td></tr>\n",
       "<tr><td style=\"text-align: right;\">        18.25</td><td style=\"text-align: right;\">         19.98</td><td style=\"text-align: right;\">          119.6 </td><td style=\"text-align: right;\">     1040  </td><td style=\"text-align: right;\">          0.09463</td><td style=\"text-align: right;\">           0.109  </td><td style=\"text-align: right;\">         0.1127 </td><td style=\"text-align: right;\">              0.074  </td><td style=\"text-align: right;\">         0.1794</td><td style=\"text-align: right;\">                 0.05742</td><td style=\"text-align: right;\">        0.4467</td><td style=\"text-align: right;\">         0.7732</td><td style=\"text-align: right;\">            3.18 </td><td style=\"text-align: right;\">       53.91</td><td style=\"text-align: right;\">          0.004314</td><td style=\"text-align: right;\">            0.01382</td><td style=\"text-align: right;\">          0.02254</td><td style=\"text-align: right;\">               0.01039</td><td style=\"text-align: right;\">         0.01369</td><td style=\"text-align: right;\">                 0.002179</td><td style=\"text-align: right;\">         22.88</td><td style=\"text-align: right;\">          27.66</td><td style=\"text-align: right;\">           153.2 </td><td style=\"text-align: right;\">      1606  </td><td style=\"text-align: right;\">            0.1442</td><td style=\"text-align: right;\">             0.2576</td><td style=\"text-align: right;\">           0.3784</td><td style=\"text-align: right;\">                0.1932</td><td style=\"text-align: right;\">          0.3063</td><td style=\"text-align: right;\">                  0.08368</td><td style=\"text-align: right;\">       0</td></tr>\n",
       "<tr><td style=\"text-align: right;\">        13.71</td><td style=\"text-align: right;\">         20.83</td><td style=\"text-align: right;\">           90.2 </td><td style=\"text-align: right;\">      577.9</td><td style=\"text-align: right;\">          0.1189 </td><td style=\"text-align: right;\">           0.1645 </td><td style=\"text-align: right;\">         0.09366</td><td style=\"text-align: right;\">              0.05985</td><td style=\"text-align: right;\">         0.2196</td><td style=\"text-align: right;\">                 0.07451</td><td style=\"text-align: right;\">        0.5835</td><td style=\"text-align: right;\">         1.377 </td><td style=\"text-align: right;\">            3.856</td><td style=\"text-align: right;\">       50.96</td><td style=\"text-align: right;\">          0.008805</td><td style=\"text-align: right;\">            0.03029</td><td style=\"text-align: right;\">          0.02488</td><td style=\"text-align: right;\">               0.01448</td><td style=\"text-align: right;\">         0.01486</td><td style=\"text-align: right;\">                 0.005412</td><td style=\"text-align: right;\">         17.06</td><td style=\"text-align: right;\">          28.14</td><td style=\"text-align: right;\">           110.6 </td><td style=\"text-align: right;\">       897  </td><td style=\"text-align: right;\">            0.1654</td><td style=\"text-align: right;\">             0.3682</td><td style=\"text-align: right;\">           0.2678</td><td style=\"text-align: right;\">                0.1556</td><td style=\"text-align: right;\">          0.3196</td><td style=\"text-align: right;\">                  0.1151 </td><td style=\"text-align: right;\">       0</td></tr>\n",
       "<tr><td style=\"text-align: right;\">        13   </td><td style=\"text-align: right;\">         21.82</td><td style=\"text-align: right;\">           87.5 </td><td style=\"text-align: right;\">      519.8</td><td style=\"text-align: right;\">          0.1273 </td><td style=\"text-align: right;\">           0.1932 </td><td style=\"text-align: right;\">         0.1859 </td><td style=\"text-align: right;\">              0.09353</td><td style=\"text-align: right;\">         0.235 </td><td style=\"text-align: right;\">                 0.07389</td><td style=\"text-align: right;\">        0.3063</td><td style=\"text-align: right;\">         1.002 </td><td style=\"text-align: right;\">            2.406</td><td style=\"text-align: right;\">       24.32</td><td style=\"text-align: right;\">          0.005731</td><td style=\"text-align: right;\">            0.03502</td><td style=\"text-align: right;\">          0.03553</td><td style=\"text-align: right;\">               0.01226</td><td style=\"text-align: right;\">         0.02143</td><td style=\"text-align: right;\">                 0.003749</td><td style=\"text-align: right;\">         15.49</td><td style=\"text-align: right;\">          30.73</td><td style=\"text-align: right;\">           106.2 </td><td style=\"text-align: right;\">       739.3</td><td style=\"text-align: right;\">            0.1703</td><td style=\"text-align: right;\">             0.5401</td><td style=\"text-align: right;\">           0.539 </td><td style=\"text-align: right;\">                0.206 </td><td style=\"text-align: right;\">          0.4378</td><td style=\"text-align: right;\">                  0.1072 </td><td style=\"text-align: right;\">       0</td></tr>\n",
       "<tr><td style=\"text-align: right;\">        12.46</td><td style=\"text-align: right;\">         24.04</td><td style=\"text-align: right;\">           83.97</td><td style=\"text-align: right;\">      475.9</td><td style=\"text-align: right;\">          0.1186 </td><td style=\"text-align: right;\">           0.2396 </td><td style=\"text-align: right;\">         0.2273 </td><td style=\"text-align: right;\">              0.08543</td><td style=\"text-align: right;\">         0.203 </td><td style=\"text-align: right;\">                 0.08243</td><td style=\"text-align: right;\">        0.2976</td><td style=\"text-align: right;\">         1.599 </td><td style=\"text-align: right;\">            2.039</td><td style=\"text-align: right;\">       23.94</td><td style=\"text-align: right;\">          0.007149</td><td style=\"text-align: right;\">            0.07217</td><td style=\"text-align: right;\">          0.07743</td><td style=\"text-align: right;\">               0.01432</td><td style=\"text-align: right;\">         0.01789</td><td style=\"text-align: right;\">                 0.01008 </td><td style=\"text-align: right;\">         15.09</td><td style=\"text-align: right;\">          40.68</td><td style=\"text-align: right;\">            97.65</td><td style=\"text-align: right;\">       711.4</td><td style=\"text-align: right;\">            0.1853</td><td style=\"text-align: right;\">             1.058 </td><td style=\"text-align: right;\">           1.105 </td><td style=\"text-align: right;\">                0.221 </td><td style=\"text-align: right;\">          0.4366</td><td style=\"text-align: right;\">                  0.2075 </td><td style=\"text-align: right;\">       0</td></tr>\n",
       "</table>"
      ]
     },
     "metadata": {},
     "output_type": "display_data"
    },
    {
     "data": {
      "text/plain": []
     },
     "execution_count": 6,
     "metadata": {},
     "output_type": "execute_result"
    }
   ],
   "source": [
    "from sklearn.datasets import load_breast_cancer\n",
    "from skutil.h2o.util import from_pandas\n",
    "\n",
    "# import data, load into pandas\n",
    "bc = load_breast_cancer()\n",
    "X = pd.DataFrame.from_records(data=bc.data, columns=bc.feature_names)\n",
    "X['target'] = bc.target\n",
    "\n",
    "# push to h2o cloud\n",
    "X = from_pandas(X)\n",
    "X.head()"
   ]
  },
  {
   "cell_type": "code",
   "execution_count": 7,
   "metadata": {
    "collapsed": true
   },
   "outputs": [],
   "source": [
    "# Here are our feature names:\n",
    "x = bc.feature_names\n",
    "y = 'target'"
   ]
  },
  {
   "cell_type": "markdown",
   "metadata": {},
   "source": [
    "### `skutil.h2o` preprocessing\n",
    "\n",
    "Skutil provides an `h2o` module which delivers some skutil `feature_selection` classes that can operate on an H2OFrame. Each `BaseH2OTransformer` has the following `__init__` signature:\n",
    "\n",
    "    BaseH2OTransformer(self, feature_names=None, target_feature=None)\n",
    "    \n",
    "The selector will only operate on the `feature_names` (if provided) and will always exclude the `target_feature`."
   ]
  },
  {
   "cell_type": "code",
   "execution_count": 8,
   "metadata": {
    "collapsed": false
   },
   "outputs": [
    {
     "data": {
      "text/plain": [
       "['mean fractal dimension',\n",
       " 'smoothness error',\n",
       " 'concave points error',\n",
       " 'symmetry error',\n",
       " 'fractal dimension error']"
      ]
     },
     "execution_count": 8,
     "metadata": {},
     "output_type": "execute_result"
    }
   ],
   "source": [
    "from skutil.h2o import H2ONearZeroVarianceFilterer\n",
    "\n",
    "# Let's determine whether we're at risk for any near-zero variance\n",
    "nzv = H2ONearZeroVarianceFilterer(feature_names=x, target_feature=y, threshold=1e-4)\n",
    "nzv.fit(X)\n",
    "\n",
    "# let's see if anything was dropped...\n",
    "nzv.drop_"
   ]
  },
  {
   "cell_type": "code",
   "execution_count": 9,
   "metadata": {
    "collapsed": false
   },
   "outputs": [
    {
     "data": {
      "text/plain": [
       "[Dropped: mean perimeter, Corr_feature: mean radius, abs_corr: 0.98768, MAC: 0.44299,\n",
       " Dropped: mean radius, Corr_feature: mean area, abs_corr: 0.92430, MAC: 0.41549,\n",
       " Dropped: worst radius, Corr_feature: mean area, abs_corr: 0.86444, MAC: 0.42847,\n",
       " Dropped: worst area, Corr_feature: mean area, abs_corr: 0.86092, MAC: 0.41414,\n",
       " Dropped: worst perimeter, Corr_feature: mean area, abs_corr: 0.85035, MAC: 0.40810,\n",
       " Dropped: perimeter error, Corr_feature: radius error, abs_corr: 0.86796, MAC: 0.39774]"
      ]
     },
     "execution_count": 9,
     "metadata": {},
     "output_type": "execute_result"
    }
   ],
   "source": [
    "from skutil.h2o import H2OMulticollinearityFilterer\n",
    "\n",
    "# Are we at risk of any multicollinearity?\n",
    "mcf = H2OMulticollinearityFilterer(feature_names=x, target_feature=y, threshold=0.85)\n",
    "mcf.fit(X)\n",
    "\n",
    "# we can look at the dropped features\n",
    "mcf.correlations_"
   ]
  },
  {
   "cell_type": "markdown",
   "metadata": {},
   "source": [
    "### `skutil.h2o` modeling\n",
    "\n",
    "Skutil's `h2o` module allows us to form the familiar `Pipeline` objects we're familiar with from sklearn."
   ]
  },
  {
   "cell_type": "code",
   "execution_count": 10,
   "metadata": {
    "collapsed": false
   },
   "outputs": [
    {
     "name": "stdout",
     "output_type": "stream",
     "text": [
      "\n",
      "gbm Model Build Progress: [##################################################] 100%\n",
      "Model Details\n",
      "=============\n",
      "H2OGradientBoostingEstimator :  Gradient Boosting Method\n",
      "Model Key:  GBM_model_python_1472162613332_158\n",
      "\n",
      "Model Summary: \n"
     ]
    },
    {
     "data": {
      "text/html": [
       "<div style=\"overflow:auto\"><table style=\"width:50%\"><tr><td><b></b></td>\n",
       "<td><b>number_of_trees</b></td>\n",
       "<td><b>model_size_in_bytes</b></td>\n",
       "<td><b>min_depth</b></td>\n",
       "<td><b>max_depth</b></td>\n",
       "<td><b>mean_depth</b></td>\n",
       "<td><b>min_leaves</b></td>\n",
       "<td><b>max_leaves</b></td>\n",
       "<td><b>mean_leaves</b></td></tr>\n",
       "<tr><td></td>\n",
       "<td>100.0</td>\n",
       "<td>22858.0</td>\n",
       "<td>5.0</td>\n",
       "<td>5.0</td>\n",
       "<td>5.0</td>\n",
       "<td>11.0</td>\n",
       "<td>21.0</td>\n",
       "<td>14.34</td></tr></table></div>"
      ],
      "text/plain": [
       "    number_of_trees    model_size_in_bytes    min_depth    max_depth    mean_depth    min_leaves    max_leaves    mean_leaves\n",
       "--  -----------------  ---------------------  -----------  -----------  ------------  ------------  ------------  -------------\n",
       "    100                22858                  5            5            5             11            21            14.34"
      ]
     },
     "metadata": {},
     "output_type": "display_data"
    },
    {
     "name": "stdout",
     "output_type": "stream",
     "text": [
      "\n",
      "\n",
      "ModelMetricsBinomial: gbm\n",
      "** Reported on train data. **\n",
      "\n",
      "MSE: 4.30052877528e-06\n",
      "R^2: 0.999981603199\n",
      "LogLoss: 0.000904550820078\n",
      "Mean Per-Class Error: 0.0\n",
      "AUC: 1.0\n",
      "Gini: 1.0\n",
      "\n",
      "Confusion Matrix (Act/Pred) for max f1 @ threshold = 0.991380362086: \n"
     ]
    },
    {
     "data": {
      "text/html": [
       "<div style=\"overflow:auto\"><table style=\"width:50%\"><tr><td><b></b></td>\n",
       "<td><b>0</b></td>\n",
       "<td><b>1</b></td>\n",
       "<td><b>Error</b></td>\n",
       "<td><b>Rate</b></td></tr>\n",
       "<tr><td>0</td>\n",
       "<td>212.0</td>\n",
       "<td>0.0</td>\n",
       "<td>0.0</td>\n",
       "<td> (0.0/212.0)</td></tr>\n",
       "<tr><td>1</td>\n",
       "<td>0.0</td>\n",
       "<td>357.0</td>\n",
       "<td>0.0</td>\n",
       "<td> (0.0/357.0)</td></tr>\n",
       "<tr><td>Total</td>\n",
       "<td>212.0</td>\n",
       "<td>357.0</td>\n",
       "<td>0.0</td>\n",
       "<td> (0.0/569.0)</td></tr></table></div>"
      ],
      "text/plain": [
       "       0    1    Error    Rate\n",
       "-----  ---  ---  -------  -----------\n",
       "0      212  0    0        (0.0/212.0)\n",
       "1      0    357  0        (0.0/357.0)\n",
       "Total  212  357  0        (0.0/569.0)"
      ]
     },
     "metadata": {},
     "output_type": "display_data"
    },
    {
     "name": "stdout",
     "output_type": "stream",
     "text": [
      "\n",
      "Maximum Metrics: Maximum metrics at their respective thresholds\n",
      "\n"
     ]
    },
    {
     "data": {
      "text/html": [
       "<div style=\"overflow:auto\"><table style=\"width:50%\"><tr><td><b>metric</b></td>\n",
       "<td><b>threshold</b></td>\n",
       "<td><b>value</b></td>\n",
       "<td><b>idx</b></td></tr>\n",
       "<tr><td>max f1</td>\n",
       "<td>0.9913804</td>\n",
       "<td>1.0</td>\n",
       "<td>235.0</td></tr>\n",
       "<tr><td>max f2</td>\n",
       "<td>0.9913804</td>\n",
       "<td>1.0</td>\n",
       "<td>235.0</td></tr>\n",
       "<tr><td>max f0point5</td>\n",
       "<td>0.9913804</td>\n",
       "<td>1.0</td>\n",
       "<td>235.0</td></tr>\n",
       "<tr><td>max accuracy</td>\n",
       "<td>0.9913804</td>\n",
       "<td>1.0</td>\n",
       "<td>235.0</td></tr>\n",
       "<tr><td>max precision</td>\n",
       "<td>0.9999623</td>\n",
       "<td>1.0</td>\n",
       "<td>0.0</td></tr>\n",
       "<tr><td>max recall</td>\n",
       "<td>0.9913804</td>\n",
       "<td>1.0</td>\n",
       "<td>235.0</td></tr>\n",
       "<tr><td>max specificity</td>\n",
       "<td>0.9999623</td>\n",
       "<td>1.0</td>\n",
       "<td>0.0</td></tr>\n",
       "<tr><td>max absolute_MCC</td>\n",
       "<td>0.9913804</td>\n",
       "<td>1.0</td>\n",
       "<td>235.0</td></tr>\n",
       "<tr><td>max min_per_class_accuracy</td>\n",
       "<td>0.9913804</td>\n",
       "<td>1.0</td>\n",
       "<td>235.0</td></tr>\n",
       "<tr><td>max mean_per_class_accuracy</td>\n",
       "<td>0.9913804</td>\n",
       "<td>1.0</td>\n",
       "<td>235.0</td></tr></table></div>"
      ],
      "text/plain": [
       "metric                       threshold    value    idx\n",
       "---------------------------  -----------  -------  -----\n",
       "max f1                       0.99138      1        235\n",
       "max f2                       0.99138      1        235\n",
       "max f0point5                 0.99138      1        235\n",
       "max accuracy                 0.99138      1        235\n",
       "max precision                0.999962     1        0\n",
       "max recall                   0.99138      1        235\n",
       "max specificity              0.999962     1        0\n",
       "max absolute_MCC             0.99138      1        235\n",
       "max min_per_class_accuracy   0.99138      1        235\n",
       "max mean_per_class_accuracy  0.99138      1        235"
      ]
     },
     "metadata": {},
     "output_type": "display_data"
    },
    {
     "name": "stdout",
     "output_type": "stream",
     "text": [
      "\n",
      "Gains/Lift Table: Avg response rate: 62.74 %\n",
      "\n"
     ]
    },
    {
     "data": {
      "text/html": [
       "<div style=\"overflow:auto\"><table style=\"width:50%\"><tr><td><b></b></td>\n",
       "<td><b>group</b></td>\n",
       "<td><b>cumulative_data_fraction</b></td>\n",
       "<td><b>lower_threshold</b></td>\n",
       "<td><b>lift</b></td>\n",
       "<td><b>cumulative_lift</b></td>\n",
       "<td><b>response_rate</b></td>\n",
       "<td><b>cumulative_response_rate</b></td>\n",
       "<td><b>capture_rate</b></td>\n",
       "<td><b>cumulative_capture_rate</b></td>\n",
       "<td><b>gain</b></td>\n",
       "<td><b>cumulative_gain</b></td></tr>\n",
       "<tr><td></td>\n",
       "<td>1</td>\n",
       "<td>0.0105448</td>\n",
       "<td>0.9999292</td>\n",
       "<td>1.5938375</td>\n",
       "<td>1.5938375</td>\n",
       "<td>1.0</td>\n",
       "<td>1.0</td>\n",
       "<td>0.0168067</td>\n",
       "<td>0.0168067</td>\n",
       "<td>59.3837535</td>\n",
       "<td>59.3837535</td></tr>\n",
       "<tr><td></td>\n",
       "<td>2</td>\n",
       "<td>0.0210896</td>\n",
       "<td>0.9999260</td>\n",
       "<td>1.5938375</td>\n",
       "<td>1.5938375</td>\n",
       "<td>1.0</td>\n",
       "<td>1.0</td>\n",
       "<td>0.0168067</td>\n",
       "<td>0.0336134</td>\n",
       "<td>59.3837535</td>\n",
       "<td>59.3837535</td></tr>\n",
       "<tr><td></td>\n",
       "<td>3</td>\n",
       "<td>0.0316344</td>\n",
       "<td>0.9999242</td>\n",
       "<td>1.5938375</td>\n",
       "<td>1.5938375</td>\n",
       "<td>1.0</td>\n",
       "<td>1.0</td>\n",
       "<td>0.0168067</td>\n",
       "<td>0.0504202</td>\n",
       "<td>59.3837535</td>\n",
       "<td>59.3837535</td></tr>\n",
       "<tr><td></td>\n",
       "<td>4</td>\n",
       "<td>0.0404218</td>\n",
       "<td>0.9999224</td>\n",
       "<td>1.5938375</td>\n",
       "<td>1.5938375</td>\n",
       "<td>1.0</td>\n",
       "<td>1.0</td>\n",
       "<td>0.0140056</td>\n",
       "<td>0.0644258</td>\n",
       "<td>59.3837535</td>\n",
       "<td>59.3837535</td></tr>\n",
       "<tr><td></td>\n",
       "<td>5</td>\n",
       "<td>0.0509666</td>\n",
       "<td>0.9999185</td>\n",
       "<td>1.5938375</td>\n",
       "<td>1.5938375</td>\n",
       "<td>1.0</td>\n",
       "<td>1.0</td>\n",
       "<td>0.0168067</td>\n",
       "<td>0.0812325</td>\n",
       "<td>59.3837535</td>\n",
       "<td>59.3837535</td></tr>\n",
       "<tr><td></td>\n",
       "<td>6</td>\n",
       "<td>0.1001757</td>\n",
       "<td>0.9999035</td>\n",
       "<td>1.5938375</td>\n",
       "<td>1.5938375</td>\n",
       "<td>1.0</td>\n",
       "<td>1.0</td>\n",
       "<td>0.0784314</td>\n",
       "<td>0.1596639</td>\n",
       "<td>59.3837535</td>\n",
       "<td>59.3837535</td></tr>\n",
       "<tr><td></td>\n",
       "<td>7</td>\n",
       "<td>0.1511424</td>\n",
       "<td>0.9998905</td>\n",
       "<td>1.5938375</td>\n",
       "<td>1.5938375</td>\n",
       "<td>1.0</td>\n",
       "<td>1.0</td>\n",
       "<td>0.0812325</td>\n",
       "<td>0.2408964</td>\n",
       "<td>59.3837535</td>\n",
       "<td>59.3837535</td></tr>\n",
       "<tr><td></td>\n",
       "<td>8</td>\n",
       "<td>0.2003515</td>\n",
       "<td>0.9998765</td>\n",
       "<td>1.5938375</td>\n",
       "<td>1.5938375</td>\n",
       "<td>1.0</td>\n",
       "<td>1.0</td>\n",
       "<td>0.0784314</td>\n",
       "<td>0.3193277</td>\n",
       "<td>59.3837535</td>\n",
       "<td>59.3837535</td></tr>\n",
       "<tr><td></td>\n",
       "<td>9</td>\n",
       "<td>0.3005272</td>\n",
       "<td>0.9998302</td>\n",
       "<td>1.5938375</td>\n",
       "<td>1.5938375</td>\n",
       "<td>1.0</td>\n",
       "<td>1.0</td>\n",
       "<td>0.1596639</td>\n",
       "<td>0.4789916</td>\n",
       "<td>59.3837535</td>\n",
       "<td>59.3837535</td></tr>\n",
       "<tr><td></td>\n",
       "<td>10</td>\n",
       "<td>0.4007030</td>\n",
       "<td>0.9997156</td>\n",
       "<td>1.5938375</td>\n",
       "<td>1.5938375</td>\n",
       "<td>1.0</td>\n",
       "<td>1.0</td>\n",
       "<td>0.1596639</td>\n",
       "<td>0.6386555</td>\n",
       "<td>59.3837535</td>\n",
       "<td>59.3837535</td></tr>\n",
       "<tr><td></td>\n",
       "<td>11</td>\n",
       "<td>0.5008787</td>\n",
       "<td>0.9992715</td>\n",
       "<td>1.5938375</td>\n",
       "<td>1.5938375</td>\n",
       "<td>1.0</td>\n",
       "<td>1.0</td>\n",
       "<td>0.1596639</td>\n",
       "<td>0.7983193</td>\n",
       "<td>59.3837535</td>\n",
       "<td>59.3837535</td></tr>\n",
       "<tr><td></td>\n",
       "<td>12</td>\n",
       "<td>0.5992970</td>\n",
       "<td>0.9957086</td>\n",
       "<td>1.5938375</td>\n",
       "<td>1.5938375</td>\n",
       "<td>1.0</td>\n",
       "<td>1.0</td>\n",
       "<td>0.1568627</td>\n",
       "<td>0.9551821</td>\n",
       "<td>59.3837535</td>\n",
       "<td>59.3837535</td></tr>\n",
       "<tr><td></td>\n",
       "<td>13</td>\n",
       "<td>0.6994728</td>\n",
       "<td>0.0016298</td>\n",
       "<td>0.4473930</td>\n",
       "<td>1.4296482</td>\n",
       "<td>0.2807018</td>\n",
       "<td>0.8969849</td>\n",
       "<td>0.0448179</td>\n",
       "<td>1.0</td>\n",
       "<td>-55.2607008</td>\n",
       "<td>42.9648241</td></tr>\n",
       "<tr><td></td>\n",
       "<td>14</td>\n",
       "<td>0.7996485</td>\n",
       "<td>0.0002592</td>\n",
       "<td>0.0</td>\n",
       "<td>1.2505495</td>\n",
       "<td>0.0</td>\n",
       "<td>0.7846154</td>\n",
       "<td>0.0</td>\n",
       "<td>1.0</td>\n",
       "<td>-100.0</td>\n",
       "<td>25.0549451</td></tr>\n",
       "<tr><td></td>\n",
       "<td>15</td>\n",
       "<td>0.8998243</td>\n",
       "<td>0.0001098</td>\n",
       "<td>0.0</td>\n",
       "<td>1.1113281</td>\n",
       "<td>0.0</td>\n",
       "<td>0.6972656</td>\n",
       "<td>0.0</td>\n",
       "<td>1.0</td>\n",
       "<td>-100.0</td>\n",
       "<td>11.1328125</td></tr>\n",
       "<tr><td></td>\n",
       "<td>16</td>\n",
       "<td>1.0</td>\n",
       "<td>0.0000755</td>\n",
       "<td>0.0</td>\n",
       "<td>1.0</td>\n",
       "<td>0.0</td>\n",
       "<td>0.6274165</td>\n",
       "<td>0.0</td>\n",
       "<td>1.0</td>\n",
       "<td>-100.0</td>\n",
       "<td>0.0</td></tr></table></div>"
      ],
      "text/plain": [
       "    group    cumulative_data_fraction    lower_threshold    lift      cumulative_lift    response_rate    cumulative_response_rate    capture_rate    cumulative_capture_rate    gain      cumulative_gain\n",
       "--  -------  --------------------------  -----------------  --------  -----------------  ---------------  --------------------------  --------------  -------------------------  --------  -----------------\n",
       "    1        0.0105448                   0.999929           1.59384   1.59384            1                1                           0.0168067       0.0168067                  59.3838   59.3838\n",
       "    2        0.0210896                   0.999926           1.59384   1.59384            1                1                           0.0168067       0.0336134                  59.3838   59.3838\n",
       "    3        0.0316344                   0.999924           1.59384   1.59384            1                1                           0.0168067       0.0504202                  59.3838   59.3838\n",
       "    4        0.0404218                   0.999922           1.59384   1.59384            1                1                           0.0140056       0.0644258                  59.3838   59.3838\n",
       "    5        0.0509666                   0.999918           1.59384   1.59384            1                1                           0.0168067       0.0812325                  59.3838   59.3838\n",
       "    6        0.100176                    0.999904           1.59384   1.59384            1                1                           0.0784314       0.159664                   59.3838   59.3838\n",
       "    7        0.151142                    0.999891           1.59384   1.59384            1                1                           0.0812325       0.240896                   59.3838   59.3838\n",
       "    8        0.200351                    0.999877           1.59384   1.59384            1                1                           0.0784314       0.319328                   59.3838   59.3838\n",
       "    9        0.300527                    0.99983            1.59384   1.59384            1                1                           0.159664        0.478992                   59.3838   59.3838\n",
       "    10       0.400703                    0.999716           1.59384   1.59384            1                1                           0.159664        0.638655                   59.3838   59.3838\n",
       "    11       0.500879                    0.999272           1.59384   1.59384            1                1                           0.159664        0.798319                   59.3838   59.3838\n",
       "    12       0.599297                    0.995709           1.59384   1.59384            1                1                           0.156863        0.955182                   59.3838   59.3838\n",
       "    13       0.699473                    0.00162977         0.447393  1.42965            0.280702         0.896985                    0.0448179       1                          -55.2607  42.9648\n",
       "    14       0.799649                    0.000259237        0         1.25055            0                0.784615                    0               1                          -100      25.0549\n",
       "    15       0.899824                    0.000109778        0         1.11133            0                0.697266                    0               1                          -100      11.1328\n",
       "    16       1                           7.54538e-05        0         1                  0                0.627417                    0               1                          -100      0"
      ]
     },
     "metadata": {},
     "output_type": "display_data"
    },
    {
     "name": "stdout",
     "output_type": "stream",
     "text": [
      "\n",
      "\n",
      "Scoring History: \n"
     ]
    },
    {
     "data": {
      "text/html": [
       "<div style=\"overflow:auto\"><table style=\"width:50%\"><tr><td><b></b></td>\n",
       "<td><b>timestamp</b></td>\n",
       "<td><b>duration</b></td>\n",
       "<td><b>number_of_trees</b></td>\n",
       "<td><b>training_MSE</b></td>\n",
       "<td><b>training_logloss</b></td>\n",
       "<td><b>training_AUC</b></td>\n",
       "<td><b>training_lift</b></td>\n",
       "<td><b>training_classification_error</b></td></tr>\n",
       "<tr><td></td>\n",
       "<td>2016-08-25 17:26:43</td>\n",
       "<td> 0.021 sec</td>\n",
       "<td>0.0</td>\n",
       "<td>0.2337650</td>\n",
       "<td>0.6603163</td>\n",
       "<td>0.5</td>\n",
       "<td>1.0</td>\n",
       "<td>0.3725835</td></tr>\n",
       "<tr><td></td>\n",
       "<td>2016-08-25 17:26:43</td>\n",
       "<td> 0.088 sec</td>\n",
       "<td>1.0</td>\n",
       "<td>0.1937925</td>\n",
       "<td>0.5756179</td>\n",
       "<td>0.9954746</td>\n",
       "<td>1.5938375</td>\n",
       "<td>0.0333919</td></tr>\n",
       "<tr><td></td>\n",
       "<td>2016-08-25 17:26:43</td>\n",
       "<td> 0.112 sec</td>\n",
       "<td>2.0</td>\n",
       "<td>0.1618213</td>\n",
       "<td>0.5078971</td>\n",
       "<td>0.9958578</td>\n",
       "<td>1.5938375</td>\n",
       "<td>0.0333919</td></tr>\n",
       "<tr><td></td>\n",
       "<td>2016-08-25 17:26:43</td>\n",
       "<td> 0.142 sec</td>\n",
       "<td>3.0</td>\n",
       "<td>0.1362215</td>\n",
       "<td>0.4525288</td>\n",
       "<td>0.9961088</td>\n",
       "<td>1.5938375</td>\n",
       "<td>0.0333919</td></tr>\n",
       "<tr><td></td>\n",
       "<td>2016-08-25 17:26:43</td>\n",
       "<td> 0.166 sec</td>\n",
       "<td>4.0</td>\n",
       "<td>0.1154403</td>\n",
       "<td>0.4061016</td>\n",
       "<td>0.9974830</td>\n",
       "<td>1.5938375</td>\n",
       "<td>0.0263620</td></tr>\n",
       "<tr><td>---</td>\n",
       "<td>---</td>\n",
       "<td>---</td>\n",
       "<td>---</td>\n",
       "<td>---</td>\n",
       "<td>---</td>\n",
       "<td>---</td>\n",
       "<td>---</td>\n",
       "<td>---</td></tr>\n",
       "<tr><td></td>\n",
       "<td>2016-08-25 17:26:47</td>\n",
       "<td> 3.883 sec</td>\n",
       "<td>93.0</td>\n",
       "<td>0.0000085</td>\n",
       "<td>0.0013059</td>\n",
       "<td>1.0</td>\n",
       "<td>1.5938375</td>\n",
       "<td>0.0</td></tr>\n",
       "<tr><td></td>\n",
       "<td>2016-08-25 17:26:47</td>\n",
       "<td> 3.929 sec</td>\n",
       "<td>94.0</td>\n",
       "<td>0.0000075</td>\n",
       "<td>0.0012305</td>\n",
       "<td>1.0</td>\n",
       "<td>1.5938375</td>\n",
       "<td>0.0</td></tr>\n",
       "<tr><td></td>\n",
       "<td>2016-08-25 17:26:47</td>\n",
       "<td> 3.970 sec</td>\n",
       "<td>95.0</td>\n",
       "<td>0.0000071</td>\n",
       "<td>0.0011802</td>\n",
       "<td>1.0</td>\n",
       "<td>1.5938375</td>\n",
       "<td>0.0</td></tr>\n",
       "<tr><td></td>\n",
       "<td>2016-08-25 17:26:47</td>\n",
       "<td> 4.013 sec</td>\n",
       "<td>96.0</td>\n",
       "<td>0.0000065</td>\n",
       "<td>0.0011215</td>\n",
       "<td>1.0</td>\n",
       "<td>1.5938375</td>\n",
       "<td>0.0</td></tr>\n",
       "<tr><td></td>\n",
       "<td>2016-08-25 17:26:47</td>\n",
       "<td> 4.086 sec</td>\n",
       "<td>100.0</td>\n",
       "<td>0.0000043</td>\n",
       "<td>0.0009046</td>\n",
       "<td>1.0</td>\n",
       "<td>1.5938375</td>\n",
       "<td>0.0</td></tr></table></div>"
      ],
      "text/plain": [
       "     timestamp            duration    number_of_trees    training_MSE       training_logloss    training_AUC    training_lift    training_classification_error\n",
       "---  -------------------  ----------  -----------------  -----------------  ------------------  --------------  ---------------  -------------------------------\n",
       "     2016-08-25 17:26:43  0.021 sec   0.0                0.233765030377     0.660316349195      0.5             1.0              0.372583479789\n",
       "     2016-08-25 17:26:43  0.088 sec   1.0                0.193792545        0.57561791854       0.995474604936  1.59383753501    0.0333919156415\n",
       "     2016-08-25 17:26:43  0.112 sec   2.0                0.16182134924      0.507897124849      0.995857777073  1.59383753501    0.0333919156415\n",
       "     2016-08-25 17:26:43  0.142 sec   3.0                0.136221531245     0.452528797274      0.996108820887  1.59383753501    0.0333919156415\n",
       "     2016-08-25 17:26:43  0.166 sec   4.0                0.115440295778     0.406101552519      0.997482955446  1.59383753501    0.0263620386643\n",
       "---  ---                  ---         ---                ---                ---                 ---             ---              ---\n",
       "     2016-08-25 17:26:47  3.883 sec   93.0               8.50487422355e-06  0.00130592492721    1.0             1.59383753501    0.0\n",
       "     2016-08-25 17:26:47  3.929 sec   94.0               7.51568495617e-06  0.00123049458413    1.0             1.59383753501    0.0\n",
       "     2016-08-25 17:26:47  3.970 sec   95.0               7.1109583694e-06   0.00118023730165    1.0             1.59383753501    0.0\n",
       "     2016-08-25 17:26:47  4.013 sec   96.0               6.50710948914e-06  0.00112145836899    1.0             1.59383753501    0.0\n",
       "     2016-08-25 17:26:47  4.086 sec   100.0              4.30052877528e-06  0.000904550820078   1.0             1.59383753501    0.0"
      ]
     },
     "metadata": {},
     "output_type": "display_data"
    },
    {
     "name": "stdout",
     "output_type": "stream",
     "text": [
      "\n",
      "See the whole table with table.as_data_frame()\n",
      "\n",
      "Variable Importances: \n"
     ]
    },
    {
     "data": {
      "text/html": [
       "<div style=\"overflow:auto\"><table style=\"width:50%\"><tr><td><b>variable</b></td>\n",
       "<td><b>relative_importance</b></td>\n",
       "<td><b>scaled_importance</b></td>\n",
       "<td><b>percentage</b></td></tr>\n",
       "<tr><td>worst concave points</td>\n",
       "<td>339.9634094</td>\n",
       "<td>1.0</td>\n",
       "<td>0.4903696</td></tr>\n",
       "<tr><td>mean concave points</td>\n",
       "<td>174.8574219</td>\n",
       "<td>0.5143419</td>\n",
       "<td>0.2522176</td></tr>\n",
       "<tr><td>mean area</td>\n",
       "<td>69.1228027</td>\n",
       "<td>0.2033242</td>\n",
       "<td>0.0997040</td></tr>\n",
       "<tr><td>area error</td>\n",
       "<td>22.9399433</td>\n",
       "<td>0.0674777</td>\n",
       "<td>0.0330890</td></tr>\n",
       "<tr><td>worst texture</td>\n",
       "<td>22.6568584</td>\n",
       "<td>0.0666450</td>\n",
       "<td>0.0326807</td></tr>\n",
       "<tr><td>mean texture</td>\n",
       "<td>21.4273739</td>\n",
       "<td>0.0630285</td>\n",
       "<td>0.0309072</td></tr>\n",
       "<tr><td>worst concavity</td>\n",
       "<td>14.1138000</td>\n",
       "<td>0.0415156</td>\n",
       "<td>0.0203580</td></tr>\n",
       "<tr><td>worst fractal dimension</td>\n",
       "<td>8.6100378</td>\n",
       "<td>0.0253264</td>\n",
       "<td>0.0124193</td></tr>\n",
       "<tr><td>worst smoothness</td>\n",
       "<td>5.1607580</td>\n",
       "<td>0.0151803</td>\n",
       "<td>0.0074440</td></tr>\n",
       "<tr><td>compactness error</td>\n",
       "<td>5.0519552</td>\n",
       "<td>0.0148603</td>\n",
       "<td>0.0072870</td></tr>\n",
       "<tr><td>concavity error</td>\n",
       "<td>2.4869113</td>\n",
       "<td>0.0073152</td>\n",
       "<td>0.0035872</td></tr>\n",
       "<tr><td>radius error</td>\n",
       "<td>1.4660686</td>\n",
       "<td>0.0043124</td>\n",
       "<td>0.0021147</td></tr>\n",
       "<tr><td>worst symmetry</td>\n",
       "<td>1.4489311</td>\n",
       "<td>0.0042620</td>\n",
       "<td>0.0020900</td></tr>\n",
       "<tr><td>mean compactness</td>\n",
       "<td>1.2297516</td>\n",
       "<td>0.0036173</td>\n",
       "<td>0.0017738</td></tr>\n",
       "<tr><td>mean concavity</td>\n",
       "<td>1.0249147</td>\n",
       "<td>0.0030148</td>\n",
       "<td>0.0014784</td></tr>\n",
       "<tr><td>worst compactness</td>\n",
       "<td>0.6486113</td>\n",
       "<td>0.0019079</td>\n",
       "<td>0.0009356</td></tr>\n",
       "<tr><td>mean smoothness</td>\n",
       "<td>0.5602547</td>\n",
       "<td>0.0016480</td>\n",
       "<td>0.0008081</td></tr>\n",
       "<tr><td>texture error</td>\n",
       "<td>0.2717412</td>\n",
       "<td>0.0007993</td>\n",
       "<td>0.0003920</td></tr>\n",
       "<tr><td>mean symmetry</td>\n",
       "<td>0.2384348</td>\n",
       "<td>0.0007014</td>\n",
       "<td>0.0003439</td></tr></table></div>"
      ],
      "text/plain": [
       "variable                 relative_importance    scaled_importance    percentage\n",
       "-----------------------  ---------------------  -------------------  ------------\n",
       "worst concave points     339.963                1                    0.49037\n",
       "mean concave points      174.857                0.514342             0.252218\n",
       "mean area                69.1228                0.203324             0.099704\n",
       "area error               22.9399                0.0674777            0.033089\n",
       "worst texture            22.6569                0.066645             0.0326807\n",
       "mean texture             21.4274                0.0630285            0.0309072\n",
       "worst concavity          14.1138                0.0415156            0.020358\n",
       "worst fractal dimension  8.61004                0.0253264            0.0124193\n",
       "worst smoothness         5.16076                0.0151803            0.00744397\n",
       "compactness error        5.05196                0.0148603            0.00728703\n",
       "concavity error          2.48691                0.00731523           0.00358717\n",
       "radius error             1.46607                0.00431243           0.00211468\n",
       "worst symmetry           1.44893                0.00426202           0.00208997\n",
       "mean compactness         1.22975                0.00361731           0.00177382\n",
       "mean concavity           1.02491                0.00301478           0.00147836\n",
       "worst compactness        0.648611               0.00190789           0.000935569\n",
       "mean smoothness          0.560255               0.00164799           0.000808122\n",
       "texture error            0.271741               0.000799325          0.000391965\n",
       "mean symmetry            0.238435               0.000701354          0.000343923"
      ]
     },
     "metadata": {},
     "output_type": "display_data"
    },
    {
     "data": {
      "text/plain": [
       "H2OPipeline(feature_names=array(['mean radius', 'mean texture', 'mean perimeter', 'mean area',\n",
       "       'mean smoothness', 'mean compactness', 'mean concavity',\n",
       "       'mean concave points', 'mean symmetry', 'mean fractal dimension',\n",
       "       'radius error', 'texture error', 'perimeter error', 'area error',\n",
       "       ...',\n",
       "       'worst concave points', 'worst symmetry', 'worst fractal dimension'],\n",
       "      dtype='|S23'),\n",
       "      steps=[('nzv', H2ONearZeroVarianceFilterer(feature_names=array(['mean radius', 'mean texture', 'mean perimeter', 'mean area',\n",
       "       'mean smoothness', 'mean compactness', 'mean concavity',\n",
       "       'mean concave points', 'mean symmetry', 'mean fractal dimension',\n",
       "       'radius error', 'texture error..._warn=True, target_feature='target',\n",
       "               threshold=0.85, use='complete.obs')), ('gbm', )],\n",
       "      target_feature='target')"
      ]
     },
     "execution_count": 10,
     "metadata": {},
     "output_type": "execute_result"
    }
   ],
   "source": [
    "from skutil.h2o import H2OPipeline\n",
    "from h2o.estimators import H2OGradientBoostingEstimator\n",
    "\n",
    "# first, let's make sure our target is a factor\n",
    "X[y] = X[y].asfactor()\n",
    "\n",
    "# let's fit a pipeline with our estimator...\n",
    "pipe = H2OPipeline([\n",
    "        ('nzv', H2ONearZeroVarianceFilterer(threshold=1e-4)),\n",
    "        ('mcf', H2OMulticollinearityFilterer(threshold=0.85)),\n",
    "        ('gbm', H2OGradientBoostingEstimator(ntrees=100, max_depth=5))\n",
    "    ], feature_names=x, target_feature=y)\n",
    "\n",
    "# fit...\n",
    "pipe.fit(X)"
   ]
  },
  {
   "cell_type": "markdown",
   "metadata": {},
   "source": [
    "### Hyperparameter optimization\n",
    "\n",
    "We can use `sklearn`-esque grid searches, which also allow us to search over preprocessor objects"
   ]
  },
  {
   "cell_type": "code",
   "execution_count": 16,
   "metadata": {
    "collapsed": false
   },
   "outputs": [
    {
     "name": "stdout",
     "output_type": "stream",
     "text": [
      "[CV (iter 0, fold 0)] Target: target; gbm__min_rows=25, gbm__ntrees=77, mcf__threshold=0.861308734677, nzv__threshold=0.00963745820847, gbm__max_depth=8, gbm__learn_rate=0.0284011902442 \n",
      "\n",
      "gbm Model Build Progress: [##################################################] 100%\n",
      "\n",
      "gbm prediction Progress: [##################################################] 100%\n",
      "\n",
      "[CV (iter 0, fold 0)]  Target: target; gbm__min_rows=25, gbm__ntrees=77, mcf__threshold=0.861308734677, nzv__threshold=0.00963745820847, gbm__max_depth=8, gbm__learn_rate=0.0284011902442 -   3.7s\n",
      "\n",
      "\n",
      "[CV (iter 0, fold 1)] Target: target; gbm__min_rows=25, gbm__ntrees=77, mcf__threshold=0.861308734677, nzv__threshold=0.00963745820847, gbm__max_depth=8, gbm__learn_rate=0.0284011902442 \n",
      "\n",
      "gbm Model Build Progress: [##################################################] 100%\n",
      "\n",
      "gbm prediction Progress: [##################################################] 100%\n",
      "\n",
      "[CV (iter 0, fold 1)]  Target: target; gbm__min_rows=25, gbm__ntrees=77, mcf__threshold=0.861308734677, nzv__threshold=0.00963745820847, gbm__max_depth=8, gbm__learn_rate=0.0284011902442 -   3.7s\n",
      "\n",
      "\n",
      "[CV (iter 0, fold 2)] Target: target; gbm__min_rows=25, gbm__ntrees=77, mcf__threshold=0.861308734677, nzv__threshold=0.00963745820847, gbm__max_depth=8, gbm__learn_rate=0.0284011902442 \n",
      "\n",
      "gbm Model Build Progress: [##################################################] 100%\n",
      "\n",
      "gbm prediction Progress: [##################################################] 100%\n",
      "\n",
      "[CV (iter 0, fold 2)]  Target: target; gbm__min_rows=25, gbm__ntrees=77, mcf__threshold=0.861308734677, nzv__threshold=0.00963745820847, gbm__max_depth=8, gbm__learn_rate=0.0284011902442 -   4.2s\n",
      "\n",
      "\n",
      "[CV (iter 1, fold 0)] Target: target; gbm__min_rows=48, gbm__ntrees=60, mcf__threshold=0.960508436484, nzv__threshold=0.0027749200736, gbm__max_depth=3, gbm__learn_rate=0.0688716619604 \n",
      "\n",
      "gbm Model Build Progress: [##################################################] 100%\n",
      "\n",
      "gbm prediction Progress: [##################################################] 100%\n",
      "\n",
      "[CV (iter 1, fold 0)]  Target: target; gbm__min_rows=48, gbm__ntrees=60, mcf__threshold=0.960508436484, nzv__threshold=0.0027749200736, gbm__max_depth=3, gbm__learn_rate=0.0688716619604 -   3.1s\n",
      "\n",
      "\n",
      "[CV (iter 1, fold 1)] Target: target; gbm__min_rows=48, gbm__ntrees=60, mcf__threshold=0.960508436484, nzv__threshold=0.0027749200736, gbm__max_depth=3, gbm__learn_rate=0.0688716619604 \n",
      "\n",
      "gbm Model Build Progress: [##################################################] 100%\n",
      "\n",
      "gbm prediction Progress: [##################################################] 100%\n",
      "\n",
      "[CV (iter 1, fold 1)]  Target: target; gbm__min_rows=48, gbm__ntrees=60, mcf__threshold=0.960508436484, nzv__threshold=0.0027749200736, gbm__max_depth=3, gbm__learn_rate=0.0688716619604 -   3.1s\n",
      "\n",
      "\n",
      "[CV (iter 1, fold 2)] Target: target; gbm__min_rows=48, gbm__ntrees=60, mcf__threshold=0.960508436484, nzv__threshold=0.0027749200736, gbm__max_depth=3, gbm__learn_rate=0.0688716619604 \n",
      "\n",
      "gbm Model Build Progress: [##################################################] 100%\n",
      "\n",
      "gbm prediction Progress: [##################################################] 100%\n",
      "\n",
      "[CV (iter 1, fold 2)]  Target: target; gbm__min_rows=48, gbm__ntrees=60, mcf__threshold=0.960508436484, nzv__threshold=0.0027749200736, gbm__max_depth=3, gbm__learn_rate=0.0688716619604 -   3.1s\n",
      "\n",
      "\n",
      "[CV (iter 2, fold 0)] Target: target; gbm__min_rows=37, gbm__ntrees=99, mcf__threshold=0.753287465773, nzv__threshold=0.00404613217534, gbm__max_depth=4, gbm__learn_rate=0.0898719721188 \n",
      "\n",
      "gbm Model Build Progress: [##################################################] 100%\n",
      "\n",
      "gbm prediction Progress: [##################################################] 100%\n",
      "\n",
      "[CV (iter 2, fold 0)]  Target: target; gbm__min_rows=37, gbm__ntrees=99, mcf__threshold=0.753287465773, nzv__threshold=0.00404613217534, gbm__max_depth=4, gbm__learn_rate=0.0898719721188 -   4.2s\n",
      "\n",
      "\n",
      "[CV (iter 2, fold 1)] Target: target; gbm__min_rows=37, gbm__ntrees=99, mcf__threshold=0.753287465773, nzv__threshold=0.00404613217534, gbm__max_depth=4, gbm__learn_rate=0.0898719721188 \n",
      "\n",
      "gbm Model Build Progress: [##################################################] 100%\n",
      "\n",
      "gbm prediction Progress: [##################################################] 100%\n",
      "\n",
      "[CV (iter 2, fold 1)]  Target: target; gbm__min_rows=37, gbm__ntrees=99, mcf__threshold=0.753287465773, nzv__threshold=0.00404613217534, gbm__max_depth=4, gbm__learn_rate=0.0898719721188 -   4.2s\n",
      "\n",
      "\n",
      "[CV (iter 2, fold 2)] Target: target; gbm__min_rows=37, gbm__ntrees=99, mcf__threshold=0.753287465773, nzv__threshold=0.00404613217534, gbm__max_depth=4, gbm__learn_rate=0.0898719721188 \n",
      "\n",
      "gbm Model Build Progress: [##################################################] 100%\n",
      "\n",
      "gbm prediction Progress: [##################################################] 100%\n",
      "\n",
      "[CV (iter 2, fold 2)]  Target: target; gbm__min_rows=37, gbm__ntrees=99, mcf__threshold=0.753287465773, nzv__threshold=0.00404613217534, gbm__max_depth=4, gbm__learn_rate=0.0898719721188 -   4.3s\n",
      "\n",
      "\n",
      "[CV (iter 3, fold 0)] Target: target; gbm__min_rows=49, gbm__ntrees=82, mcf__threshold=0.779440824713, nzv__threshold=0.00996273039763, gbm__max_depth=4, gbm__learn_rate=0.0586914951561 \n",
      "\n",
      "gbm Model Build Progress: [##################################################] 100%\n",
      "\n",
      "gbm prediction Progress: [##################################################] 100%\n",
      "\n",
      "[CV (iter 3, fold 0)]  Target: target; gbm__min_rows=49, gbm__ntrees=82, mcf__threshold=0.779440824713, nzv__threshold=0.00996273039763, gbm__max_depth=4, gbm__learn_rate=0.0586914951561 -   3.6s\n",
      "\n",
      "\n",
      "[CV (iter 3, fold 1)] Target: target; gbm__min_rows=49, gbm__ntrees=82, mcf__threshold=0.779440824713, nzv__threshold=0.00996273039763, gbm__max_depth=4, gbm__learn_rate=0.0586914951561 \n",
      "\n",
      "gbm Model Build Progress: [##################################################] 100%\n",
      "\n",
      "gbm prediction Progress: [##################################################] 100%\n",
      "\n",
      "[CV (iter 3, fold 1)]  Target: target; gbm__min_rows=49, gbm__ntrees=82, mcf__threshold=0.779440824713, nzv__threshold=0.00996273039763, gbm__max_depth=4, gbm__learn_rate=0.0586914951561 -   3.6s\n",
      "\n",
      "\n",
      "[CV (iter 3, fold 2)] Target: target; gbm__min_rows=49, gbm__ntrees=82, mcf__threshold=0.779440824713, nzv__threshold=0.00996273039763, gbm__max_depth=4, gbm__learn_rate=0.0586914951561 \n",
      "\n",
      "gbm Model Build Progress: [##################################################] 100%\n",
      "\n",
      "gbm prediction Progress: [##################################################] 100%\n",
      "\n",
      "[CV (iter 3, fold 2)]  Target: target; gbm__min_rows=49, gbm__ntrees=82, mcf__threshold=0.779440824713, nzv__threshold=0.00996273039763, gbm__max_depth=4, gbm__learn_rate=0.0586914951561 -   3.7s\n",
      "\n",
      "\n",
      "[CV (iter 4, fold 0)] Target: target; gbm__min_rows=6, gbm__ntrees=93, mcf__threshold=0.729273036965, nzv__threshold=0.00489635870334, gbm__max_depth=3, gbm__learn_rate=0.0935228487987 \n",
      "\n",
      "gbm Model Build Progress: [##################################################] 100%\n",
      "\n",
      "gbm prediction Progress: [##################################################] 100%\n",
      "\n",
      "[CV (iter 4, fold 0)]  Target: target; gbm__min_rows=6, gbm__ntrees=93, mcf__threshold=0.729273036965, nzv__threshold=0.00489635870334, gbm__max_depth=3, gbm__learn_rate=0.0935228487987 -   3.8s\n",
      "\n",
      "\n",
      "[CV (iter 4, fold 1)] Target: target; gbm__min_rows=6, gbm__ntrees=93, mcf__threshold=0.729273036965, nzv__threshold=0.00489635870334, gbm__max_depth=3, gbm__learn_rate=0.0935228487987 \n",
      "\n",
      "gbm Model Build Progress: [##################################################] 100%\n",
      "\n",
      "gbm prediction Progress: [##################################################] 100%\n",
      "\n",
      "[CV (iter 4, fold 1)]  Target: target; gbm__min_rows=6, gbm__ntrees=93, mcf__threshold=0.729273036965, nzv__threshold=0.00489635870334, gbm__max_depth=3, gbm__learn_rate=0.0935228487987 -   3.7s\n",
      "\n",
      "\n",
      "[CV (iter 4, fold 2)] Target: target; gbm__min_rows=6, gbm__ntrees=93, mcf__threshold=0.729273036965, nzv__threshold=0.00489635870334, gbm__max_depth=3, gbm__learn_rate=0.0935228487987 \n",
      "\n",
      "gbm Model Build Progress: [##################################################] 100%\n",
      "\n",
      "gbm prediction Progress: [##################################################] 100%\n",
      "\n",
      "[CV (iter 4, fold 2)]  Target: target; gbm__min_rows=6, gbm__ntrees=93, mcf__threshold=0.729273036965, nzv__threshold=0.00489635870334, gbm__max_depth=3, gbm__learn_rate=0.0935228487987 -   3.6s\n",
      "\n",
      "\n",
      "[BEST] Target: target; gbm__min_rows=48, gbm__ntrees=60, mcf__threshold=0.960508436484, nzv__threshold=0.0027749200736, gbm__max_depth=3, gbm__learn_rate=0.0688716619604 \n",
      "\n",
      "gbm Model Build Progress: [##################################################] 100%\n",
      "No model trained yet\n"
     ]
    },
    {
     "data": {
      "text/plain": [
       "H2ORandomizedSearchCV(cv=H2OKFold(n_folds=3, random_state=42, shuffle=True),\n",
       "           estimator=H2OPipeline(feature_names=None,\n",
       "      steps=[('nzv', H2ONearZeroVarianceFilterer(feature_names=None, na_rm=False, na_warn=True,\n",
       "              target_feature=None, threshold=1e-06, use='complete.obs')), ('mcf', H2OMulticollinearityFilterer(feature_names=None, na_rm=False, na_warn=True,\n",
       "               target_feature=None, threshold=0.85, use='complete.obs')), ('gbm', )],\n",
       "      target_feature=None),\n",
       "           feature_names=['mean radius', 'mean texture', 'mean perimeter', 'mean area', 'mean smoothness', 'mean compactness', 'mean concavity', 'mean concave points', 'mean symmetry', 'mean fractal dimension', 'radius error', 'texture error', 'perimeter error', 'area error', 'smoothness error', 'compactness e...ompactness', 'worst concavity', 'worst concave points', 'worst symmetry', 'worst fractal dimension'],\n",
       "           iid=True, n_iter=5, n_jobs=1,\n",
       "           param_grid={'mcf__threshold': <scipy.stats._distn_infrastructure.rv_frozen object at 0x118555c90>, 'gbm__ntrees': <scipy.stats._distn_infrastructure.rv_frozen object at 0x118555f50>, 'gbm__min_rows': <scipy.stats._distn_infrastructure.rv_frozen object at 0x11857b610>, 'nzv__threshold': <scipy.stats....x11857b1d0>, 'gbm__learn_rate': <scipy.stats._distn_infrastructure.rv_frozen object at 0x11857b110>},\n",
       "           random_state=42, scoring='accuracy_score', scoring_params={},\n",
       "           target_feature='target', validation_frame=None, verbose=2)"
      ]
     },
     "execution_count": 16,
     "metadata": {},
     "output_type": "execute_result"
    }
   ],
   "source": [
    "from skutil.h2o import H2ORandomizedSearchCV\n",
    "from skutil.h2o import H2OKFold\n",
    "from scipy.stats import uniform, randint\n",
    "\n",
    "# define our random state\n",
    "rand_state = 42\n",
    "\n",
    "# let's redefine our pipeline\n",
    "pipe = H2OPipeline([\n",
    "        ('nzv', H2ONearZeroVarianceFilterer()),\n",
    "        ('mcf', H2OMulticollinearityFilterer()),\n",
    "        ('gbm', H2OGradientBoostingEstimator(seed=rand_state))\n",
    "    ])\n",
    "\n",
    "# our hyperparameters over which to search...\n",
    "hyper = {\n",
    "    'nzv__threshold'    : uniform(1e-6,1e-2),\n",
    "    'mcf__threshold'    : uniform(0.7, 0.29),\n",
    "    'gbm__ntrees'       : randint(50, 100),\n",
    "    'gbm__max_depth'    : randint(3, 10),\n",
    "    'gbm__min_rows'     : randint(5, 50),\n",
    "    'gbm__learn_rate'   : uniform(0.025, 0.075)\n",
    "}\n",
    "\n",
    "# define our grid search\n",
    "search = H2ORandomizedSearchCV(\n",
    "        estimator=pipe,\n",
    "        param_grid=hyper,\n",
    "        feature_names=x,\n",
    "        target_feature=y,\n",
    "        n_iter=5, # keep it small for our demo...\n",
    "        random_state=rand_state,\n",
    "        scoring='accuracy_score',\n",
    "        cv=H2OKFold(n_folds=3, shuffle=True, random_state=rand_state),\n",
    "        verbose=2\n",
    "    )\n",
    "\n",
    "# fit\n",
    "search.fit(X)"
   ]
  },
  {
   "cell_type": "markdown",
   "metadata": {},
   "source": [
    "### Model evaluation"
   ]
  },
  {
   "cell_type": "code",
   "execution_count": 17,
   "metadata": {
    "collapsed": false
   },
   "outputs": [
    {
     "data": {
      "image/png": "[encoded data removed]",
      "text/plain": [
       "<matplotlib.figure.Figure at 0x118524e10>"
      ]
     },
     "metadata": {},
     "output_type": "display_data"
    },
    {
     "data": {
      "image/png": "[encoded data removed]",
      "text/plain": [
       "<matplotlib.figure.Figure at 0x118584650>"
      ]
     },
     "metadata": {},
     "output_type": "display_data"
    },
    {
     "data": {
      "image/png": "[encoded data removed]",
      "text/plain": [
       "<matplotlib.figure.Figure at 0x117bf3b10>"
      ]
     },
     "metadata": {},
     "output_type": "display_data"
    },
    {
     "data": {
      "image/png": "[encoded data removed]",
      "text/plain": [
       "<matplotlib.figure.Figure at 0x117b54fd0>"
      ]
     },
     "metadata": {},
     "output_type": "display_data"
    },
    {
     "data": {
      "image/png": "[encoded data removed]",
      "text/plain": [
       "<matplotlib.figure.Figure at 0x1185d4990>"
      ]
     },
     "metadata": {},
     "output_type": "display_data"
    },
    {
     "data": {
      "image/png": "[encoded data removed]",
      "text/plain": [
       "<matplotlib.figure.Figure at 0x117b7bb50>"
      ]
     },
     "metadata": {},
     "output_type": "display_data"
    },
    {
     "data": {
      "text/html": [
       "<div>\n",
       "<table border=\"1\" class=\"dataframe\">\n",
       "  <thead>\n",
       "    <tr style=\"text-align: right;\">\n",
       "      <th></th>\n",
       "      <th>gbm__learn_rate</th>\n",
       "      <th>gbm__max_depth</th>\n",
       "      <th>gbm__min_rows</th>\n",
       "      <th>gbm__ntrees</th>\n",
       "      <th>mcf__threshold</th>\n",
       "      <th>nzv__threshold</th>\n",
       "      <th>score</th>\n",
       "      <th>std</th>\n",
       "    </tr>\n",
       "  </thead>\n",
       "  <tbody>\n",
       "    <tr>\n",
       "      <th>1</th>\n",
       "      <td>0.068872</td>\n",
       "      <td>3</td>\n",
       "      <td>48</td>\n",
       "      <td>60</td>\n",
       "      <td>0.960508</td>\n",
       "      <td>0.002775</td>\n",
       "      <td>0.954306</td>\n",
       "      <td>0.009983</td>\n",
       "    </tr>\n",
       "    <tr>\n",
       "      <th>2</th>\n",
       "      <td>0.089872</td>\n",
       "      <td>4</td>\n",
       "      <td>37</td>\n",
       "      <td>99</td>\n",
       "      <td>0.753287</td>\n",
       "      <td>0.004046</td>\n",
       "      <td>0.947276</td>\n",
       "      <td>0.014383</td>\n",
       "    </tr>\n",
       "    <tr>\n",
       "      <th>0</th>\n",
       "      <td>0.028401</td>\n",
       "      <td>8</td>\n",
       "      <td>25</td>\n",
       "      <td>77</td>\n",
       "      <td>0.861309</td>\n",
       "      <td>0.009637</td>\n",
       "      <td>0.943761</td>\n",
       "      <td>0.032271</td>\n",
       "    </tr>\n",
       "    <tr>\n",
       "      <th>4</th>\n",
       "      <td>0.093523</td>\n",
       "      <td>3</td>\n",
       "      <td>6</td>\n",
       "      <td>93</td>\n",
       "      <td>0.729273</td>\n",
       "      <td>0.004896</td>\n",
       "      <td>0.931459</td>\n",
       "      <td>0.030789</td>\n",
       "    </tr>\n",
       "    <tr>\n",
       "      <th>3</th>\n",
       "      <td>0.058691</td>\n",
       "      <td>4</td>\n",
       "      <td>49</td>\n",
       "      <td>82</td>\n",
       "      <td>0.779441</td>\n",
       "      <td>0.009963</td>\n",
       "      <td>0.924429</td>\n",
       "      <td>0.043715</td>\n",
       "    </tr>\n",
       "  </tbody>\n",
       "</table>\n",
       "</div>"
      ],
      "text/plain": [
       "   gbm__learn_rate  gbm__max_depth  gbm__min_rows  gbm__ntrees  \\\n",
       "1         0.068872               3             48           60   \n",
       "2         0.089872               4             37           99   \n",
       "0         0.028401               8             25           77   \n",
       "4         0.093523               3              6           93   \n",
       "3         0.058691               4             49           82   \n",
       "\n",
       "   mcf__threshold  nzv__threshold     score       std  \n",
       "1        0.960508        0.002775  0.954306  0.009983  \n",
       "2        0.753287        0.004046  0.947276  0.014383  \n",
       "0        0.861309        0.009637  0.943761  0.032271  \n",
       "4        0.729273        0.004896  0.931459  0.030789  \n",
       "3        0.779441        0.009963  0.924429  0.043715  "
      ]
     },
     "execution_count": 17,
     "metadata": {},
     "output_type": "execute_result"
    }
   ],
   "source": [
    "from skutil.utils import report_grid_score_detail\n",
    "%matplotlib inline\n",
    "\n",
    "report_grid_score_detail(search, charts=True, sort_results=True, ascending=False)"
   ]
  },
  {
   "cell_type": "markdown",
   "metadata": {},
   "source": [
    "So our best estimator achieves a mean accuracy of 95%! We can predict on our best estimator as follows (note it's a bad idea to predict on in-sample data. This is not a ML demo, it's a demo of the API)."
   ]
  },
  {
   "cell_type": "code",
   "execution_count": 18,
   "metadata": {
    "collapsed": false
   },
   "outputs": [
    {
     "name": "stdout",
     "output_type": "stream",
     "text": [
      "\n",
      "gbm prediction Progress: [##################################################] 100%\n"
     ]
    },
    {
     "data": {
      "text/html": [
       "<table>\n",
       "<tr><th style=\"text-align: right;\">  predict</th><th style=\"text-align: right;\">      p0</th><th style=\"text-align: right;\">       p1</th></tr>\n",
       "<tr><td style=\"text-align: right;\">        0</td><td style=\"text-align: right;\">0.937262</td><td style=\"text-align: right;\">0.0627376</td></tr>\n",
       "<tr><td style=\"text-align: right;\">        0</td><td style=\"text-align: right;\">0.942317</td><td style=\"text-align: right;\">0.0576834</td></tr>\n",
       "<tr><td style=\"text-align: right;\">        0</td><td style=\"text-align: right;\">0.984896</td><td style=\"text-align: right;\">0.0151038</td></tr>\n",
       "<tr><td style=\"text-align: right;\">        0</td><td style=\"text-align: right;\">0.722895</td><td style=\"text-align: right;\">0.277105 </td></tr>\n",
       "<tr><td style=\"text-align: right;\">        0</td><td style=\"text-align: right;\">0.923232</td><td style=\"text-align: right;\">0.0767681</td></tr>\n",
       "<tr><td style=\"text-align: right;\">        0</td><td style=\"text-align: right;\">0.836642</td><td style=\"text-align: right;\">0.163358 </td></tr>\n",
       "<tr><td style=\"text-align: right;\">        0</td><td style=\"text-align: right;\">0.987562</td><td style=\"text-align: right;\">0.0124378</td></tr>\n",
       "<tr><td style=\"text-align: right;\">        0</td><td style=\"text-align: right;\">0.954058</td><td style=\"text-align: right;\">0.0459416</td></tr>\n",
       "<tr><td style=\"text-align: right;\">        0</td><td style=\"text-align: right;\">0.957527</td><td style=\"text-align: right;\">0.0424733</td></tr>\n",
       "<tr><td style=\"text-align: right;\">        0</td><td style=\"text-align: right;\">0.894437</td><td style=\"text-align: right;\">0.105563 </td></tr>\n",
       "</table>"
      ]
     },
     "metadata": {},
     "output_type": "display_data"
    },
    {
     "data": {
      "text/plain": []
     },
     "execution_count": 18,
     "metadata": {},
     "output_type": "execute_result"
    }
   ],
   "source": [
    "search.predict(X).head()"
   ]
  },
  {
   "cell_type": "code",
   "execution_count": null,
   "metadata": {
    "collapsed": true
   },
   "outputs": [],
   "source": []
  }
 ],
 "metadata": {
  "kernelspec": {
   "display_name": "Python 2",
   "language": "python",
   "name": "python2"
  },
  "language_info": {
   "codemirror_mode": {
    "name": "ipython",
    "version": 2
   },
   "file_extension": ".py",
   "mimetype": "text/x-python",
   "name": "python",
   "nbconvert_exporter": "python",
   "pygments_lexer": "ipython2",
   "version": "2.7.12"
  }
 },
 "nbformat": 4,
 "nbformat_minor": 0
}
