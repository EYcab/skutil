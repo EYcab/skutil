{
 "cells": [
  {
   "cell_type": "markdown",
   "metadata": {},
   "source": [
    "# H2O example\n",
    "\n",
    "This notebook will give an example of how to use `skutil` preprocessors with H2OEstimators and H2OFrames."
   ]
  },
  {
   "cell_type": "code",
   "execution_count": 2,
   "metadata": {
    "collapsed": false
   },
   "outputs": [
    {
     "name": "stdout",
     "output_type": "stream",
     "text": [
      "Skutil version:  0.0.53.working\n",
      "H2O version:     3.10.0.7\n",
      "Numpy version:   1.11.0\n",
      "Sklearn version: 0.18.dev0\n",
      "Pandas version:  0.18.0\n"
     ]
    }
   ],
   "source": [
    "from __future__ import print_function, division\n",
    "import skutil\n",
    "import sklearn\n",
    "import h2o\n",
    "import pandas as pd\n",
    "import numpy as np\n",
    "\n",
    "# we'll be plotting inline...\n",
    "%matplotlib inline\n",
    "\n",
    "print('Skutil version:  %s' % skutil.__version__)\n",
    "print('H2O version:     %s' % h2o.__version__)\n",
    "print('Numpy version:   %s' % np.__version__)\n",
    "print('Sklearn version: %s' % sklearn.__version__)\n",
    "print('Pandas version:  %s' % pd.__version__)"
   ]
  },
  {
   "cell_type": "markdown",
   "metadata": {},
   "source": [
    "### Initialize H2O\n",
    "\n",
    "First, we'll start our H2O cluster..."
   ]
  },
  {
   "cell_type": "code",
   "execution_count": 3,
   "metadata": {
    "collapsed": false
   },
   "outputs": [
    {
     "name": "stdout",
     "output_type": "stream",
     "text": [
      "Warning: if you don't want to start local H2O server, then use of `h2o.connect()` is preferred.\n",
      "Checking whether there is an H2O instance running at http://10.7.24.209:54323. connected.\n"
     ]
    },
    {
     "data": {
      "text/html": [
       "<div style=\"overflow:auto\"><table style=\"width:50%\"><tr><td>H2O cluster uptime:</td>\n",
       "<td>24 secs</td></tr>\n",
       "<tr><td>H2O cluster version:</td>\n",
       "<td>3.10.0.7</td></tr>\n",
       "<tr><td>H2O cluster version age:</td>\n",
       "<td>8 days </td></tr>\n",
       "<tr><td>H2O cluster name:</td>\n",
       "<td>fp7y</td></tr>\n",
       "<tr><td>H2O cluster total nodes:</td>\n",
       "<td>1</td></tr>\n",
       "<tr><td>H2O cluster free memory:</td>\n",
       "<td>910 Mb</td></tr>\n",
       "<tr><td>H2O cluster total cores:</td>\n",
       "<td>8</td></tr>\n",
       "<tr><td>H2O cluster allowed cores:</td>\n",
       "<td>8</td></tr>\n",
       "<tr><td>H2O cluster status:</td>\n",
       "<td>accepting new members, healthy</td></tr>\n",
       "<tr><td>H2O connection url:</td>\n",
       "<td>http://10.7.24.209:54323</td></tr>\n",
       "<tr><td>H2O connection proxy:</td>\n",
       "<td>None</td></tr>\n",
       "<tr><td>Python version:</td>\n",
       "<td>2.7.12 final</td></tr></table></div>"
      ],
      "text/plain": [
       "--------------------------  ------------------------------\n",
       "H2O cluster uptime:         24 secs\n",
       "H2O cluster version:        3.10.0.7\n",
       "H2O cluster version age:    8 days\n",
       "H2O cluster name:           fp7y\n",
       "H2O cluster total nodes:    1\n",
       "H2O cluster free memory:    910 Mb\n",
       "H2O cluster total cores:    8\n",
       "H2O cluster allowed cores:  8\n",
       "H2O cluster status:         accepting new members, healthy\n",
       "H2O connection url:         http://10.7.24.209:54323\n",
       "H2O connection proxy:\n",
       "Python version:             2.7.12 final\n",
       "--------------------------  ------------------------------"
      ]
     },
     "metadata": {},
     "output_type": "display_data"
    }
   ],
   "source": [
    "import warnings\n",
    "\n",
    "with warnings.catch_warnings():\n",
    "    warnings.simplefilter('ignore')\n",
    "    \n",
    "    # I started this cluster up via CLI with:\n",
    "    #     $ java -Xmx2g -jar /anaconda/h2o_jar/h2o.jar\n",
    "    h2o.init(ip='10.7.24.209', port=54323, start_h2o=False)"
   ]
  },
  {
   "cell_type": "markdown",
   "metadata": {},
   "source": [
    "### Load data\n",
    "\n",
    "We'll load sklearn's breast cancer data. Using skutil's `from_pandas` method, we can upload a Pandas frame to the H2O cloud"
   ]
  },
  {
   "cell_type": "code",
   "execution_count": 4,
   "metadata": {
    "collapsed": false
   },
   "outputs": [
    {
     "name": "stdout",
     "output_type": "stream",
     "text": [
      "Parse progress: |█████████████████████████████████████████████████████████████████████████████| 100%\n"
     ]
    },
    {
     "data": {
      "text/html": [
       "<table>\n",
       "<tr><th style=\"text-align: right;\">  mean radius</th><th style=\"text-align: right;\">  mean texture</th><th style=\"text-align: right;\">  mean perimeter</th><th style=\"text-align: right;\">  mean area</th><th style=\"text-align: right;\">  mean smoothness</th><th style=\"text-align: right;\">  mean compactness</th><th style=\"text-align: right;\">  mean concavity</th><th style=\"text-align: right;\">  mean concave points</th><th style=\"text-align: right;\">  mean symmetry</th><th style=\"text-align: right;\">  mean fractal dimension</th><th style=\"text-align: right;\">  radius error</th><th style=\"text-align: right;\">  texture error</th><th style=\"text-align: right;\">  perimeter error</th><th style=\"text-align: right;\">  area error</th><th style=\"text-align: right;\">  smoothness error</th><th style=\"text-align: right;\">  compactness error</th><th style=\"text-align: right;\">  concavity error</th><th style=\"text-align: right;\">  concave points error</th><th style=\"text-align: right;\">  symmetry error</th><th style=\"text-align: right;\">  fractal dimension error</th><th style=\"text-align: right;\">  worst radius</th><th style=\"text-align: right;\">  worst texture</th><th style=\"text-align: right;\">  worst perimeter</th><th style=\"text-align: right;\">  worst area</th><th style=\"text-align: right;\">  worst smoothness</th><th style=\"text-align: right;\">  worst compactness</th><th style=\"text-align: right;\">  worst concavity</th><th style=\"text-align: right;\">  worst concave points</th><th style=\"text-align: right;\">  worst symmetry</th><th style=\"text-align: right;\">  worst fractal dimension</th><th style=\"text-align: right;\">  target</th></tr>\n",
       "<tr><td style=\"text-align: right;\">        20.57</td><td style=\"text-align: right;\">         17.77</td><td style=\"text-align: right;\">          132.9 </td><td style=\"text-align: right;\">     1326  </td><td style=\"text-align: right;\">          0.08474</td><td style=\"text-align: right;\">           0.07864</td><td style=\"text-align: right;\">         0.0869 </td><td style=\"text-align: right;\">              0.07017</td><td style=\"text-align: right;\">         0.1812</td><td style=\"text-align: right;\">                 0.05667</td><td style=\"text-align: right;\">        0.5435</td><td style=\"text-align: right;\">         0.7339</td><td style=\"text-align: right;\">            3.398</td><td style=\"text-align: right;\">       74.08</td><td style=\"text-align: right;\">          0.005225</td><td style=\"text-align: right;\">           0.01308 </td><td style=\"text-align: right;\">          0.0186 </td><td style=\"text-align: right;\">              0.0134  </td><td style=\"text-align: right;\">         0.01389</td><td style=\"text-align: right;\">                 0.003532</td><td style=\"text-align: right;\">         24.99</td><td style=\"text-align: right;\">          23.41</td><td style=\"text-align: right;\">           158.8 </td><td style=\"text-align: right;\">      1956  </td><td style=\"text-align: right;\">            0.1238</td><td style=\"text-align: right;\">             0.1866</td><td style=\"text-align: right;\">           0.2416</td><td style=\"text-align: right;\">               0.186  </td><td style=\"text-align: right;\">          0.275 </td><td style=\"text-align: right;\">                  0.08902</td><td style=\"text-align: right;\">       0</td></tr>\n",
       "<tr><td style=\"text-align: right;\">        19.69</td><td style=\"text-align: right;\">         21.25</td><td style=\"text-align: right;\">          130   </td><td style=\"text-align: right;\">     1203  </td><td style=\"text-align: right;\">          0.1096 </td><td style=\"text-align: right;\">           0.1599 </td><td style=\"text-align: right;\">         0.1974 </td><td style=\"text-align: right;\">              0.1279 </td><td style=\"text-align: right;\">         0.2069</td><td style=\"text-align: right;\">                 0.05999</td><td style=\"text-align: right;\">        0.7456</td><td style=\"text-align: right;\">         0.7869</td><td style=\"text-align: right;\">            4.585</td><td style=\"text-align: right;\">       94.03</td><td style=\"text-align: right;\">          0.00615 </td><td style=\"text-align: right;\">           0.04006 </td><td style=\"text-align: right;\">          0.03832</td><td style=\"text-align: right;\">              0.02058 </td><td style=\"text-align: right;\">         0.0225 </td><td style=\"text-align: right;\">                 0.004571</td><td style=\"text-align: right;\">         23.57</td><td style=\"text-align: right;\">          25.53</td><td style=\"text-align: right;\">           152.5 </td><td style=\"text-align: right;\">      1709  </td><td style=\"text-align: right;\">            0.1444</td><td style=\"text-align: right;\">             0.4245</td><td style=\"text-align: right;\">           0.4504</td><td style=\"text-align: right;\">               0.243  </td><td style=\"text-align: right;\">          0.3613</td><td style=\"text-align: right;\">                  0.08758</td><td style=\"text-align: right;\">       0</td></tr>\n",
       "<tr><td style=\"text-align: right;\">        11.42</td><td style=\"text-align: right;\">         20.38</td><td style=\"text-align: right;\">           77.58</td><td style=\"text-align: right;\">      386.1</td><td style=\"text-align: right;\">          0.1425 </td><td style=\"text-align: right;\">           0.2839 </td><td style=\"text-align: right;\">         0.2414 </td><td style=\"text-align: right;\">              0.1052 </td><td style=\"text-align: right;\">         0.2597</td><td style=\"text-align: right;\">                 0.09744</td><td style=\"text-align: right;\">        0.4956</td><td style=\"text-align: right;\">         1.156 </td><td style=\"text-align: right;\">            3.445</td><td style=\"text-align: right;\">       27.23</td><td style=\"text-align: right;\">          0.00911 </td><td style=\"text-align: right;\">           0.07458 </td><td style=\"text-align: right;\">          0.05661</td><td style=\"text-align: right;\">              0.01867 </td><td style=\"text-align: right;\">         0.05963</td><td style=\"text-align: right;\">                 0.009208</td><td style=\"text-align: right;\">         14.91</td><td style=\"text-align: right;\">          26.5 </td><td style=\"text-align: right;\">            98.87</td><td style=\"text-align: right;\">       567.7</td><td style=\"text-align: right;\">            0.2098</td><td style=\"text-align: right;\">             0.8663</td><td style=\"text-align: right;\">           0.6869</td><td style=\"text-align: right;\">               0.2575 </td><td style=\"text-align: right;\">          0.6638</td><td style=\"text-align: right;\">                  0.173  </td><td style=\"text-align: right;\">       0</td></tr>\n",
       "<tr><td style=\"text-align: right;\">        20.29</td><td style=\"text-align: right;\">         14.34</td><td style=\"text-align: right;\">          135.1 </td><td style=\"text-align: right;\">     1297  </td><td style=\"text-align: right;\">          0.1003 </td><td style=\"text-align: right;\">           0.1328 </td><td style=\"text-align: right;\">         0.198  </td><td style=\"text-align: right;\">              0.1043 </td><td style=\"text-align: right;\">         0.1809</td><td style=\"text-align: right;\">                 0.05883</td><td style=\"text-align: right;\">        0.7572</td><td style=\"text-align: right;\">         0.7813</td><td style=\"text-align: right;\">            5.438</td><td style=\"text-align: right;\">       94.44</td><td style=\"text-align: right;\">          0.01149 </td><td style=\"text-align: right;\">           0.02461 </td><td style=\"text-align: right;\">          0.05688</td><td style=\"text-align: right;\">              0.01885 </td><td style=\"text-align: right;\">         0.01756</td><td style=\"text-align: right;\">                 0.005115</td><td style=\"text-align: right;\">         22.54</td><td style=\"text-align: right;\">          16.67</td><td style=\"text-align: right;\">           152.2 </td><td style=\"text-align: right;\">      1575  </td><td style=\"text-align: right;\">            0.1374</td><td style=\"text-align: right;\">             0.205 </td><td style=\"text-align: right;\">           0.4   </td><td style=\"text-align: right;\">               0.1625 </td><td style=\"text-align: right;\">          0.2364</td><td style=\"text-align: right;\">                  0.07678</td><td style=\"text-align: right;\">       0</td></tr>\n",
       "<tr><td style=\"text-align: right;\">        12.45</td><td style=\"text-align: right;\">         15.7 </td><td style=\"text-align: right;\">           82.57</td><td style=\"text-align: right;\">      477.1</td><td style=\"text-align: right;\">          0.1278 </td><td style=\"text-align: right;\">           0.17   </td><td style=\"text-align: right;\">         0.1578 </td><td style=\"text-align: right;\">              0.08089</td><td style=\"text-align: right;\">         0.2087</td><td style=\"text-align: right;\">                 0.07613</td><td style=\"text-align: right;\">        0.3345</td><td style=\"text-align: right;\">         0.8902</td><td style=\"text-align: right;\">            2.217</td><td style=\"text-align: right;\">       27.19</td><td style=\"text-align: right;\">          0.00751 </td><td style=\"text-align: right;\">           0.03345 </td><td style=\"text-align: right;\">          0.03672</td><td style=\"text-align: right;\">              0.01137 </td><td style=\"text-align: right;\">         0.02165</td><td style=\"text-align: right;\">                 0.005082</td><td style=\"text-align: right;\">         15.47</td><td style=\"text-align: right;\">          23.75</td><td style=\"text-align: right;\">           103.4 </td><td style=\"text-align: right;\">       741.6</td><td style=\"text-align: right;\">            0.1791</td><td style=\"text-align: right;\">             0.5249</td><td style=\"text-align: right;\">           0.5355</td><td style=\"text-align: right;\">               0.1741 </td><td style=\"text-align: right;\">          0.3985</td><td style=\"text-align: right;\">                  0.1244 </td><td style=\"text-align: right;\">       0</td></tr>\n",
       "<tr><td style=\"text-align: right;\">        18.25</td><td style=\"text-align: right;\">         19.98</td><td style=\"text-align: right;\">          119.6 </td><td style=\"text-align: right;\">     1040  </td><td style=\"text-align: right;\">          0.09463</td><td style=\"text-align: right;\">           0.109  </td><td style=\"text-align: right;\">         0.1127 </td><td style=\"text-align: right;\">              0.074  </td><td style=\"text-align: right;\">         0.1794</td><td style=\"text-align: right;\">                 0.05742</td><td style=\"text-align: right;\">        0.4467</td><td style=\"text-align: right;\">         0.7732</td><td style=\"text-align: right;\">            3.18 </td><td style=\"text-align: right;\">       53.91</td><td style=\"text-align: right;\">          0.004314</td><td style=\"text-align: right;\">           0.01382 </td><td style=\"text-align: right;\">          0.02254</td><td style=\"text-align: right;\">              0.01039 </td><td style=\"text-align: right;\">         0.01369</td><td style=\"text-align: right;\">                 0.002179</td><td style=\"text-align: right;\">         22.88</td><td style=\"text-align: right;\">          27.66</td><td style=\"text-align: right;\">           153.2 </td><td style=\"text-align: right;\">      1606  </td><td style=\"text-align: right;\">            0.1442</td><td style=\"text-align: right;\">             0.2576</td><td style=\"text-align: right;\">           0.3784</td><td style=\"text-align: right;\">               0.1932 </td><td style=\"text-align: right;\">          0.3063</td><td style=\"text-align: right;\">                  0.08368</td><td style=\"text-align: right;\">       0</td></tr>\n",
       "<tr><td style=\"text-align: right;\">        13.71</td><td style=\"text-align: right;\">         20.83</td><td style=\"text-align: right;\">           90.2 </td><td style=\"text-align: right;\">      577.9</td><td style=\"text-align: right;\">          0.1189 </td><td style=\"text-align: right;\">           0.1645 </td><td style=\"text-align: right;\">         0.09366</td><td style=\"text-align: right;\">              0.05985</td><td style=\"text-align: right;\">         0.2196</td><td style=\"text-align: right;\">                 0.07451</td><td style=\"text-align: right;\">        0.5835</td><td style=\"text-align: right;\">         1.377 </td><td style=\"text-align: right;\">            3.856</td><td style=\"text-align: right;\">       50.96</td><td style=\"text-align: right;\">          0.008805</td><td style=\"text-align: right;\">           0.03029 </td><td style=\"text-align: right;\">          0.02488</td><td style=\"text-align: right;\">              0.01448 </td><td style=\"text-align: right;\">         0.01486</td><td style=\"text-align: right;\">                 0.005412</td><td style=\"text-align: right;\">         17.06</td><td style=\"text-align: right;\">          28.14</td><td style=\"text-align: right;\">           110.6 </td><td style=\"text-align: right;\">       897  </td><td style=\"text-align: right;\">            0.1654</td><td style=\"text-align: right;\">             0.3682</td><td style=\"text-align: right;\">           0.2678</td><td style=\"text-align: right;\">               0.1556 </td><td style=\"text-align: right;\">          0.3196</td><td style=\"text-align: right;\">                  0.1151 </td><td style=\"text-align: right;\">       0</td></tr>\n",
       "<tr><td style=\"text-align: right;\">        13   </td><td style=\"text-align: right;\">         21.82</td><td style=\"text-align: right;\">           87.5 </td><td style=\"text-align: right;\">      519.8</td><td style=\"text-align: right;\">          0.1273 </td><td style=\"text-align: right;\">           0.1932 </td><td style=\"text-align: right;\">         0.1859 </td><td style=\"text-align: right;\">              0.09353</td><td style=\"text-align: right;\">         0.235 </td><td style=\"text-align: right;\">                 0.07389</td><td style=\"text-align: right;\">        0.3063</td><td style=\"text-align: right;\">         1.002 </td><td style=\"text-align: right;\">            2.406</td><td style=\"text-align: right;\">       24.32</td><td style=\"text-align: right;\">          0.005731</td><td style=\"text-align: right;\">           0.03502 </td><td style=\"text-align: right;\">          0.03553</td><td style=\"text-align: right;\">              0.01226 </td><td style=\"text-align: right;\">         0.02143</td><td style=\"text-align: right;\">                 0.003749</td><td style=\"text-align: right;\">         15.49</td><td style=\"text-align: right;\">          30.73</td><td style=\"text-align: right;\">           106.2 </td><td style=\"text-align: right;\">       739.3</td><td style=\"text-align: right;\">            0.1703</td><td style=\"text-align: right;\">             0.5401</td><td style=\"text-align: right;\">           0.539 </td><td style=\"text-align: right;\">               0.206  </td><td style=\"text-align: right;\">          0.4378</td><td style=\"text-align: right;\">                  0.1072 </td><td style=\"text-align: right;\">       0</td></tr>\n",
       "<tr><td style=\"text-align: right;\">        12.46</td><td style=\"text-align: right;\">         24.04</td><td style=\"text-align: right;\">           83.97</td><td style=\"text-align: right;\">      475.9</td><td style=\"text-align: right;\">          0.1186 </td><td style=\"text-align: right;\">           0.2396 </td><td style=\"text-align: right;\">         0.2273 </td><td style=\"text-align: right;\">              0.08543</td><td style=\"text-align: right;\">         0.203 </td><td style=\"text-align: right;\">                 0.08243</td><td style=\"text-align: right;\">        0.2976</td><td style=\"text-align: right;\">         1.599 </td><td style=\"text-align: right;\">            2.039</td><td style=\"text-align: right;\">       23.94</td><td style=\"text-align: right;\">          0.007149</td><td style=\"text-align: right;\">           0.07217 </td><td style=\"text-align: right;\">          0.07743</td><td style=\"text-align: right;\">              0.01432 </td><td style=\"text-align: right;\">         0.01789</td><td style=\"text-align: right;\">                 0.01008 </td><td style=\"text-align: right;\">         15.09</td><td style=\"text-align: right;\">          40.68</td><td style=\"text-align: right;\">            97.65</td><td style=\"text-align: right;\">       711.4</td><td style=\"text-align: right;\">            0.1853</td><td style=\"text-align: right;\">             1.058 </td><td style=\"text-align: right;\">           1.105 </td><td style=\"text-align: right;\">               0.221  </td><td style=\"text-align: right;\">          0.4366</td><td style=\"text-align: right;\">                  0.2075 </td><td style=\"text-align: right;\">       0</td></tr>\n",
       "<tr><td style=\"text-align: right;\">        16.02</td><td style=\"text-align: right;\">         23.24</td><td style=\"text-align: right;\">          102.7 </td><td style=\"text-align: right;\">      797.8</td><td style=\"text-align: right;\">          0.08206</td><td style=\"text-align: right;\">           0.06669</td><td style=\"text-align: right;\">         0.03299</td><td style=\"text-align: right;\">              0.03323</td><td style=\"text-align: right;\">         0.1528</td><td style=\"text-align: right;\">                 0.05697</td><td style=\"text-align: right;\">        0.3795</td><td style=\"text-align: right;\">         1.187 </td><td style=\"text-align: right;\">            2.466</td><td style=\"text-align: right;\">       40.51</td><td style=\"text-align: right;\">          0.004029</td><td style=\"text-align: right;\">           0.009269</td><td style=\"text-align: right;\">          0.01101</td><td style=\"text-align: right;\">              0.007591</td><td style=\"text-align: right;\">         0.0146 </td><td style=\"text-align: right;\">                 0.003042</td><td style=\"text-align: right;\">         19.19</td><td style=\"text-align: right;\">          33.88</td><td style=\"text-align: right;\">           123.8 </td><td style=\"text-align: right;\">      1150  </td><td style=\"text-align: right;\">            0.1181</td><td style=\"text-align: right;\">             0.1551</td><td style=\"text-align: right;\">           0.1459</td><td style=\"text-align: right;\">               0.09975</td><td style=\"text-align: right;\">          0.2948</td><td style=\"text-align: right;\">                  0.08452</td><td style=\"text-align: right;\">       0</td></tr>\n",
       "</table>"
      ]
     },
     "metadata": {},
     "output_type": "display_data"
    },
    {
     "data": {
      "text/plain": []
     },
     "execution_count": 4,
     "metadata": {},
     "output_type": "execute_result"
    }
   ],
   "source": [
    "from sklearn.datasets import load_breast_cancer\n",
    "from skutil.h2o.util import from_pandas\n",
    "\n",
    "# import data, load into pandas\n",
    "bc = load_breast_cancer()\n",
    "X = pd.DataFrame.from_records(data=bc.data, columns=bc.feature_names)\n",
    "X['target'] = bc.target\n",
    "\n",
    "# push to h2o cloud\n",
    "X = from_pandas(X)\n",
    "X.head()"
   ]
  },
  {
   "cell_type": "code",
   "execution_count": 5,
   "metadata": {
    "collapsed": true
   },
   "outputs": [],
   "source": [
    "# Here are our feature names:\n",
    "x = list(bc.feature_names)\n",
    "y = 'target'"
   ]
  },
  {
   "cell_type": "markdown",
   "metadata": {},
   "source": [
    "## train/test split\n",
    "\n",
    "Sklearn provides a great mechanism for splitting data into a train and validation set. Skutil provides the same mechanism for h2o frames."
   ]
  },
  {
   "cell_type": "code",
   "execution_count": 6,
   "metadata": {
    "collapsed": true
   },
   "outputs": [],
   "source": [
    "from skutil.h2o import h2o_train_test_split\n",
    "\n",
    "# first, let's make sure our target is a factor\n",
    "X[y] = X[y].asfactor()\n",
    "\n",
    "# we'll use 75% of the data for training...\n",
    "X_train, X_test = h2o_train_test_split(X, train_size=0.75, random_state=42)"
   ]
  },
  {
   "cell_type": "markdown",
   "metadata": {},
   "source": [
    "### `skutil.h2o` preprocessing\n",
    "\n",
    "Skutil provides an `h2o` module which delivers some skutil `feature_selection` classes that can operate on an H2OFrame. Each `BaseH2OTransformer` has the following `__init__` signature:\n",
    "\n",
    "    BaseH2OTransformer(self, feature_names=None, target_feature=None)\n",
    "    \n",
    "The selector will only operate on the `feature_names` (if provided&mdash;else it will operate on all features) and will always exclude the `target_feature`."
   ]
  },
  {
   "cell_type": "code",
   "execution_count": 7,
   "metadata": {
    "collapsed": false
   },
   "outputs": [
    {
     "name": "stderr",
     "output_type": "stream",
     "text": [
      "//anaconda/lib/python2.7/site-packages/h2o/expr.py:155: UnicodeWarning: Unicode equal comparison failed to convert both arguments to Unicode - interpreting them as being unequal\n",
      "  return \"[%s]\" % \" \".join(\"NaN\" if i == 'NaN' or math.isnan(i) else str(i) for i in arg)\n"
     ]
    },
    {
     "data": {
      "text/plain": [
       "['mean fractal dimension',\n",
       " 'smoothness error',\n",
       " 'concave points error',\n",
       " 'symmetry error',\n",
       " 'fractal dimension error']"
      ]
     },
     "execution_count": 7,
     "metadata": {},
     "output_type": "execute_result"
    }
   ],
   "source": [
    "from skutil.h2o import H2ONearZeroVarianceFilterer\n",
    "\n",
    "# Let's determine whether we're at risk for any near-zero variance\n",
    "nzv = H2ONearZeroVarianceFilterer(feature_names=x, target_feature=y, threshold=1e-4)\n",
    "nzv.fit(X_train)\n",
    "\n",
    "# let's see if anything was dropped...\n",
    "nzv.drop_"
   ]
  },
  {
   "cell_type": "markdown",
   "metadata": {},
   "source": [
    "### Multicollinearity\n",
    "\n",
    "Multicollinearity (MC) can be detrimental to parametric models (for our example, we're going to use GBM, which is non-parametric, but the demo is still useful). With skutil, we can filter out features that are correlated beyond a certain absolute threshold.  When a violating correlation is identified, the feature with the highest mean absolute correlation is removed.\n",
    "\n",
    "Before filtering out collinear features, let's take a look at the correlation matrix:"
   ]
  },
  {
   "cell_type": "code",
   "execution_count": 8,
   "metadata": {
    "collapsed": false
   },
   "outputs": [
    {
     "data": {
      "image/png": "[encoded data removed]",
      "text/plain": [
       "<matplotlib.figure.Figure at 0x11a24e3d0>"
      ]
     },
     "metadata": {},
     "output_type": "display_data"
    }
   ],
   "source": [
    "from skutil.h2o import h2o_corr_plot\n",
    "\n",
    "# note that we want to exclude the target!!\n",
    "h2o_corr_plot(X_train[x], xticklabels=x, yticklabels=x)"
   ]
  },
  {
   "cell_type": "code",
   "execution_count": 9,
   "metadata": {
    "collapsed": false
   },
   "outputs": [
    {
     "data": {
      "text/plain": [
       "[Dropped: mean perimeter, Corr_feature: mean radius, abs_corr: 0.99822, MAC: 0.47980,\n",
       " Dropped: mean radius, Corr_feature: mean area, abs_corr: 0.98854, MAC: 0.44724,\n",
       " Dropped: worst texture, Corr_feature: mean texture, abs_corr: 0.91160, MAC: 0.26108,\n",
       " Dropped: worst radius, Corr_feature: mean area, abs_corr: 0.96228, MAC: 0.45561,\n",
       " Dropped: worst perimeter, Corr_feature: mean area, abs_corr: 0.95864, MAC: 0.44955,\n",
       " Dropped: worst area, Corr_feature: mean area, abs_corr: 0.95625, MAC: 0.39923,\n",
       " Dropped: mean compactness, Corr_feature: mean concavity, abs_corr: 0.87901, MAC: 0.54924,\n",
       " Dropped: mean concavity, Corr_feature: mean concave points, abs_corr: 0.91567, MAC: 0.53074,\n",
       " Dropped: worst concave points, Corr_feature: mean concave points, abs_corr: 0.91019, MAC: 0.46764,\n",
       " Dropped: perimeter error, Corr_feature: radius error, abs_corr: 0.97511, MAC: 0.35927,\n",
       " Dropped: radius error, Corr_feature: area error, abs_corr: 0.95979, MAC: 0.31621,\n",
       " Dropped: worst concavity, Corr_feature: worst compactness, abs_corr: 0.89049, MAC: 0.45237]"
      ]
     },
     "execution_count": 9,
     "metadata": {},
     "output_type": "execute_result"
    }
   ],
   "source": [
    "from skutil.h2o import H2OMulticollinearityFilterer\n",
    "\n",
    "# Are we at risk of any multicollinearity?\n",
    "mcf = H2OMulticollinearityFilterer(feature_names=x, target_feature=y, threshold=0.85)\n",
    "mcf.fit(X_train)\n",
    "\n",
    "# we can look at the dropped features\n",
    "mcf.correlations_"
   ]
  },
  {
   "cell_type": "markdown",
   "metadata": {},
   "source": [
    "### Dropping features\n",
    "\n",
    "As you'll see in the next section (Pipelines), where certain preprocessing steps take place matters. If there are a subset of features on which you don't want to model or process, you can drop them out. Sometimes this is more effective than creating a list of potentially thousands of feature names to pass as the `feature_names` parameter."
   ]
  },
  {
   "cell_type": "code",
   "execution_count": 10,
   "metadata": {
    "collapsed": true
   },
   "outputs": [],
   "source": [
    "from skutil.h2o import H2OFeatureDropper\n",
    "\n",
    "# maybe I don't like 'mean fractal dimension'\n",
    "dropper = H2OFeatureDropper(feature_names=['mean fractal dimension'], target_feature=y)\n",
    "transformed = dropper.fit_transform(X_train)\n",
    "\n",
    "# we can ensure it's not there\n",
    "assert not 'mean fractal dimension' in transformed.columns"
   ]
  },
  {
   "cell_type": "markdown",
   "metadata": {},
   "source": [
    "### `skutil.h2o` modeling\n",
    "\n",
    "Skutil's `h2o` module allows us to form the `Pipeline` objects we're familiar with from sklearn.  This permits us to string a series of preprocessors together, with an optional `H2OEstimator` as the last step.  Like sklearn `Pipeline`s, the first argument is a single list of length-two tuples (where the first arg is the name of the step, and the second is the Estimator/Transformer), however the `H2OPipeline` takes two more arguments: `feature_names` and `target_feature`.\n",
    "\n",
    "__Note__ that the `feature_names` arg is the names the *first* preprocessor will operate on; after that, all remaining feature names (i.e., not the target) will be passed to the next processor."
   ]
  },
  {
   "cell_type": "code",
   "execution_count": 11,
   "metadata": {
    "collapsed": false,
    "scrolled": false
   },
   "outputs": [
    {
     "name": "stdout",
     "output_type": "stream",
     "text": [
      "gbm Model Build progress: |███████████████████████████████████████████████████████████████████| 100%\n",
      "gbm prediction progress: |████████████████████████████████████████████████████████████████████| 100%\n",
      "Validation accuracy: 0.88028\n"
     ]
    }
   ],
   "source": [
    "from skutil.h2o import H2OPipeline\n",
    "from h2o.estimators import H2OGradientBoostingEstimator\n",
    "from skutil.h2o.metrics import h2o_accuracy_score # same as sklearn, but with H2OFrames\n",
    "\n",
    "# let's fit a pipeline with our estimator...\n",
    "pipe = H2OPipeline([\n",
    "        ('hfd', H2OFeatureDropper()),\n",
    "        ('nzv', H2ONearZeroVarianceFilterer(threshold=1e-4)),\n",
    "        ('mcf', H2OMulticollinearityFilterer(threshold=0.85)),\n",
    "        ('gbm', H2OGradientBoostingEstimator(ntrees=100, max_depth=5))\n",
    "    ], \n",
    "    \n",
    "    # feature_names is the set of features H2OFeatureDropper\n",
    "    # will operate on. The remaining features will be passed\n",
    "    # to the next step\n",
    "    feature_names=['mean fractal dimension'], \n",
    "    target_feature=y)\n",
    "\n",
    "\n",
    "# fit...\n",
    "pipe = pipe.fit(X_train)\n",
    "\n",
    "\n",
    "# eval accuracy on validation set\n",
    "pred = pipe.predict(X_test)\n",
    "actual = X_test[y]\n",
    "pred = pred['predict']\n",
    "print('Validation accuracy: %.5f' % h2o_accuracy_score(actual, pred))"
   ]
  },
  {
   "cell_type": "markdown",
   "metadata": {},
   "source": [
    "### Which features were retained?\n",
    "\n",
    "We can see which features were modeled on with the `training_cols_` attribute of the fitted pipe."
   ]
  },
  {
   "cell_type": "code",
   "execution_count": 12,
   "metadata": {
    "collapsed": false
   },
   "outputs": [
    {
     "data": {
      "text/plain": [
       "['mean radius',\n",
       " 'mean texture',\n",
       " 'mean smoothness',\n",
       " 'mean concave points',\n",
       " 'mean symmetry',\n",
       " 'texture error',\n",
       " 'area error',\n",
       " 'compactness error',\n",
       " 'concavity error',\n",
       " 'worst smoothness',\n",
       " 'worst compactness',\n",
       " 'worst symmetry',\n",
       " 'worst fractal dimension']"
      ]
     },
     "execution_count": 12,
     "metadata": {},
     "output_type": "execute_result"
    }
   ],
   "source": [
    "pipe.training_cols_"
   ]
  },
  {
   "cell_type": "markdown",
   "metadata": {},
   "source": [
    "### Hyperparameter optimization\n",
    "\n",
    "With relatively little effort, we got ~90% accuracy on our validation set! Can we improve that? We can use `sklearn`-esque grid searches, which also allow us to search over preprocessor objects to optimize a set of hyperparameters."
   ]
  },
  {
   "cell_type": "code",
   "execution_count": 13,
   "metadata": {
    "collapsed": false,
    "scrolled": false
   },
   "outputs": [
    {
     "name": "stdout",
     "output_type": "stream",
     "text": [
      "[CV (iter 0, fold 0)] Target: target; gbm__min_rows=19, gbm__ntrees=92, mcf__threshold=0.926110390079, nzv__threshold=0.00596950157946, gbm__max_depth=7, gbm__learn_rate=0.0530905089136 \n",
      "gbm Model Build progress: |███████████████████████████████████████████████████████████████████| 100%\n",
      "gbm prediction progress: |████████████████████████████████████████████████████████████████████| 100%\n",
      "\n",
      "[CV (iter 0, fold 0)]  Target: target; gbm__min_rows=19, gbm__ntrees=92, mcf__threshold=0.926110390079, nzv__threshold=0.00596950157946, gbm__max_depth=7, gbm__learn_rate=0.0530905089136, score=0.936620 -  16.8s\n",
      "\n",
      "\n",
      "[CV (iter 0, fold 1)] Target: target; gbm__min_rows=19, gbm__ntrees=92, mcf__threshold=0.926110390079, nzv__threshold=0.00596950157946, gbm__max_depth=7, gbm__learn_rate=0.0530905089136 \n",
      "gbm Model Build progress: |███████████████████████████████████████████████████████████████████| 100%\n",
      "gbm prediction progress: |████████████████████████████████████████████████████████████████████| 100%\n",
      "\n",
      "[CV (iter 0, fold 1)]  Target: target; gbm__min_rows=19, gbm__ntrees=92, mcf__threshold=0.926110390079, nzv__threshold=0.00596950157946, gbm__max_depth=7, gbm__learn_rate=0.0530905089136, score=0.936620 -  15.6s\n",
      "\n",
      "\n",
      "[CV (iter 0, fold 2)] Target: target; gbm__min_rows=19, gbm__ntrees=92, mcf__threshold=0.926110390079, nzv__threshold=0.00596950157946, gbm__max_depth=7, gbm__learn_rate=0.0530905089136 \n",
      "gbm Model Build progress: |███████████████████████████████████████████████████████████████████| 100%\n",
      "gbm prediction progress: |████████████████████████████████████████████████████████████████████| 100%\n",
      "\n",
      "[CV (iter 0, fold 2)]  Target: target; gbm__min_rows=19, gbm__ntrees=92, mcf__threshold=0.926110390079, nzv__threshold=0.00596950157946, gbm__max_depth=7, gbm__learn_rate=0.0530905089136, score=0.915493 -  15.2s\n",
      "\n",
      "\n",
      "[CV (iter 1, fold 0)] Target: target; gbm__min_rows=15, gbm__ntrees=60, mcf__threshold=0.951191082275, nzv__threshold=0.00601215011743, gbm__max_depth=9, gbm__learn_rate=0.058437456464 \n",
      "gbm Model Build progress: |███████████████████████████████████████████████████████████████████| 100%\n",
      "gbm prediction progress: |████████████████████████████████████████████████████████████████████| 100%\n",
      "\n",
      "[CV (iter 1, fold 0)]  Target: target; gbm__min_rows=15, gbm__ntrees=60, mcf__threshold=0.951191082275, nzv__threshold=0.00601215011743, gbm__max_depth=9, gbm__learn_rate=0.058437456464, score=0.929577 -  17.6s\n",
      "\n",
      "\n",
      "[CV (iter 1, fold 1)] Target: target; gbm__min_rows=15, gbm__ntrees=60, mcf__threshold=0.951191082275, nzv__threshold=0.00601215011743, gbm__max_depth=9, gbm__learn_rate=0.058437456464 \n",
      "gbm Model Build progress: |███████████████████████████████████████████████████████████████████| 100%\n",
      "gbm prediction progress: |████████████████████████████████████████████████████████████████████| 100%\n",
      "\n",
      "[CV (iter 1, fold 1)]  Target: target; gbm__min_rows=15, gbm__ntrees=60, mcf__threshold=0.951191082275, nzv__threshold=0.00601215011743, gbm__max_depth=9, gbm__learn_rate=0.058437456464, score=0.950704 -  14.8s\n",
      "\n",
      "\n",
      "[CV (iter 1, fold 2)] Target: target; gbm__min_rows=15, gbm__ntrees=60, mcf__threshold=0.951191082275, nzv__threshold=0.00601215011743, gbm__max_depth=9, gbm__learn_rate=0.058437456464 \n",
      "gbm Model Build progress: |███████████████████████████████████████████████████████████████████| 100%\n",
      "gbm prediction progress: |████████████████████████████████████████████████████████████████████| 100%\n",
      "\n",
      "[CV (iter 1, fold 2)]  Target: target; gbm__min_rows=15, gbm__ntrees=60, mcf__threshold=0.951191082275, nzv__threshold=0.00601215011743, gbm__max_depth=9, gbm__learn_rate=0.058437456464, score=0.922535 -  14.9s\n",
      "\n",
      "\n",
      "[CV (iter 2, fold 0)] Target: target; gbm__min_rows=6, gbm__ntrees=73, mcf__threshold=0.941408365832, nzv__threshold=0.00212439110678, gbm__max_depth=8, gbm__learn_rate=0.0781054433347 \n",
      "gbm Model Build progress: |███████████████████████████████████████████████████████████████████| 100%\n",
      "gbm prediction progress: |████████████████████████████████████████████████████████████████████| 100%\n",
      "\n",
      "[CV (iter 2, fold 0)]  Target: target; gbm__min_rows=6, gbm__ntrees=73, mcf__threshold=0.941408365832, nzv__threshold=0.00212439110678, gbm__max_depth=8, gbm__learn_rate=0.0781054433347, score=0.887324 -  15.2s\n",
      "\n",
      "\n",
      "[CV (iter 2, fold 1)] Target: target; gbm__min_rows=6, gbm__ntrees=73, mcf__threshold=0.941408365832, nzv__threshold=0.00212439110678, gbm__max_depth=8, gbm__learn_rate=0.0781054433347 \n",
      "gbm Model Build progress: |███████████████████████████████████████████████████████████████████| 100%\n",
      "gbm prediction progress: |████████████████████████████████████████████████████████████████████| 100%\n",
      "\n",
      "[CV (iter 2, fold 1)]  Target: target; gbm__min_rows=6, gbm__ntrees=73, mcf__threshold=0.941408365832, nzv__threshold=0.00212439110678, gbm__max_depth=8, gbm__learn_rate=0.0781054433347, score=0.922535 -  17.1s\n",
      "\n",
      "\n",
      "[CV (iter 2, fold 2)] Target: target; gbm__min_rows=6, gbm__ntrees=73, mcf__threshold=0.941408365832, nzv__threshold=0.00212439110678, gbm__max_depth=8, gbm__learn_rate=0.0781054433347 \n",
      "gbm Model Build progress: |███████████████████████████████████████████████████████████████████| 100%\n",
      "gbm prediction progress: |████████████████████████████████████████████████████████████████████| 100%\n",
      "\n",
      "[CV (iter 2, fold 2)]  Target: target; gbm__min_rows=6, gbm__ntrees=73, mcf__threshold=0.941408365832, nzv__threshold=0.00212439110678, gbm__max_depth=8, gbm__learn_rate=0.0781054433347, score=0.943662 -  16.3s\n",
      "\n",
      "\n",
      "[CV (iter 3, fold 0)] Target: target; gbm__min_rows=37, gbm__ntrees=61, mcf__threshold=0.877379416542, nzv__threshold=7.16630521972e-05, gbm__max_depth=7, gbm__learn_rate=0.0386368725405 \n",
      "gbm Model Build progress: |███████████████████████████████████████████████████████████████████| 100%\n",
      "gbm prediction progress: |████████████████████████████████████████████████████████████████████| 100%\n",
      "\n",
      "[CV (iter 3, fold 0)]  Target: target; gbm__min_rows=37, gbm__ntrees=61, mcf__threshold=0.877379416542, nzv__threshold=7.16630521972e-05, gbm__max_depth=7, gbm__learn_rate=0.0386368725405, score=0.943662 -  16.0s\n",
      "\n",
      "\n",
      "[CV (iter 3, fold 1)] Target: target; gbm__min_rows=37, gbm__ntrees=61, mcf__threshold=0.877379416542, nzv__threshold=7.16630521972e-05, gbm__max_depth=7, gbm__learn_rate=0.0386368725405 \n",
      "gbm Model Build progress: |███████████████████████████████████████████████████████████████████| 100%\n",
      "gbm prediction progress: |████████████████████████████████████████████████████████████████████| 100%\n",
      "\n",
      "[CV (iter 3, fold 1)]  Target: target; gbm__min_rows=37, gbm__ntrees=61, mcf__threshold=0.877379416542, nzv__threshold=7.16630521972e-05, gbm__max_depth=7, gbm__learn_rate=0.0386368725405, score=0.978873 -  16.8s\n",
      "\n",
      "\n",
      "[CV (iter 3, fold 2)] Target: target; gbm__min_rows=37, gbm__ntrees=61, mcf__threshold=0.877379416542, nzv__threshold=7.16630521972e-05, gbm__max_depth=7, gbm__learn_rate=0.0386368725405 \n",
      "gbm Model Build progress: |███████████████████████████████████████████████████████████████████| 100%\n",
      "gbm prediction progress: |████████████████████████████████████████████████████████████████████| 100%\n",
      "\n",
      "[CV (iter 3, fold 2)]  Target: target; gbm__min_rows=37, gbm__ntrees=61, mcf__threshold=0.877379416542, nzv__threshold=7.16630521972e-05, gbm__max_depth=7, gbm__learn_rate=0.0386368725405, score=0.936620 -  16.5s\n",
      "\n",
      "\n",
      "[CV (iter 4, fold 0)] Target: target; gbm__min_rows=46, gbm__ntrees=77, mcf__threshold=0.982389100464, nzv__threshold=0.0023287134043, gbm__max_depth=5, gbm__learn_rate=0.0267296818781 \n",
      "gbm Model Build progress: |███████████████████████████████████████████████████████████████████| 100%\n",
      "gbm prediction progress: |████████████████████████████████████████████████████████████████████| 100%\n",
      "\n",
      "[CV (iter 4, fold 0)]  Target: target; gbm__min_rows=46, gbm__ntrees=77, mcf__threshold=0.982389100464, nzv__threshold=0.0023287134043, gbm__max_depth=5, gbm__learn_rate=0.0267296818781, score=0.957746 -  18.9s\n",
      "\n",
      "\n",
      "[CV (iter 4, fold 1)] Target: target; gbm__min_rows=46, gbm__ntrees=77, mcf__threshold=0.982389100464, nzv__threshold=0.0023287134043, gbm__max_depth=5, gbm__learn_rate=0.0267296818781 \n",
      "gbm Model Build progress: |███████████████████████████████████████████████████████████████████| 100%\n",
      "gbm prediction progress: |████████████████████████████████████████████████████████████████████| 100%\n",
      "\n",
      "[CV (iter 4, fold 1)]  Target: target; gbm__min_rows=46, gbm__ntrees=77, mcf__threshold=0.982389100464, nzv__threshold=0.0023287134043, gbm__max_depth=5, gbm__learn_rate=0.0267296818781, score=0.964789 -  16.6s\n",
      "\n",
      "\n",
      "[CV (iter 4, fold 2)] Target: target; gbm__min_rows=46, gbm__ntrees=77, mcf__threshold=0.982389100464, nzv__threshold=0.0023287134043, gbm__max_depth=5, gbm__learn_rate=0.0267296818781 \n",
      "gbm Model Build progress: |███████████████████████████████████████████████████████████████████| 100%\n",
      "gbm prediction progress: |████████████████████████████████████████████████████████████████████| 100%\n",
      "\n",
      "[CV (iter 4, fold 2)]  Target: target; gbm__min_rows=46, gbm__ntrees=77, mcf__threshold=0.982389100464, nzv__threshold=0.0023287134043, gbm__max_depth=5, gbm__learn_rate=0.0267296818781, score=0.950704 -  15.0s\n",
      "\n",
      "\n",
      "\n",
      "Fitting best hyperparameters across all folds\n",
      "[BEST] Target: target; gbm__min_rows=46, gbm__ntrees=77, mcf__threshold=0.982389100464, nzv__threshold=0.0023287134043, gbm__max_depth=5, gbm__learn_rate=0.0267296818781 \n",
      "gbm Model Build progress: |███████████████████████████████████████████████████████████████████| 100%\n"
     ]
    },
    {
     "data": {
      "text/plain": [
       "H2ORandomizedSearchCV(cv=H2OKFold(n_folds=3, random_state=42, shuffle=True),\n",
       "           estimator=None, feature_names=['mean fractal dimension'],\n",
       "           iid=True, n_iter=5, n_jobs=1,\n",
       "           param_grid={'mcf__threshold': <scipy.stats._distn_infrastructure.rv_frozen object at 0x11d62ff90>, 'gbm__ntrees': <scipy.stats._distn_infrastructure.rv_frozen object at 0x11d60f910>, 'gbm__min_rows': <scipy.stats._distn_infrastructure.rv_frozen object at 0x11d621350>, 'nzv__threshold': <scipy.stats....x11d60f110>, 'gbm__learn_rate': <scipy.stats._distn_infrastructure.rv_frozen object at 0x11d621d10>},\n",
       "           random_state=42, scoring='accuracy_score', scoring_params={},\n",
       "           target_feature='target', validation_frame=None, verbose=3)"
      ]
     },
     "execution_count": 13,
     "metadata": {},
     "output_type": "execute_result"
    }
   ],
   "source": [
    "from skutil.h2o import H2ORandomizedSearchCV\n",
    "from skutil.h2o import H2OKFold\n",
    "from scipy.stats import uniform, randint\n",
    "\n",
    "# define our random state\n",
    "rand_state = 42\n",
    "\n",
    "# let's redefine our pipeline\n",
    "pipe = H2OPipeline([\n",
    "        ('hfd', H2OFeatureDropper()),\n",
    "        ('nzv', H2ONearZeroVarianceFilterer()),\n",
    "        ('mcf', H2OMulticollinearityFilterer()),\n",
    "        ('gbm', H2OGradientBoostingEstimator(seed=rand_state))\n",
    "    ])\n",
    "\n",
    "# our hyperparameters over which to search...\n",
    "hyper = {\n",
    "    'nzv__threshold'    : uniform(1e-6,1e-2),\n",
    "    'mcf__threshold'    : uniform(0.7, 0.29),\n",
    "    'gbm__ntrees'       : randint(50, 100),\n",
    "    'gbm__max_depth'    : randint(3, 10),\n",
    "    'gbm__min_rows'     : randint(5, 50),\n",
    "    'gbm__learn_rate'   : uniform(0.025, 0.075)\n",
    "}\n",
    "\n",
    "# define our grid search\n",
    "search = H2ORandomizedSearchCV(\n",
    "        estimator=pipe,\n",
    "        param_grid=hyper,\n",
    "        feature_names=['mean fractal dimension'], # passed to first estimator, the dropper\n",
    "        target_feature=y,\n",
    "        n_iter=5, # keep it small for our demo...\n",
    "        random_state=rand_state,\n",
    "        scoring='accuracy_score',\n",
    "        cv=H2OKFold(n_folds=3, shuffle=True, random_state=rand_state),\n",
    "        verbose=3\n",
    "    )\n",
    "\n",
    "# fit\n",
    "search.fit(X_train)"
   ]
  },
  {
   "cell_type": "markdown",
   "metadata": {},
   "source": [
    "### Model evaluation\n",
    "\n",
    "Beyond merely observing our validation set score, we can dig into the cross validation scores of each model in our H2O grid search, and select the model that has not only the best mean score, but the model that minimizes variability in the CV scores."
   ]
  },
  {
   "cell_type": "code",
   "execution_count": 14,
   "metadata": {
    "collapsed": false
   },
   "outputs": [
    {
     "data": {
      "image/png": "[encoded data removed]",
      "text/plain": [
       "<matplotlib.figure.Figure at 0x11d5bec10>"
      ]
     },
     "metadata": {},
     "output_type": "display_data"
    },
    {
     "data": {
      "image/png": "[encoded data removed]",
      "text/plain": [
       "<matplotlib.figure.Figure at 0x11dda1dd0>"
      ]
     },
     "metadata": {},
     "output_type": "display_data"
    },
    {
     "data": {
      "image/png": "[encoded data removed]",
      "text/plain": [
       "<matplotlib.figure.Figure at 0x11de4d590>"
      ]
     },
     "metadata": {},
     "output_type": "display_data"
    },
    {
     "data": {
      "image/png": "[encoded data removed]",
      "text/plain": [
       "<matplotlib.figure.Figure at 0x11e1f3bd0>"
      ]
     },
     "metadata": {},
     "output_type": "display_data"
    },
    {
     "data": {
      "image/png": "[encoded data removed]",
      "text/plain": [
       "<matplotlib.figure.Figure at 0x11e42dd90>"
      ]
     },
     "metadata": {},
     "output_type": "display_data"
    },
    {
     "data": {
      "image/png": "[encoded data removed]",
      "text/plain": [
       "<matplotlib.figure.Figure at 0x11e417710>"
      ]
     },
     "metadata": {},
     "output_type": "display_data"
    },
    {
     "data": {
      "text/html": [
       "<div>\n",
       "<table border=\"1\" class=\"dataframe\">\n",
       "  <thead>\n",
       "    <tr style=\"text-align: right;\">\n",
       "      <th></th>\n",
       "      <th>gbm__learn_rate</th>\n",
       "      <th>gbm__max_depth</th>\n",
       "      <th>gbm__min_rows</th>\n",
       "      <th>gbm__ntrees</th>\n",
       "      <th>mcf__threshold</th>\n",
       "      <th>nzv__threshold</th>\n",
       "      <th>score</th>\n",
       "      <th>std</th>\n",
       "    </tr>\n",
       "  </thead>\n",
       "  <tbody>\n",
       "    <tr>\n",
       "      <th>4</th>\n",
       "      <td>0.026730</td>\n",
       "      <td>5</td>\n",
       "      <td>46</td>\n",
       "      <td>77</td>\n",
       "      <td>0.982389</td>\n",
       "      <td>0.002329</td>\n",
       "      <td>0.957746</td>\n",
       "      <td>0.011270</td>\n",
       "    </tr>\n",
       "    <tr>\n",
       "      <th>3</th>\n",
       "      <td>0.038637</td>\n",
       "      <td>7</td>\n",
       "      <td>37</td>\n",
       "      <td>61</td>\n",
       "      <td>0.877379</td>\n",
       "      <td>0.000072</td>\n",
       "      <td>0.953052</td>\n",
       "      <td>0.036227</td>\n",
       "    </tr>\n",
       "    <tr>\n",
       "      <th>1</th>\n",
       "      <td>0.058437</td>\n",
       "      <td>9</td>\n",
       "      <td>15</td>\n",
       "      <td>60</td>\n",
       "      <td>0.951191</td>\n",
       "      <td>0.006012</td>\n",
       "      <td>0.934272</td>\n",
       "      <td>0.023460</td>\n",
       "    </tr>\n",
       "    <tr>\n",
       "      <th>0</th>\n",
       "      <td>0.053091</td>\n",
       "      <td>7</td>\n",
       "      <td>19</td>\n",
       "      <td>92</td>\n",
       "      <td>0.926110</td>\n",
       "      <td>0.005970</td>\n",
       "      <td>0.929577</td>\n",
       "      <td>0.019520</td>\n",
       "    </tr>\n",
       "    <tr>\n",
       "      <th>2</th>\n",
       "      <td>0.078105</td>\n",
       "      <td>8</td>\n",
       "      <td>6</td>\n",
       "      <td>73</td>\n",
       "      <td>0.941408</td>\n",
       "      <td>0.002124</td>\n",
       "      <td>0.917840</td>\n",
       "      <td>0.045546</td>\n",
       "    </tr>\n",
       "  </tbody>\n",
       "</table>\n",
       "</div>"
      ],
      "text/plain": [
       "   gbm__learn_rate  gbm__max_depth  gbm__min_rows  gbm__ntrees  \\\n",
       "4         0.026730               5             46           77   \n",
       "3         0.038637               7             37           61   \n",
       "1         0.058437               9             15           60   \n",
       "0         0.053091               7             19           92   \n",
       "2         0.078105               8              6           73   \n",
       "\n",
       "   mcf__threshold  nzv__threshold     score       std  \n",
       "4        0.982389        0.002329  0.957746  0.011270  \n",
       "3        0.877379        0.000072  0.953052  0.036227  \n",
       "1        0.951191        0.006012  0.934272  0.023460  \n",
       "0        0.926110        0.005970  0.929577  0.019520  \n",
       "2        0.941408        0.002124  0.917840  0.045546  "
      ]
     },
     "execution_count": 14,
     "metadata": {},
     "output_type": "execute_result"
    }
   ],
   "source": [
    "from skutil.utils import report_grid_score_detail\n",
    "\n",
    "# now let's look deeper...\n",
    "report_grid_score_detail(search, charts=True, sort_results=True, ascending=False)"
   ]
  },
  {
   "cell_type": "markdown",
   "metadata": {},
   "source": [
    "So our best estimator achieves a mean cross validation accuracy of 95%! We can predict on our best estimator as follows:"
   ]
  },
  {
   "cell_type": "code",
   "execution_count": 15,
   "metadata": {
    "collapsed": false
   },
   "outputs": [
    {
     "name": "stdout",
     "output_type": "stream",
     "text": [
      "gbm prediction progress: |████████████████████████████████████████████████████████████████████| 100%\n",
      "Validation accuracy: 0.95070\n"
     ]
    },
    {
     "data": {
      "text/html": [
       "<table>\n",
       "<tr><th style=\"text-align: right;\">  predict</th><th style=\"text-align: right;\">       p0</th><th style=\"text-align: right;\">       p1</th></tr>\n",
       "<tr><td style=\"text-align: right;\">        0</td><td style=\"text-align: right;\">0.795971 </td><td style=\"text-align: right;\">0.204029 </td></tr>\n",
       "<tr><td style=\"text-align: right;\">        0</td><td style=\"text-align: right;\">0.552958 </td><td style=\"text-align: right;\">0.447042 </td></tr>\n",
       "<tr><td style=\"text-align: right;\">        0</td><td style=\"text-align: right;\">0.895901 </td><td style=\"text-align: right;\">0.104099 </td></tr>\n",
       "<tr><td style=\"text-align: right;\">        0</td><td style=\"text-align: right;\">0.743729 </td><td style=\"text-align: right;\">0.256271 </td></tr>\n",
       "<tr><td style=\"text-align: right;\">        0</td><td style=\"text-align: right;\">0.904169 </td><td style=\"text-align: right;\">0.0958313</td></tr>\n",
       "<tr><td style=\"text-align: right;\">        0</td><td style=\"text-align: right;\">0.92492  </td><td style=\"text-align: right;\">0.0750799</td></tr>\n",
       "<tr><td style=\"text-align: right;\">        0</td><td style=\"text-align: right;\">0.879688 </td><td style=\"text-align: right;\">0.120312 </td></tr>\n",
       "<tr><td style=\"text-align: right;\">        1</td><td style=\"text-align: right;\">0.0893412</td><td style=\"text-align: right;\">0.910659 </td></tr>\n",
       "<tr><td style=\"text-align: right;\">        0</td><td style=\"text-align: right;\">0.91212  </td><td style=\"text-align: right;\">0.0878805</td></tr>\n",
       "<tr><td style=\"text-align: right;\">        0</td><td style=\"text-align: right;\">0.840134 </td><td style=\"text-align: right;\">0.159866 </td></tr>\n",
       "</table>"
      ]
     },
     "metadata": {},
     "output_type": "display_data"
    },
    {
     "data": {
      "text/plain": []
     },
     "execution_count": 15,
     "metadata": {},
     "output_type": "execute_result"
    }
   ],
   "source": [
    "preds = search.predict(X_test)\n",
    "\n",
    "# print accuracy\n",
    "print('Validation accuracy: %.5f' % h2o_accuracy_score(actual, preds['predict']))\n",
    "\n",
    "# look at head\n",
    "preds.head()"
   ]
  },
  {
   "cell_type": "markdown",
   "metadata": {
    "collapsed": true
   },
   "source": [
    "## Model persistence\n",
    "\n",
    "When we find a model that performs well, we can save it to disk for later use:"
   ]
  },
  {
   "cell_type": "code",
   "execution_count": 16,
   "metadata": {
    "collapsed": false
   },
   "outputs": [],
   "source": [
    "import os\n",
    "\n",
    "# get absolute path\n",
    "cwd = os.getcwd()\n",
    "model_path = os.path.join(cwd, 'grid.pkl')\n",
    "\n",
    "# save -- it's that easy!!!\n",
    "search.save(location=model_path)"
   ]
  },
  {
   "cell_type": "markdown",
   "metadata": {},
   "source": [
    "### Loading and making predictions"
   ]
  },
  {
   "cell_type": "code",
   "execution_count": 17,
   "metadata": {
    "collapsed": false
   },
   "outputs": [
    {
     "name": "stdout",
     "output_type": "stream",
     "text": [
      "gbm prediction progress: |████████████████████████████████████████████████████████████████████| 100%\n"
     ]
    },
    {
     "data": {
      "text/html": [
       "<table>\n",
       "<tr><th style=\"text-align: right;\">  predict</th><th style=\"text-align: right;\">       p0</th><th style=\"text-align: right;\">       p1</th></tr>\n",
       "<tr><td style=\"text-align: right;\">        0</td><td style=\"text-align: right;\">0.795971 </td><td style=\"text-align: right;\">0.204029 </td></tr>\n",
       "<tr><td style=\"text-align: right;\">        0</td><td style=\"text-align: right;\">0.552958 </td><td style=\"text-align: right;\">0.447042 </td></tr>\n",
       "<tr><td style=\"text-align: right;\">        0</td><td style=\"text-align: right;\">0.895901 </td><td style=\"text-align: right;\">0.104099 </td></tr>\n",
       "<tr><td style=\"text-align: right;\">        0</td><td style=\"text-align: right;\">0.743729 </td><td style=\"text-align: right;\">0.256271 </td></tr>\n",
       "<tr><td style=\"text-align: right;\">        0</td><td style=\"text-align: right;\">0.904169 </td><td style=\"text-align: right;\">0.0958313</td></tr>\n",
       "<tr><td style=\"text-align: right;\">        0</td><td style=\"text-align: right;\">0.92492  </td><td style=\"text-align: right;\">0.0750799</td></tr>\n",
       "<tr><td style=\"text-align: right;\">        0</td><td style=\"text-align: right;\">0.879688 </td><td style=\"text-align: right;\">0.120312 </td></tr>\n",
       "<tr><td style=\"text-align: right;\">        1</td><td style=\"text-align: right;\">0.0893412</td><td style=\"text-align: right;\">0.910659 </td></tr>\n",
       "<tr><td style=\"text-align: right;\">        0</td><td style=\"text-align: right;\">0.91212  </td><td style=\"text-align: right;\">0.0878805</td></tr>\n",
       "<tr><td style=\"text-align: right;\">        0</td><td style=\"text-align: right;\">0.840134 </td><td style=\"text-align: right;\">0.159866 </td></tr>\n",
       "</table>"
      ]
     },
     "metadata": {},
     "output_type": "display_data"
    },
    {
     "data": {
      "text/plain": []
     },
     "execution_count": 17,
     "metadata": {},
     "output_type": "execute_result"
    }
   ],
   "source": [
    "the_model = H2ORandomizedSearchCV.load(model_path)\n",
    "new_predictions = the_model.predict(X_test)\n",
    "new_predictions.head()"
   ]
  },
  {
   "cell_type": "markdown",
   "metadata": {},
   "source": [
    "#### Cleanup\n",
    "\n",
    "Always make sure to shut down your cluster..."
   ]
  },
  {
   "cell_type": "code",
   "execution_count": 22,
   "metadata": {
    "collapsed": false
   },
   "outputs": [
    {
     "name": "stdout",
     "output_type": "stream",
     "text": [
      "H2O session _sid_885b closed.\n"
     ]
    }
   ],
   "source": [
    "h2o.shutdown(prompt=False) # shutdown cluster\n",
    "os.unlink(model_path) # remove the pickle file..."
   ]
  }
 ],
 "metadata": {
  "kernelspec": {
   "display_name": "Python 2",
   "language": "python",
   "name": "python2"
  },
  "language_info": {
   "codemirror_mode": {
    "name": "ipython",
    "version": 2
   },
   "file_extension": ".py",
   "mimetype": "text/x-python",
   "name": "python",
   "nbconvert_exporter": "python",
   "pygments_lexer": "ipython2",
   "version": "2.7.12"
  }
 },
 "nbformat": 4,
 "nbformat_minor": 0
}
