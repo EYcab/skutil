{
 "cells": [
  {
   "cell_type": "markdown",
   "metadata": {},
   "source": [
    "# Predicting house prices\n",
    "\n",
    "In this lesson, we'll explore the boston housing dataset (which is built into `sklearn`), and walk through some basic principles of setting up and building, tuning and selecting a valid machine learning model.\n",
    "\n",
    "This lesson will use `sklearn` in conjunction with several `skutil` preprocessing techniques."
   ]
  },
  {
   "cell_type": "code",
   "execution_count": 2,
   "metadata": {
    "collapsed": false
   },
   "outputs": [
    {
     "name": "stdout",
     "output_type": "stream",
     "text": [
      "sklearn: 0.17.1\n",
      "skutil:  0.0.12\n",
      "pandas:  0.18.1\n",
      "numpy:   1.11.0\n"
     ]
    }
   ],
   "source": [
    "from __future__ import print_function, division\n",
    "import sklearn\n",
    "import skutil\n",
    "import pandas as pd\n",
    "import numpy as np\n",
    "import seaborn as sns\n",
    "from matplotlib import pyplot as plt\n",
    "%matplotlib inline\n",
    "\n",
    "print('sklearn: %s' % sklearn.__version__)\n",
    "print('skutil:  %s' % skutil.__version__)\n",
    "print('pandas:  %s' % pd.__version__)\n",
    "print('numpy:   %s' % np.__version__)"
   ]
  },
  {
   "cell_type": "markdown",
   "metadata": {},
   "source": [
    "### Loading and inspecting our data\n",
    "\n",
    "We can load our pandas dataframe and examine a sample of the data we'll be working with. On first glance, it appears every feature is numeric. This is certainly cleaner than most realworld datasets!"
   ]
  },
  {
   "cell_type": "code",
   "execution_count": 3,
   "metadata": {
    "collapsed": false
   },
   "outputs": [
    {
     "data": {
      "text/html": [
       "<div>\n",
       "<table border=\"1\" class=\"dataframe\">\n",
       "  <thead>\n",
       "    <tr style=\"text-align: right;\">\n",
       "      <th></th>\n",
       "      <th>CRIM</th>\n",
       "      <th>ZN</th>\n",
       "      <th>INDUS</th>\n",
       "      <th>CHAS</th>\n",
       "      <th>NOX</th>\n",
       "      <th>RM</th>\n",
       "      <th>AGE</th>\n",
       "      <th>DIS</th>\n",
       "      <th>RAD</th>\n",
       "      <th>TAX</th>\n",
       "      <th>PTRATIO</th>\n",
       "      <th>B</th>\n",
       "      <th>LSTAT</th>\n",
       "    </tr>\n",
       "  </thead>\n",
       "  <tbody>\n",
       "    <tr>\n",
       "      <th>0</th>\n",
       "      <td>0.00632</td>\n",
       "      <td>18.0</td>\n",
       "      <td>2.31</td>\n",
       "      <td>0.0</td>\n",
       "      <td>0.538</td>\n",
       "      <td>6.575</td>\n",
       "      <td>65.2</td>\n",
       "      <td>4.0900</td>\n",
       "      <td>1.0</td>\n",
       "      <td>296.0</td>\n",
       "      <td>15.3</td>\n",
       "      <td>396.90</td>\n",
       "      <td>4.98</td>\n",
       "    </tr>\n",
       "    <tr>\n",
       "      <th>1</th>\n",
       "      <td>0.02731</td>\n",
       "      <td>0.0</td>\n",
       "      <td>7.07</td>\n",
       "      <td>0.0</td>\n",
       "      <td>0.469</td>\n",
       "      <td>6.421</td>\n",
       "      <td>78.9</td>\n",
       "      <td>4.9671</td>\n",
       "      <td>2.0</td>\n",
       "      <td>242.0</td>\n",
       "      <td>17.8</td>\n",
       "      <td>396.90</td>\n",
       "      <td>9.14</td>\n",
       "    </tr>\n",
       "    <tr>\n",
       "      <th>2</th>\n",
       "      <td>0.02729</td>\n",
       "      <td>0.0</td>\n",
       "      <td>7.07</td>\n",
       "      <td>0.0</td>\n",
       "      <td>0.469</td>\n",
       "      <td>7.185</td>\n",
       "      <td>61.1</td>\n",
       "      <td>4.9671</td>\n",
       "      <td>2.0</td>\n",
       "      <td>242.0</td>\n",
       "      <td>17.8</td>\n",
       "      <td>392.83</td>\n",
       "      <td>4.03</td>\n",
       "    </tr>\n",
       "    <tr>\n",
       "      <th>3</th>\n",
       "      <td>0.03237</td>\n",
       "      <td>0.0</td>\n",
       "      <td>2.18</td>\n",
       "      <td>0.0</td>\n",
       "      <td>0.458</td>\n",
       "      <td>6.998</td>\n",
       "      <td>45.8</td>\n",
       "      <td>6.0622</td>\n",
       "      <td>3.0</td>\n",
       "      <td>222.0</td>\n",
       "      <td>18.7</td>\n",
       "      <td>394.63</td>\n",
       "      <td>2.94</td>\n",
       "    </tr>\n",
       "    <tr>\n",
       "      <th>4</th>\n",
       "      <td>0.06905</td>\n",
       "      <td>0.0</td>\n",
       "      <td>2.18</td>\n",
       "      <td>0.0</td>\n",
       "      <td>0.458</td>\n",
       "      <td>7.147</td>\n",
       "      <td>54.2</td>\n",
       "      <td>6.0622</td>\n",
       "      <td>3.0</td>\n",
       "      <td>222.0</td>\n",
       "      <td>18.7</td>\n",
       "      <td>396.90</td>\n",
       "      <td>5.33</td>\n",
       "    </tr>\n",
       "  </tbody>\n",
       "</table>\n",
       "</div>"
      ],
      "text/plain": [
       "      CRIM    ZN  INDUS  CHAS    NOX     RM   AGE     DIS  RAD    TAX  \\\n",
       "0  0.00632  18.0   2.31   0.0  0.538  6.575  65.2  4.0900  1.0  296.0   \n",
       "1  0.02731   0.0   7.07   0.0  0.469  6.421  78.9  4.9671  2.0  242.0   \n",
       "2  0.02729   0.0   7.07   0.0  0.469  7.185  61.1  4.9671  2.0  242.0   \n",
       "3  0.03237   0.0   2.18   0.0  0.458  6.998  45.8  6.0622  3.0  222.0   \n",
       "4  0.06905   0.0   2.18   0.0  0.458  7.147  54.2  6.0622  3.0  222.0   \n",
       "\n",
       "   PTRATIO       B  LSTAT  \n",
       "0     15.3  396.90   4.98  \n",
       "1     17.8  396.90   9.14  \n",
       "2     17.8  392.83   4.03  \n",
       "3     18.7  394.63   2.94  \n",
       "4     18.7  396.90   5.33  "
      ]
     },
     "execution_count": 3,
     "metadata": {},
     "output_type": "execute_result"
    }
   ],
   "source": [
    "from sklearn.datasets import load_boston\n",
    "\n",
    "boston = load_boston()\n",
    "X = pd.DataFrame.from_records(data=boston.data, columns=boston.feature_names)\n",
    "X.head()"
   ]
  },
  {
   "cell_type": "markdown",
   "metadata": {},
   "source": [
    "Let's examine the first few values of our target variable. Notice the value is a real number and not a class, indicating we'll we using regressive models and not classification."
   ]
  },
  {
   "cell_type": "code",
   "execution_count": 4,
   "metadata": {
    "collapsed": false
   },
   "outputs": [
    {
     "data": {
      "text/plain": [
       "array([ 24. ,  21.6,  34.7,  33.4,  36.2])"
      ]
     },
     "execution_count": 4,
     "metadata": {},
     "output_type": "execute_result"
    }
   ],
   "source": [
    "y = boston.target\n",
    "y[:5]"
   ]
  },
  {
   "cell_type": "markdown",
   "metadata": {},
   "source": [
    "By examining the `dtypes` (data types) attribute of the dataframe, our suspicion is confirmed: all of the features *are* in fact numeric. Below, we also take a look at whether there are any missing values. Luckily, in this example there are not."
   ]
  },
  {
   "cell_type": "code",
   "execution_count": 5,
   "metadata": {
    "collapsed": false
   },
   "outputs": [
    {
     "data": {
      "text/plain": [
       "CRIM       float64\n",
       "ZN         float64\n",
       "INDUS      float64\n",
       "CHAS       float64\n",
       "NOX        float64\n",
       "RM         float64\n",
       "AGE        float64\n",
       "DIS        float64\n",
       "RAD        float64\n",
       "TAX        float64\n",
       "PTRATIO    float64\n",
       "B          float64\n",
       "LSTAT      float64\n",
       "dtype: object"
      ]
     },
     "execution_count": 5,
     "metadata": {},
     "output_type": "execute_result"
    }
   ],
   "source": [
    "X.dtypes"
   ]
  },
  {
   "cell_type": "code",
   "execution_count": 25,
   "metadata": {
    "collapsed": false
   },
   "outputs": [
    {
     "data": {
      "text/plain": [
       "CRIM       0\n",
       "ZN         0\n",
       "INDUS      0\n",
       "CHAS       0\n",
       "NOX        0\n",
       "RM         0\n",
       "AGE        0\n",
       "DIS        0\n",
       "RAD        0\n",
       "TAX        0\n",
       "PTRATIO    0\n",
       "B          0\n",
       "LSTAT      0\n",
       "dtype: int64"
      ]
     },
     "execution_count": 25,
     "metadata": {},
     "output_type": "execute_result"
    }
   ],
   "source": [
    "X.isnull().sum()"
   ]
  },
  {
   "cell_type": "code",
   "execution_count": 7,
   "metadata": {
    "collapsed": false
   },
   "outputs": [
    {
     "data": {
      "text/html": [
       "<div>\n",
       "<table border=\"1\" class=\"dataframe\">\n",
       "  <thead>\n",
       "    <tr style=\"text-align: right;\">\n",
       "      <th></th>\n",
       "      <th>CRIM</th>\n",
       "      <th>ZN</th>\n",
       "      <th>INDUS</th>\n",
       "      <th>CHAS</th>\n",
       "      <th>NOX</th>\n",
       "      <th>RM</th>\n",
       "      <th>AGE</th>\n",
       "      <th>DIS</th>\n",
       "      <th>RAD</th>\n",
       "      <th>TAX</th>\n",
       "      <th>PTRATIO</th>\n",
       "      <th>B</th>\n",
       "      <th>LSTAT</th>\n",
       "    </tr>\n",
       "  </thead>\n",
       "  <tbody>\n",
       "    <tr>\n",
       "      <th>count</th>\n",
       "      <td>506.000000</td>\n",
       "      <td>506.000000</td>\n",
       "      <td>506.000000</td>\n",
       "      <td>506.000000</td>\n",
       "      <td>506.000000</td>\n",
       "      <td>506.000000</td>\n",
       "      <td>506.000000</td>\n",
       "      <td>506.000000</td>\n",
       "      <td>506.000000</td>\n",
       "      <td>506.000000</td>\n",
       "      <td>506.000000</td>\n",
       "      <td>506.000000</td>\n",
       "      <td>506.000000</td>\n",
       "    </tr>\n",
       "    <tr>\n",
       "      <th>mean</th>\n",
       "      <td>3.593761</td>\n",
       "      <td>11.363636</td>\n",
       "      <td>11.136779</td>\n",
       "      <td>0.069170</td>\n",
       "      <td>0.554695</td>\n",
       "      <td>6.284634</td>\n",
       "      <td>68.574901</td>\n",
       "      <td>3.795043</td>\n",
       "      <td>9.549407</td>\n",
       "      <td>408.237154</td>\n",
       "      <td>18.455534</td>\n",
       "      <td>356.674032</td>\n",
       "      <td>12.653063</td>\n",
       "    </tr>\n",
       "    <tr>\n",
       "      <th>std</th>\n",
       "      <td>8.596783</td>\n",
       "      <td>23.322453</td>\n",
       "      <td>6.860353</td>\n",
       "      <td>0.253994</td>\n",
       "      <td>0.115878</td>\n",
       "      <td>0.702617</td>\n",
       "      <td>28.148861</td>\n",
       "      <td>2.105710</td>\n",
       "      <td>8.707259</td>\n",
       "      <td>168.537116</td>\n",
       "      <td>2.164946</td>\n",
       "      <td>91.294864</td>\n",
       "      <td>7.141062</td>\n",
       "    </tr>\n",
       "    <tr>\n",
       "      <th>min</th>\n",
       "      <td>0.006320</td>\n",
       "      <td>0.000000</td>\n",
       "      <td>0.460000</td>\n",
       "      <td>0.000000</td>\n",
       "      <td>0.385000</td>\n",
       "      <td>3.561000</td>\n",
       "      <td>2.900000</td>\n",
       "      <td>1.129600</td>\n",
       "      <td>1.000000</td>\n",
       "      <td>187.000000</td>\n",
       "      <td>12.600000</td>\n",
       "      <td>0.320000</td>\n",
       "      <td>1.730000</td>\n",
       "    </tr>\n",
       "    <tr>\n",
       "      <th>25%</th>\n",
       "      <td>0.082045</td>\n",
       "      <td>0.000000</td>\n",
       "      <td>5.190000</td>\n",
       "      <td>0.000000</td>\n",
       "      <td>0.449000</td>\n",
       "      <td>5.885500</td>\n",
       "      <td>45.025000</td>\n",
       "      <td>2.100175</td>\n",
       "      <td>4.000000</td>\n",
       "      <td>279.000000</td>\n",
       "      <td>17.400000</td>\n",
       "      <td>375.377500</td>\n",
       "      <td>6.950000</td>\n",
       "    </tr>\n",
       "    <tr>\n",
       "      <th>50%</th>\n",
       "      <td>0.256510</td>\n",
       "      <td>0.000000</td>\n",
       "      <td>9.690000</td>\n",
       "      <td>0.000000</td>\n",
       "      <td>0.538000</td>\n",
       "      <td>6.208500</td>\n",
       "      <td>77.500000</td>\n",
       "      <td>3.207450</td>\n",
       "      <td>5.000000</td>\n",
       "      <td>330.000000</td>\n",
       "      <td>19.050000</td>\n",
       "      <td>391.440000</td>\n",
       "      <td>11.360000</td>\n",
       "    </tr>\n",
       "    <tr>\n",
       "      <th>75%</th>\n",
       "      <td>3.647423</td>\n",
       "      <td>12.500000</td>\n",
       "      <td>18.100000</td>\n",
       "      <td>0.000000</td>\n",
       "      <td>0.624000</td>\n",
       "      <td>6.623500</td>\n",
       "      <td>94.075000</td>\n",
       "      <td>5.188425</td>\n",
       "      <td>24.000000</td>\n",
       "      <td>666.000000</td>\n",
       "      <td>20.200000</td>\n",
       "      <td>396.225000</td>\n",
       "      <td>16.955000</td>\n",
       "    </tr>\n",
       "    <tr>\n",
       "      <th>max</th>\n",
       "      <td>88.976200</td>\n",
       "      <td>100.000000</td>\n",
       "      <td>27.740000</td>\n",
       "      <td>1.000000</td>\n",
       "      <td>0.871000</td>\n",
       "      <td>8.780000</td>\n",
       "      <td>100.000000</td>\n",
       "      <td>12.126500</td>\n",
       "      <td>24.000000</td>\n",
       "      <td>711.000000</td>\n",
       "      <td>22.000000</td>\n",
       "      <td>396.900000</td>\n",
       "      <td>37.970000</td>\n",
       "    </tr>\n",
       "  </tbody>\n",
       "</table>\n",
       "</div>"
      ],
      "text/plain": [
       "             CRIM          ZN       INDUS        CHAS         NOX          RM  \\\n",
       "count  506.000000  506.000000  506.000000  506.000000  506.000000  506.000000   \n",
       "mean     3.593761   11.363636   11.136779    0.069170    0.554695    6.284634   \n",
       "std      8.596783   23.322453    6.860353    0.253994    0.115878    0.702617   \n",
       "min      0.006320    0.000000    0.460000    0.000000    0.385000    3.561000   \n",
       "25%      0.082045    0.000000    5.190000    0.000000    0.449000    5.885500   \n",
       "50%      0.256510    0.000000    9.690000    0.000000    0.538000    6.208500   \n",
       "75%      3.647423   12.500000   18.100000    0.000000    0.624000    6.623500   \n",
       "max     88.976200  100.000000   27.740000    1.000000    0.871000    8.780000   \n",
       "\n",
       "              AGE         DIS         RAD         TAX     PTRATIO           B  \\\n",
       "count  506.000000  506.000000  506.000000  506.000000  506.000000  506.000000   \n",
       "mean    68.574901    3.795043    9.549407  408.237154   18.455534  356.674032   \n",
       "std     28.148861    2.105710    8.707259  168.537116    2.164946   91.294864   \n",
       "min      2.900000    1.129600    1.000000  187.000000   12.600000    0.320000   \n",
       "25%     45.025000    2.100175    4.000000  279.000000   17.400000  375.377500   \n",
       "50%     77.500000    3.207450    5.000000  330.000000   19.050000  391.440000   \n",
       "75%     94.075000    5.188425   24.000000  666.000000   20.200000  396.225000   \n",
       "max    100.000000   12.126500   24.000000  711.000000   22.000000  396.900000   \n",
       "\n",
       "            LSTAT  \n",
       "count  506.000000  \n",
       "mean    12.653063  \n",
       "std      7.141062  \n",
       "min      1.730000  \n",
       "25%      6.950000  \n",
       "50%     11.360000  \n",
       "75%     16.955000  \n",
       "max     37.970000  "
      ]
     },
     "execution_count": 7,
     "metadata": {},
     "output_type": "execute_result"
    }
   ],
   "source": [
    "X.describe()"
   ]
  },
  {
   "cell_type": "markdown",
   "metadata": {},
   "source": [
    "### Cleaning & preprocessing data\n",
    "\n",
    "Uncommonly&mdash;if not never&mdash;will your data *not* need any sort of preprocessing. Be it noisy features, skewed variables, redundant or uninformative features, your data will generally always need some massaging.\n",
    "\n",
    "One thing to be aware of is whether your input is shuffled or in order... __if your data is ordered, know why__. For example, let's build a `RandomForestRegressor` on the first few rows of `X`, and validate the model on the last rows:"
   ]
  },
  {
   "cell_type": "code",
   "execution_count": 6,
   "metadata": {
    "collapsed": false
   },
   "outputs": [
    {
     "name": "stdout",
     "output_type": "stream",
     "text": [
      "Train R^2: 0.97543\n",
      "Train RMSE: 1.32625\n",
      "\n",
      "Test R^2: 0.16424\n",
      "Test RMSE: 7.44935\n"
     ]
    }
   ],
   "source": [
    "from sklearn.ensemble import RandomForestRegressor\n",
    "from sklearn.metrics import r2_score, mean_squared_error\n",
    "\n",
    "def rmse(act, pred):\n",
    "    return np.sqrt(mean_squared_error(act, pred))\n",
    "\n",
    "# define the model\n",
    "model = RandomForestRegressor(random_state=42)\n",
    "\n",
    "# fit the model\n",
    "model.fit(X[:350], y[:350])\n",
    "\n",
    "# assess performance\n",
    "print('Train R^2: %.5f'  % r2_score(y[:350], model.predict(X[:350])))\n",
    "print('Train RMSE: %.5f\\n' % rmse(y[:350], model.predict(X[:350])))\n",
    "\n",
    "print('Test R^2: %.5f'  % r2_score(y[350:], model.predict(X[350:])))\n",
    "print('Test RMSE: %.5f' % rmse(y[350:], model.predict(X[350:])))"
   ]
  },
  {
   "cell_type": "markdown",
   "metadata": {},
   "source": [
    "Notice the extreme drop-off in validation performance! It's likely there are phenomena in the test data that were not observed in the training data, and the model was not induced to capture such nuances.\n",
    "\n",
    "### The `train_test_split`\n",
    "\n",
    "The sooner you can split your data, the better. `sklearn` provides a built-in mechanism for just this: `sklearn.cross_validation.train_test_split`. This will split your data to the specified size, and shuffle the observations at the same time. \n",
    "\n",
    "Notice we create two splits:\n",
    "  - Train&mdash;the set on which we'll develop our model\n",
    "  - Test&mdash;the set we'll use to select our final model. __We don't touch this until the end!__"
   ]
  },
  {
   "cell_type": "code",
   "execution_count": 30,
   "metadata": {
    "collapsed": true
   },
   "outputs": [],
   "source": [
    "from sklearn.cross_validation import train_test_split\n",
    "\n",
    "# split the train and test sets\n",
    "X_train, X_test, y_train, y_test = train_test_split(X, y, train_size=0.8)"
   ]
  },
  {
   "cell_type": "code",
   "execution_count": 31,
   "metadata": {
    "collapsed": false
   },
   "outputs": [
    {
     "name": "stdout",
     "output_type": "stream",
     "text": [
      "Train R^2: 0.95947\n",
      "Train RMSE: 1.83760\n",
      "\n",
      "Test R^2: 0.90997\n",
      "Test RMSE: 2.79551\n"
     ]
    }
   ],
   "source": [
    "# fit the model\n",
    "model.fit(X_train, y_train)\n",
    "\n",
    "# assess performance\n",
    "print('Train R^2: %.5f'  % r2_score(y_train, model.predict(X_train)))\n",
    "print('Train RMSE: %.5f\\n' % rmse(y_train, model.predict(X_train)))\n",
    "\n",
    "print('Test R^2: %.5f'  % r2_score(y_test, model.predict(X_test)))\n",
    "print('Test RMSE: %.5f' % rmse(y_test, model.predict(X_test)))"
   ]
  },
  {
   "cell_type": "markdown",
   "metadata": {},
   "source": [
    "Notice that our test performance is now much more similar to our training performance. \n",
    "\n",
    "__Note:__ *It is bad practice to evaluate your model against your test set whilst modeling, but this was just to exemplify how shuffling observations can have a dramatic impact.*"
   ]
  },
  {
   "cell_type": "markdown",
   "metadata": {},
   "source": [
    "\n",
    "### Transforming features\n",
    "\n",
    "How can we make this model perform better? There may be some strange/skewed distributions within our data that we could coerce into a more normal shape. Let's take a look at just a few (you could do this for all features, but for the sake of example, we'll only look at a handful)."
   ]
  },
  {
   "cell_type": "code",
   "execution_count": 32,
   "metadata": {
    "collapsed": true
   },
   "outputs": [],
   "source": [
    "# start by defining a very simple histogram function\n",
    "def hist(x, scale = 1, style = 'darkgrid', left = None, right = None, xlab='Count', ylab='Y'):\n",
    "    x = x if not isinstance(x, pd.Series) else x.tolist()\n",
    "    \n",
    "    figure = plt.figure()\n",
    "    \n",
    "    sns.set(style = style)\n",
    "    sns.distplot(x * scale, hist = True, kde = False, norm_hist = True)\n",
    "    \n",
    "    ax = figure.get_axes()[0]\n",
    "    ax.set_xlim(left  = left  or int(np.ceil(np.min(x))), \n",
    "                right = right or int(np.ceil(np.max(x))))\n",
    "    \n",
    "    ax.set_xlabel(xlab)\n",
    "    ax.set_ylabel(ylab)"
   ]
  },
  {
   "cell_type": "markdown",
   "metadata": {},
   "source": [
    "Notice the crime feature is quite skewed. We may be able to make it more normal with a `BoxCoxTransformer`. We can apply this technique to other features as well, but it is not always guaranteed to work well."
   ]
  },
  {
   "cell_type": "code",
   "execution_count": 43,
   "metadata": {
    "collapsed": false
   },
   "outputs": [
    {
     "data": {
      "image/png": "[encoded data removed]",
      "text/plain": [
       "<matplotlib.figure.Figure at 0x117c70e10>"
      ]
     },
     "metadata": {},
     "output_type": "display_data"
    }
   ],
   "source": [
    "hist(x=X_train.CRIM, ylab='Crime rate')"
   ]
  },
  {
   "cell_type": "code",
   "execution_count": 44,
   "metadata": {
    "collapsed": false
   },
   "outputs": [
    {
     "data": {
      "image/png": "[encoded data removed]",
      "text/plain": [
       "<matplotlib.figure.Figure at 0x11824c990>"
      ]
     },
     "metadata": {},
     "output_type": "display_data"
    }
   ],
   "source": [
    "from skutil.preprocessing import BoxCoxTransformer\n",
    "\n",
    "hist(BoxCoxTransformer(cols=['CRIM']).fit_transform(X_train).CRIM.tolist(), ylab='Crime transformed')"
   ]
  },
  {
   "cell_type": "markdown",
   "metadata": {},
   "source": [
    "### Feature selection\n",
    "\n",
    "How do we know which features to retain? In this toy example, we have a manageable amount of features, however in the text analytics or computer vision domains, we often have >100,000 features. Let's explore techniques for reducing this high dimensionality without impacting the predictive power of our model (in no particular order):"
   ]
  },
  {
   "cell_type": "markdown",
   "metadata": {},
   "source": [
    "__1. Eliminate multicollinearity:__"
   ]
  },
  {
   "cell_type": "code",
   "execution_count": 46,
   "metadata": {
    "collapsed": false
   },
   "outputs": [
    {
     "data": {
      "text/plain": [
       "['TAX']"
      ]
     },
     "execution_count": 46,
     "metadata": {},
     "output_type": "execute_result"
    }
   ],
   "source": [
    "from skutil.feature_selection import MulticollinearityFilterer\n",
    "\n",
    "# let's see if any features are collinear with one another:\n",
    "fltr = MulticollinearityFilterer(threshold=0.9).fit(X_train)\n",
    "\n",
    "# examine the drop attribute\n",
    "fltr.drop"
   ]
  },
  {
   "cell_type": "markdown",
   "metadata": {},
   "source": [
    "The `MulticollinearityFilterer` searches through a correlation matrix for any correlations greater than the provided threshold. When a high correlation is observed between two variables, the function examines the mean absolute correlation of each feature and removes the one that is most highly-correlated with other features as well."
   ]
  },
  {
   "cell_type": "markdown",
   "metadata": {},
   "source": [
    "__2. Eliminate features with near zero variance__:"
   ]
  },
  {
   "cell_type": "code",
   "execution_count": 52,
   "metadata": {
    "collapsed": false
   },
   "outputs": [],
   "source": [
    "from skutil.feature_selection import NearZeroVarianceFilterer\n",
    "\n",
    "# define and fit the filterer\n",
    "fltr = NearZeroVarianceFilterer(threshold=1e-4).fit(X_train)\n",
    "\n",
    "# examine the dropped cols\n",
    "fltr.drop"
   ]
  },
  {
   "cell_type": "markdown",
   "metadata": {},
   "source": [
    "Notice there are no features with variance less than the threshold, so the result was `None`. If we wanted, we could adjust that threshold.\n",
    "\n",
    "__3. PCA ([Principal Component Analysis](https://www.cs.princeton.edu/picasso/mats/PCA-Tutorial-Intuition_jp.pdf))__\n",
    "\n",
    "*(Note that this isn't actually a feature selection technique, but a feature reduction technique that results in a set of features which are linear combinations of the original input space)*"
   ]
  },
  {
   "cell_type": "code",
   "execution_count": 53,
   "metadata": {
    "collapsed": false
   },
   "outputs": [
    {
     "data": {
      "text/html": [
       "<div>\n",
       "<table border=\"1\" class=\"dataframe\">\n",
       "  <thead>\n",
       "    <tr style=\"text-align: right;\">\n",
       "      <th></th>\n",
       "      <th>PC1</th>\n",
       "      <th>PC2</th>\n",
       "    </tr>\n",
       "  </thead>\n",
       "  <tbody>\n",
       "    <tr>\n",
       "      <th>0</th>\n",
       "      <td>-127.032002</td>\n",
       "      <td>-0.580292</td>\n",
       "    </tr>\n",
       "    <tr>\n",
       "      <th>1</th>\n",
       "      <td>40.341698</td>\n",
       "      <td>-111.797891</td>\n",
       "    </tr>\n",
       "    <tr>\n",
       "      <th>2</th>\n",
       "      <td>242.887926</td>\n",
       "      <td>116.939897</td>\n",
       "    </tr>\n",
       "    <tr>\n",
       "      <th>3</th>\n",
       "      <td>-157.131713</td>\n",
       "      <td>-14.872539</td>\n",
       "    </tr>\n",
       "    <tr>\n",
       "      <th>4</th>\n",
       "      <td>21.197731</td>\n",
       "      <td>17.834017</td>\n",
       "    </tr>\n",
       "  </tbody>\n",
       "</table>\n",
       "</div>"
      ],
      "text/plain": [
       "          PC1         PC2\n",
       "0 -127.032002   -0.580292\n",
       "1   40.341698 -111.797891\n",
       "2  242.887926  116.939897\n",
       "3 -157.131713  -14.872539\n",
       "4   21.197731   17.834017"
      ]
     },
     "execution_count": 53,
     "metadata": {},
     "output_type": "execute_result"
    }
   ],
   "source": [
    "from skutil.decomposition import SelectivePCA\n",
    "\n",
    "# define and fit\n",
    "pca = SelectivePCA(n_components=0.85).fit(X_train)\n",
    "\n",
    "# examine the head\n",
    "pca.transform(X_train).head()"
   ]
  },
  {
   "cell_type": "markdown",
   "metadata": {},
   "source": [
    "Notice we effectively reduced the input space to two dimensions while retaining at least 85% of the variability in the matrix!\n",
    "\n",
    "### Putting it all together in a model\n",
    "\n",
    "How can we use all of the aforementioned techniques to preprocess our data prior to modeling?"
   ]
  },
  {
   "cell_type": "code",
   "execution_count": 55,
   "metadata": {
    "collapsed": false
   },
   "outputs": [
    {
     "name": "stdout",
     "output_type": "stream",
     "text": [
      "Train R^2: 0.93301\n",
      "Train RMSE: 2.36250\n",
      "\n"
     ]
    }
   ],
   "source": [
    "from skutil.preprocessing import SelectiveScaler\n",
    "\n",
    "# multicollinearity\n",
    "mcf = MulticollinearityFilterer(threshold=0.9).fit(X_train)\n",
    "mcf_train = mcf.transform(X_train)\n",
    "\n",
    "# near zero variance\n",
    "nzv = NearZeroVarianceFilterer(threshold=1e-4).fit(mcf_train)\n",
    "nzv_train = nzv.transform(mcf_train)\n",
    "\n",
    "# box-cox\n",
    "bc = BoxCoxTransformer(cols=['CRIM']).fit(nzv_train)\n",
    "bc_train = bc.transform(nzv_train)\n",
    "\n",
    "# add a step: scaling\n",
    "scl = SelectiveScaler().fit(bc_train)\n",
    "scl_train = scl.transform(bc_train)\n",
    "\n",
    "# pca\n",
    "pca = SelectivePCA(n_components=0.85).fit(scl_train)\n",
    "pca_train = pca.transform(scl_train)\n",
    "\n",
    "# fit the model\n",
    "model.fit(pca_train, y_train)\n",
    "\n",
    "# assess performance\n",
    "print('Train R^2: %.5f'  % r2_score(y_train, model.predict(pca_train)))\n",
    "print('Train RMSE: %.5f\\n' % rmse(y_train, model.predict(pca_train)))"
   ]
  },
  {
   "cell_type": "markdown",
   "metadata": {},
   "source": [
    "That's nice, but it's kind of a mess. What if we have a ton of preprocessors to keep track of? Things could get hairy. That's what the __`Pipeline`__ object is for. `Pipeline` stores a sequence of *named transformers* with an optional `BaseEstimator` as the last element. The only arg in the `Pipeline` constructor is a single list of tuples:\n",
    "\n",
    "    pipe = Pipeline([\n",
    "        ('name_of_first_step',  FirstTransformer()),\n",
    "        ('name_of_second_step', SecondTransformer())\n",
    "    ])"
   ]
  },
  {
   "cell_type": "code",
   "execution_count": 60,
   "metadata": {
    "collapsed": false
   },
   "outputs": [
    {
     "name": "stdout",
     "output_type": "stream",
     "text": [
      "Train R^2: 0.93301\n",
      "Train RMSE: 2.36250\n",
      "\n"
     ]
    }
   ],
   "source": [
    "from sklearn.pipeline import Pipeline\n",
    "\n",
    "# define our pipe\n",
    "pipe = Pipeline([\n",
    "        ('mc',  MulticollinearityFilterer(threshold=0.9)),\n",
    "        ('nzv', NearZeroVarianceFilterer(threshold=1e-4)),\n",
    "        ('bc',  BoxCoxTransformer(cols=['CRIM'])),\n",
    "        ('sc',  SelectiveScaler()),\n",
    "        ('pca', SelectivePCA(n_components=0.85)),\n",
    "        ('rf',  RandomForestRegressor(random_state=42))\n",
    "    ])\n",
    "\n",
    "# fit our pipeline\n",
    "pipe.fit(X_train, y_train)\n",
    "\n",
    "# assess performance\n",
    "print('Train R^2: %.5f'  % r2_score(y_train, pipe.predict(X_train)))\n",
    "print('Train RMSE: %.5f\\n'   % rmse(y_train, pipe.predict(X_train)))"
   ]
  },
  {
   "cell_type": "markdown",
   "metadata": {},
   "source": [
    "Notice we get the exact same results, but the code is much more elegant with fewer intermediate variables lying around. \n",
    "\n",
    "However, at a closer inspection, we can see that our results are not as good as they were before preprocessing. Presumably, if we could tweak our preprocessing hyperparameters to optimize our algorithm, we could identify a model with better performance. Furthermore, the astute will note that we have not yet introduced any __cross validation__:"
   ]
  },
  {
   "cell_type": "code",
   "execution_count": 61,
   "metadata": {
    "collapsed": true
   },
   "outputs": [],
   "source": [
    "from sklearn.cross_validation import KFold\n",
    "\n",
    "# the default sklearn cross validation does NOT shuffle, and you know how we feel about that...\n",
    "custom_cv = KFold(n=y_train.shape[0], n_folds=5, shuffle=True, random_state=42)"
   ]
  },
  {
   "cell_type": "markdown",
   "metadata": {},
   "source": [
    "Now we introduce the __grid search__, the mechanism by which we will search over a random space of hyperparameters, building cross-validated models at each iteration and retaining the model that performs best."
   ]
  },
  {
   "cell_type": "code",
   "execution_count": 66,
   "metadata": {
    "collapsed": false
   },
   "outputs": [
    {
     "name": "stdout",
     "output_type": "stream",
     "text": [
      "Train R^2: 0.94191\n",
      "Train RMSE: 2.19996\n",
      "\n"
     ]
    }
   ],
   "source": [
    "# make sure to use the SKUTIL grid search for DF compatability, and not the SKLEARN one.\n",
    "from skutil.grid_search import RandomizedSearchCV\n",
    "from scipy.stats import uniform, randint\n",
    "from sklearn.preprocessing import StandardScaler, RobustScaler, MinMaxScaler\n",
    "\n",
    "# define our pipe\n",
    "pipe = Pipeline([\n",
    "        ('mc',  MulticollinearityFilterer(threshold=0.9)),\n",
    "        ('nzv', NearZeroVarianceFilterer(threshold=1e-4)),\n",
    "        ('bc',  BoxCoxTransformer()),\n",
    "        ('sc',  SelectiveScaler()),\n",
    "        ('pca', SelectivePCA(n_components=0.85)),\n",
    "        ('rf',  RandomForestRegressor(random_state=42))\n",
    "    ])\n",
    "\n",
    "# let's define the hyperparameters we'll search over. Notice the form of:\n",
    "# '<stage_nm>__<arg_nm>'\n",
    "hyperparams = {\n",
    "    'mc__threshold'        : uniform(0.80, 0.15),\n",
    "    'nzv__threshold'       : [1e-4, 1e-2, 0.05],\n",
    "    'sc__scaler'           : [StandardScaler(), RobustScaler(), MinMaxScaler()],\n",
    "    'pca__n_components'    : uniform(0.85, 0.2),\n",
    "    'pca__whiten'          : [True, False],\n",
    "    'rf__n_estimators'     : randint(15, 150),\n",
    "    'rf__max_depth'        : randint(5, 50),\n",
    "    'rf__min_samples_split': randint(2, 5),\n",
    "    'rf__min_samples_leaf' : randint(1, 3),\n",
    "    'rf__bootstrap'        : [True, False]\n",
    "}\n",
    "\n",
    "# define and fit\n",
    "search = RandomizedSearchCV(pipe, hyperparams, cv=custom_cv, random_state=42, n_iter=10)\n",
    "search.fit(X_train, y_train)\n",
    "\n",
    "# assess performance\n",
    "print('Train R^2: %.5f'  % r2_score(y_train, search.predict(X_train)))\n",
    "print('Train RMSE: %.5f\\n'   % rmse(y_train, search.predict(X_train)))"
   ]
  },
  {
   "cell_type": "markdown",
   "metadata": {},
   "source": [
    "That's better! We can actually view our grid results like so:"
   ]
  },
  {
   "cell_type": "code",
   "execution_count": 67,
   "metadata": {
    "collapsed": false
   },
   "outputs": [
    {
     "data": {
      "image/png": "[encoded data removed]",
      "text/plain": [
       "<matplotlib.figure.Figure at 0x1093c6990>"
      ]
     },
     "metadata": {},
     "output_type": "display_data"
    },
    {
     "data": {
      "image/png": "[encoded data removed]",
      "text/plain": [
       "<matplotlib.figure.Figure at 0x118ae93d0>"
      ]
     },
     "metadata": {},
     "output_type": "display_data"
    },
    {
     "data": {
      "image/png": "[encoded data removed]",
      "text/plain": [
       "<matplotlib.figure.Figure at 0x118b27d90>"
      ]
     },
     "metadata": {},
     "output_type": "display_data"
    },
    {
     "data": {
      "image/png": "[encoded data removed]",
      "text/plain": [
       "<matplotlib.figure.Figure at 0x118c96990>"
      ]
     },
     "metadata": {},
     "output_type": "display_data"
    },
    {
     "data": {
      "image/png": "[encoded data removed]",
      "text/plain": [
       "<matplotlib.figure.Figure at 0x118a22a50>"
      ]
     },
     "metadata": {},
     "output_type": "display_data"
    },
    {
     "data": {
      "image/png": "[encoded data removed]",
      "text/plain": [
       "<matplotlib.figure.Figure at 0x11824c450>"
      ]
     },
     "metadata": {},
     "output_type": "display_data"
    },
    {
     "data": {
      "image/png": "[encoded data removed]",
      "text/plain": [
       "<matplotlib.figure.Figure at 0x117f4c4d0>"
      ]
     },
     "metadata": {},
     "output_type": "display_data"
    },
    {
     "data": {
      "image/png": "[encoded data removed]",
      "text/plain": [
       "<matplotlib.figure.Figure at 0x117e7acd0>"
      ]
     },
     "metadata": {},
     "output_type": "display_data"
    },
    {
     "data": {
      "image/png": "[encoded data removed]",
      "text/plain": [
       "<matplotlib.figure.Figure at 0x118ed0f10>"
      ]
     },
     "metadata": {},
     "output_type": "display_data"
    },
    {
     "data": {
      "image/png": "[encoded data removed]",
      "text/plain": [
       "<matplotlib.figure.Figure at 0x1193c0310>"
      ]
     },
     "metadata": {},
     "output_type": "display_data"
    },
    {
     "data": {
      "text/html": [
       "<div>\n",
       "<table border=\"1\" class=\"dataframe\">\n",
       "  <thead>\n",
       "    <tr style=\"text-align: right;\">\n",
       "      <th></th>\n",
       "      <th>mc__threshold</th>\n",
       "      <th>nzv__threshold</th>\n",
       "      <th>pca__n_components</th>\n",
       "      <th>pca__whiten</th>\n",
       "      <th>rf__bootstrap</th>\n",
       "      <th>rf__max_depth</th>\n",
       "      <th>rf__min_samples_leaf</th>\n",
       "      <th>rf__min_samples_split</th>\n",
       "      <th>rf__n_estimators</th>\n",
       "      <th>sc__scaler</th>\n",
       "      <th>score</th>\n",
       "      <th>std</th>\n",
       "    </tr>\n",
       "  </thead>\n",
       "  <tbody>\n",
       "    <tr>\n",
       "      <th>7</th>\n",
       "      <td>0.897535</td>\n",
       "      <td>0.0001</td>\n",
       "      <td>0.974878</td>\n",
       "      <td>False</td>\n",
       "      <td>True</td>\n",
       "      <td>38</td>\n",
       "      <td>2</td>\n",
       "      <td>2</td>\n",
       "      <td>88</td>\n",
       "      <td>StandardScaler(copy=True, with_mean=True, with...</td>\n",
       "      <td>0.732939</td>\n",
       "      <td>0.198438</td>\n",
       "    </tr>\n",
       "    <tr>\n",
       "      <th>1</th>\n",
       "      <td>0.844390</td>\n",
       "      <td>0.0500</td>\n",
       "      <td>0.945233</td>\n",
       "      <td>False</td>\n",
       "      <td>True</td>\n",
       "      <td>22</td>\n",
       "      <td>2</td>\n",
       "      <td>4</td>\n",
       "      <td>92</td>\n",
       "      <td>StandardScaler(copy=True, with_mean=True, with...</td>\n",
       "      <td>0.720002</td>\n",
       "      <td>0.239932</td>\n",
       "    </tr>\n",
       "    <tr>\n",
       "      <th>0</th>\n",
       "      <td>0.914204</td>\n",
       "      <td>0.0500</td>\n",
       "      <td>0.942786</td>\n",
       "      <td>False</td>\n",
       "      <td>True</td>\n",
       "      <td>46</td>\n",
       "      <td>1</td>\n",
       "      <td>2</td>\n",
       "      <td>91</td>\n",
       "      <td>MinMaxScaler(copy=True, feature_range=(0, 1))</td>\n",
       "      <td>0.699571</td>\n",
       "      <td>0.140645</td>\n",
       "    </tr>\n",
       "    <tr>\n",
       "      <th>9</th>\n",
       "      <td>0.946992</td>\n",
       "      <td>0.0500</td>\n",
       "      <td>0.925367</td>\n",
       "      <td>False</td>\n",
       "      <td>False</td>\n",
       "      <td>34</td>\n",
       "      <td>2</td>\n",
       "      <td>2</td>\n",
       "      <td>125</td>\n",
       "      <td>MinMaxScaler(copy=True, feature_range=(0, 1))</td>\n",
       "      <td>0.599463</td>\n",
       "      <td>0.174391</td>\n",
       "    </tr>\n",
       "    <tr>\n",
       "      <th>5</th>\n",
       "      <td>0.887159</td>\n",
       "      <td>0.0100</td>\n",
       "      <td>0.914093</td>\n",
       "      <td>False</td>\n",
       "      <td>False</td>\n",
       "      <td>46</td>\n",
       "      <td>1</td>\n",
       "      <td>2</td>\n",
       "      <td>69</td>\n",
       "      <td>StandardScaler(copy=True, with_mean=True, with...</td>\n",
       "      <td>0.566240</td>\n",
       "      <td>0.281318</td>\n",
       "    </tr>\n",
       "    <tr>\n",
       "      <th>2</th>\n",
       "      <td>0.907824</td>\n",
       "      <td>0.0500</td>\n",
       "      <td>0.852737</td>\n",
       "      <td>False</td>\n",
       "      <td>True</td>\n",
       "      <td>11</td>\n",
       "      <td>2</td>\n",
       "      <td>2</td>\n",
       "      <td>143</td>\n",
       "      <td>MinMaxScaler(copy=True, feature_range=(0, 1))</td>\n",
       "      <td>0.564402</td>\n",
       "      <td>0.245087</td>\n",
       "    </tr>\n",
       "    <tr>\n",
       "      <th>3</th>\n",
       "      <td>0.844234</td>\n",
       "      <td>0.0500</td>\n",
       "      <td>0.878161</td>\n",
       "      <td>True</td>\n",
       "      <td>False</td>\n",
       "      <td>29</td>\n",
       "      <td>2</td>\n",
       "      <td>4</td>\n",
       "      <td>61</td>\n",
       "      <td>StandardScaler(copy=True, with_mean=True, with...</td>\n",
       "      <td>0.480873</td>\n",
       "      <td>0.140829</td>\n",
       "    </tr>\n",
       "    <tr>\n",
       "      <th>6</th>\n",
       "      <td>0.815208</td>\n",
       "      <td>0.0001</td>\n",
       "      <td>0.909565</td>\n",
       "      <td>False</td>\n",
       "      <td>False</td>\n",
       "      <td>13</td>\n",
       "      <td>2</td>\n",
       "      <td>4</td>\n",
       "      <td>48</td>\n",
       "      <td>RobustScaler(copy=True, with_centering=True, w...</td>\n",
       "      <td>0.002336</td>\n",
       "      <td>0.023562</td>\n",
       "    </tr>\n",
       "    <tr>\n",
       "      <th>4</th>\n",
       "      <td>0.949640</td>\n",
       "      <td>0.0500</td>\n",
       "      <td>0.886405</td>\n",
       "      <td>False</td>\n",
       "      <td>True</td>\n",
       "      <td>12</td>\n",
       "      <td>2</td>\n",
       "      <td>4</td>\n",
       "      <td>49</td>\n",
       "      <td>RobustScaler(copy=True, with_centering=True, w...</td>\n",
       "      <td>0.001396</td>\n",
       "      <td>0.025003</td>\n",
       "    </tr>\n",
       "    <tr>\n",
       "      <th>8</th>\n",
       "      <td>0.852254</td>\n",
       "      <td>0.0500</td>\n",
       "      <td>0.886292</td>\n",
       "      <td>True</td>\n",
       "      <td>True</td>\n",
       "      <td>6</td>\n",
       "      <td>1</td>\n",
       "      <td>3</td>\n",
       "      <td>47</td>\n",
       "      <td>RobustScaler(copy=True, with_centering=True, w...</td>\n",
       "      <td>0.000914</td>\n",
       "      <td>0.025443</td>\n",
       "    </tr>\n",
       "  </tbody>\n",
       "</table>\n",
       "</div>"
      ],
      "text/plain": [
       "   mc__threshold  nzv__threshold  pca__n_components pca__whiten rf__bootstrap  \\\n",
       "7       0.897535          0.0001           0.974878       False          True   \n",
       "1       0.844390          0.0500           0.945233       False          True   \n",
       "0       0.914204          0.0500           0.942786       False          True   \n",
       "9       0.946992          0.0500           0.925367       False         False   \n",
       "5       0.887159          0.0100           0.914093       False         False   \n",
       "2       0.907824          0.0500           0.852737       False          True   \n",
       "3       0.844234          0.0500           0.878161        True         False   \n",
       "6       0.815208          0.0001           0.909565       False         False   \n",
       "4       0.949640          0.0500           0.886405       False          True   \n",
       "8       0.852254          0.0500           0.886292        True          True   \n",
       "\n",
       "   rf__max_depth  rf__min_samples_leaf  rf__min_samples_split  \\\n",
       "7             38                     2                      2   \n",
       "1             22                     2                      4   \n",
       "0             46                     1                      2   \n",
       "9             34                     2                      2   \n",
       "5             46                     1                      2   \n",
       "2             11                     2                      2   \n",
       "3             29                     2                      4   \n",
       "6             13                     2                      4   \n",
       "4             12                     2                      4   \n",
       "8              6                     1                      3   \n",
       "\n",
       "   rf__n_estimators                                         sc__scaler  \\\n",
       "7                88  StandardScaler(copy=True, with_mean=True, with...   \n",
       "1                92  StandardScaler(copy=True, with_mean=True, with...   \n",
       "0                91      MinMaxScaler(copy=True, feature_range=(0, 1))   \n",
       "9               125      MinMaxScaler(copy=True, feature_range=(0, 1))   \n",
       "5                69  StandardScaler(copy=True, with_mean=True, with...   \n",
       "2               143      MinMaxScaler(copy=True, feature_range=(0, 1))   \n",
       "3                61  StandardScaler(copy=True, with_mean=True, with...   \n",
       "6                48  RobustScaler(copy=True, with_centering=True, w...   \n",
       "4                49  RobustScaler(copy=True, with_centering=True, w...   \n",
       "8                47  RobustScaler(copy=True, with_centering=True, w...   \n",
       "\n",
       "      score       std  \n",
       "7  0.732939  0.198438  \n",
       "1  0.720002  0.239932  \n",
       "0  0.699571  0.140645  \n",
       "9  0.599463  0.174391  \n",
       "5  0.566240  0.281318  \n",
       "2  0.564402  0.245087  \n",
       "3  0.480873  0.140829  \n",
       "6  0.002336  0.023562  \n",
       "4  0.001396  0.025003  \n",
       "8  0.000914  0.025443  "
      ]
     },
     "execution_count": 67,
     "metadata": {},
     "output_type": "execute_result"
    }
   ],
   "source": [
    "from skutil.utils import report_grid_score_detail\n",
    "report_grid_score_detail(random_search=search, charts=True)"
   ]
  },
  {
   "cell_type": "markdown",
   "metadata": {},
   "source": [
    "In viewing these results, we can make educated decisions on refining our grid such that we don't waste time searching over parameters that detrimentally impact the performace."
   ]
  },
  {
   "cell_type": "code",
   "execution_count": 68,
   "metadata": {
    "collapsed": false
   },
   "outputs": [
    {
     "name": "stdout",
     "output_type": "stream",
     "text": [
      "Train R^2: 0.94808\n",
      "Train RMSE: 2.07990\n",
      "\n"
     ]
    }
   ],
   "source": [
    "# define our pipe\n",
    "pipe = Pipeline([\n",
    "        ('mc',  MulticollinearityFilterer(threshold=0.9)),\n",
    "        ('nzv', NearZeroVarianceFilterer(threshold=1e-4)),\n",
    "        ('bc',  BoxCoxTransformer()),\n",
    "        ('sc',  SelectiveScaler()),\n",
    "        ('pca', SelectivePCA(n_components=0.85)),\n",
    "        ('rf',  RandomForestRegressor(random_state=42))\n",
    "    ])\n",
    "\n",
    "# let's define the hyperparameters we'll search over. Notice the form of:\n",
    "# '<stage_nm>__<arg_nm>'\n",
    "hyperparams = {\n",
    "    'mc__threshold'        : uniform(0.80, 0.15),\n",
    "    # 'nzv__threshold'       : [1e-4, 1e-2, 0.05], # not going to bother\n",
    "    'sc__scaler'           : [StandardScaler(), RobustScaler(), MinMaxScaler()],\n",
    "    'pca__n_components'    : uniform(0.95, 0.05),  # min = 0.95 now\n",
    "    # 'pca__whiten'          : [True, False],      # no longer whiten\n",
    "    'rf__n_estimators'     : randint(90, 200),     # min = 90 now, max = 200\n",
    "    'rf__max_depth'        : randint(25, 50),      # min = 25 now\n",
    "    'rf__min_samples_split': randint(2, 5),\n",
    "    'rf__min_samples_leaf' : randint(1, 3),\n",
    "    'rf__bootstrap'        : [True, False]\n",
    "}\n",
    "\n",
    "# define and fit\n",
    "search = RandomizedSearchCV(pipe, hyperparams, cv=custom_cv, random_state=42, n_iter=15) # incremented to 15 X\n",
    "search.fit(X_train, y_train)\n",
    "\n",
    "# assess performance\n",
    "print('Train R^2: %.5f'  % r2_score(y_train, search.predict(X_train)))\n",
    "print('Train RMSE: %.5f\\n'   % rmse(y_train, search.predict(X_train)))"
   ]
  },
  {
   "cell_type": "markdown",
   "metadata": {},
   "source": [
    "### Trying a different model\n",
    "\n",
    "We have a pretty good `RandomForestRegressor` at this point... why don't we try a different model?"
   ]
  },
  {
   "cell_type": "code",
   "execution_count": 71,
   "metadata": {
    "collapsed": false
   },
   "outputs": [
    {
     "name": "stdout",
     "output_type": "stream",
     "text": [
      "Train R^2: 0.99998\n",
      "Train RMSE: 0.03995\n",
      "\n"
     ]
    }
   ],
   "source": [
    "from sklearn.ensemble import GradientBoostingRegressor\n",
    "\n",
    "# define our pipe\n",
    "gbm_pipe = Pipeline([\n",
    "        ('mc',  MulticollinearityFilterer(threshold=0.9)),\n",
    "        ('nzv', NearZeroVarianceFilterer(threshold=1e-4)),\n",
    "        ('bc',  BoxCoxTransformer()),\n",
    "        ('sc',  SelectiveScaler()),\n",
    "        ('pca', SelectivePCA(n_components=0.85)),\n",
    "        ('gbm', GradientBoostingRegressor(random_state=42))\n",
    "    ])\n",
    "\n",
    "# let's define the hyperparameters we'll search over.\n",
    "gbm_hyperparams = {\n",
    "    'mc__threshold'        : uniform(0.80, 0.15),\n",
    "    'sc__scaler'           : [StandardScaler(), RobustScaler(), MinMaxScaler()],\n",
    "    'pca__n_components'    : uniform(0.95, 0.05),\n",
    "    'gbm__n_estimators'    : randint(90, 200),\n",
    "    'gbm__learning_rate'   : uniform(0.075, 0.05),\n",
    "    'gbm__max_depth'       : randint(2, 7), # we grow these more shallow\n",
    "}\n",
    "\n",
    "# define and fit\n",
    "gbm_search = RandomizedSearchCV(gbm_pipe, gbm_hyperparams, cv=custom_cv, random_state=42, n_iter=15)\n",
    "gbm_search.fit(X_train, y_train)\n",
    "\n",
    "# assess performance\n",
    "print('Train R^2: %.5f'  % r2_score(y_train, gbm_search.predict(X_train)))\n",
    "print('Train RMSE: %.5f\\n'   % rmse(y_train, gbm_search.predict(X_train)))"
   ]
  },
  {
   "cell_type": "markdown",
   "metadata": {},
   "source": [
    "Wow, that looks fantastic! However, GBMs are much more likely to overfit the data. We'll need to see how it performs on the holdout set to determine whether it's actually a good model.\n",
    "\n",
    "### Evaluating performance on our holdout set\n",
    "\n",
    "This happens *once*. When you've built a selection of models, we evaluate each __one time__ against the holdout set for our final model selection."
   ]
  },
  {
   "cell_type": "code",
   "execution_count": 73,
   "metadata": {
    "collapsed": false
   },
   "outputs": [
    {
     "name": "stdout",
     "output_type": "stream",
     "text": [
      "RF test R^2: 0.82640\n",
      "RF test RMSE: 3.88196\n",
      "\n",
      "GBM test R^2: 0.81255\n",
      "GBM test RMSE: 4.03380\n"
     ]
    }
   ],
   "source": [
    "# examine RF performance\n",
    "print('RF test R^2: %.5f'  % r2_score(y_test, search.predict(X_test)))\n",
    "print('RF test RMSE: %.5f\\n' % rmse(y_test,     search.predict(X_test)))\n",
    "\n",
    "# examine GBM performance\n",
    "print('GBM test R^2: %.5f'  % r2_score(y_test, gbm_search.predict(X_test)))\n",
    "print('GBM test RMSE: %.5f' % rmse(y_test,     gbm_search.predict(X_test)))"
   ]
  },
  {
   "cell_type": "markdown",
   "metadata": {},
   "source": [
    "We can see that we've likely overfit our GBM (given the dramatic drop off in performance). We could return and tune the models to diminish this effect, but for the sake of example, we'll say our RF was our better model. __See the [next demo](https://github.com/tgsmith61591/skutil/blob/master/doc/examples/pipeline/skutil%20grid%20demo.ipynb)__ for information on how to persist models to disk."
   ]
  }
 ],
 "metadata": {
  "kernelspec": {
   "display_name": "Python 2",
   "language": "python",
   "name": "python2"
  },
  "language_info": {
   "codemirror_mode": {
    "name": "ipython",
    "version": 2
   },
   "file_extension": ".py",
   "mimetype": "text/x-python",
   "name": "python",
   "nbconvert_exporter": "python",
   "pygments_lexer": "ipython2",
   "version": "2.7.11"
  }
 },
 "nbformat": 4,
 "nbformat_minor": 0
}
