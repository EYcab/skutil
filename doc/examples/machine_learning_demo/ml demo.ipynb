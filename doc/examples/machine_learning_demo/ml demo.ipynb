{
 "cells": [
  {
   "cell_type": "markdown",
   "metadata": {},
   "source": [
    "# Predicting house prices\n",
    "\n",
    "In this lesson, we'll explore the boston housing dataset (which is built into `sklearn`), and walk through some basic principles of setting up and building, tuning and selecting a valid machine learning model.\n",
    "\n",
    "This lesson will use `sklearn` in conjunction with several `skutil` preprocessing techniques."
   ]
  },
  {
   "cell_type": "code",
   "execution_count": 2,
   "metadata": {
    "collapsed": false
   },
   "outputs": [
    {
     "name": "stdout",
     "output_type": "stream",
     "text": [
      "sklearn: 0.17.1\n",
      "skutil:  0.0.13\n",
      "pandas:  0.18.1\n",
      "numpy:   1.11.0\n"
     ]
    }
   ],
   "source": [
    "from __future__ import print_function, division\n",
    "import sklearn\n",
    "import skutil\n",
    "import pandas as pd\n",
    "import numpy as np\n",
    "import seaborn as sns\n",
    "from matplotlib import pyplot as plt\n",
    "%matplotlib inline\n",
    "\n",
    "print('sklearn: %s' % sklearn.__version__)\n",
    "print('skutil:  %s' % skutil.__version__)\n",
    "print('pandas:  %s' % pd.__version__)\n",
    "print('numpy:   %s' % np.__version__)"
   ]
  },
  {
   "cell_type": "markdown",
   "metadata": {},
   "source": [
    "### Loading and inspecting our data\n",
    "\n",
    "We can load our pandas dataframe and examine a sample of the data we'll be working with. On first glance, it appears every feature is numeric. This is certainly cleaner than most realworld datasets!"
   ]
  },
  {
   "cell_type": "code",
   "execution_count": 3,
   "metadata": {
    "collapsed": false
   },
   "outputs": [
    {
     "data": {
      "text/html": [
       "<div>\n",
       "<table border=\"1\" class=\"dataframe\">\n",
       "  <thead>\n",
       "    <tr style=\"text-align: right;\">\n",
       "      <th></th>\n",
       "      <th>CRIM</th>\n",
       "      <th>ZN</th>\n",
       "      <th>INDUS</th>\n",
       "      <th>CHAS</th>\n",
       "      <th>NOX</th>\n",
       "      <th>RM</th>\n",
       "      <th>AGE</th>\n",
       "      <th>DIS</th>\n",
       "      <th>RAD</th>\n",
       "      <th>TAX</th>\n",
       "      <th>PTRATIO</th>\n",
       "      <th>B</th>\n",
       "      <th>LSTAT</th>\n",
       "    </tr>\n",
       "  </thead>\n",
       "  <tbody>\n",
       "    <tr>\n",
       "      <th>0</th>\n",
       "      <td>0.00632</td>\n",
       "      <td>18.0</td>\n",
       "      <td>2.31</td>\n",
       "      <td>0.0</td>\n",
       "      <td>0.538</td>\n",
       "      <td>6.575</td>\n",
       "      <td>65.2</td>\n",
       "      <td>4.0900</td>\n",
       "      <td>1.0</td>\n",
       "      <td>296.0</td>\n",
       "      <td>15.3</td>\n",
       "      <td>396.90</td>\n",
       "      <td>4.98</td>\n",
       "    </tr>\n",
       "    <tr>\n",
       "      <th>1</th>\n",
       "      <td>0.02731</td>\n",
       "      <td>0.0</td>\n",
       "      <td>7.07</td>\n",
       "      <td>0.0</td>\n",
       "      <td>0.469</td>\n",
       "      <td>6.421</td>\n",
       "      <td>78.9</td>\n",
       "      <td>4.9671</td>\n",
       "      <td>2.0</td>\n",
       "      <td>242.0</td>\n",
       "      <td>17.8</td>\n",
       "      <td>396.90</td>\n",
       "      <td>9.14</td>\n",
       "    </tr>\n",
       "    <tr>\n",
       "      <th>2</th>\n",
       "      <td>0.02729</td>\n",
       "      <td>0.0</td>\n",
       "      <td>7.07</td>\n",
       "      <td>0.0</td>\n",
       "      <td>0.469</td>\n",
       "      <td>7.185</td>\n",
       "      <td>61.1</td>\n",
       "      <td>4.9671</td>\n",
       "      <td>2.0</td>\n",
       "      <td>242.0</td>\n",
       "      <td>17.8</td>\n",
       "      <td>392.83</td>\n",
       "      <td>4.03</td>\n",
       "    </tr>\n",
       "    <tr>\n",
       "      <th>3</th>\n",
       "      <td>0.03237</td>\n",
       "      <td>0.0</td>\n",
       "      <td>2.18</td>\n",
       "      <td>0.0</td>\n",
       "      <td>0.458</td>\n",
       "      <td>6.998</td>\n",
       "      <td>45.8</td>\n",
       "      <td>6.0622</td>\n",
       "      <td>3.0</td>\n",
       "      <td>222.0</td>\n",
       "      <td>18.7</td>\n",
       "      <td>394.63</td>\n",
       "      <td>2.94</td>\n",
       "    </tr>\n",
       "    <tr>\n",
       "      <th>4</th>\n",
       "      <td>0.06905</td>\n",
       "      <td>0.0</td>\n",
       "      <td>2.18</td>\n",
       "      <td>0.0</td>\n",
       "      <td>0.458</td>\n",
       "      <td>7.147</td>\n",
       "      <td>54.2</td>\n",
       "      <td>6.0622</td>\n",
       "      <td>3.0</td>\n",
       "      <td>222.0</td>\n",
       "      <td>18.7</td>\n",
       "      <td>396.90</td>\n",
       "      <td>5.33</td>\n",
       "    </tr>\n",
       "  </tbody>\n",
       "</table>\n",
       "</div>"
      ],
      "text/plain": [
       "      CRIM    ZN  INDUS  CHAS    NOX     RM   AGE     DIS  RAD    TAX  \\\n",
       "0  0.00632  18.0   2.31   0.0  0.538  6.575  65.2  4.0900  1.0  296.0   \n",
       "1  0.02731   0.0   7.07   0.0  0.469  6.421  78.9  4.9671  2.0  242.0   \n",
       "2  0.02729   0.0   7.07   0.0  0.469  7.185  61.1  4.9671  2.0  242.0   \n",
       "3  0.03237   0.0   2.18   0.0  0.458  6.998  45.8  6.0622  3.0  222.0   \n",
       "4  0.06905   0.0   2.18   0.0  0.458  7.147  54.2  6.0622  3.0  222.0   \n",
       "\n",
       "   PTRATIO       B  LSTAT  \n",
       "0     15.3  396.90   4.98  \n",
       "1     17.8  396.90   9.14  \n",
       "2     17.8  392.83   4.03  \n",
       "3     18.7  394.63   2.94  \n",
       "4     18.7  396.90   5.33  "
      ]
     },
     "execution_count": 3,
     "metadata": {},
     "output_type": "execute_result"
    }
   ],
   "source": [
    "from sklearn.datasets import load_boston\n",
    "\n",
    "boston = load_boston()\n",
    "X = pd.DataFrame.from_records(data=boston.data, columns=boston.feature_names)\n",
    "X.head()"
   ]
  },
  {
   "cell_type": "markdown",
   "metadata": {},
   "source": [
    "Let's examine the first few values of our target variable. Notice the value is a real number and not a class, indicating we'll we using regressive models and not classification."
   ]
  },
  {
   "cell_type": "code",
   "execution_count": 4,
   "metadata": {
    "collapsed": false
   },
   "outputs": [
    {
     "data": {
      "text/plain": [
       "array([ 24. ,  21.6,  34.7,  33.4,  36.2])"
      ]
     },
     "execution_count": 4,
     "metadata": {},
     "output_type": "execute_result"
    }
   ],
   "source": [
    "y = boston.target\n",
    "y[:5]"
   ]
  },
  {
   "cell_type": "markdown",
   "metadata": {},
   "source": [
    "By examining the `dtypes` (data types) attribute of the dataframe, our suspicion is confirmed: all of the features *are* in fact numeric. Below, we also take a look at whether there are any missing values. Luckily, in this example there are not."
   ]
  },
  {
   "cell_type": "code",
   "execution_count": 5,
   "metadata": {
    "collapsed": false
   },
   "outputs": [
    {
     "data": {
      "text/plain": [
       "CRIM       float64\n",
       "ZN         float64\n",
       "INDUS      float64\n",
       "CHAS       float64\n",
       "NOX        float64\n",
       "RM         float64\n",
       "AGE        float64\n",
       "DIS        float64\n",
       "RAD        float64\n",
       "TAX        float64\n",
       "PTRATIO    float64\n",
       "B          float64\n",
       "LSTAT      float64\n",
       "dtype: object"
      ]
     },
     "execution_count": 5,
     "metadata": {},
     "output_type": "execute_result"
    }
   ],
   "source": [
    "X.dtypes"
   ]
  },
  {
   "cell_type": "code",
   "execution_count": 6,
   "metadata": {
    "collapsed": false
   },
   "outputs": [
    {
     "data": {
      "text/plain": [
       "CRIM       0\n",
       "ZN         0\n",
       "INDUS      0\n",
       "CHAS       0\n",
       "NOX        0\n",
       "RM         0\n",
       "AGE        0\n",
       "DIS        0\n",
       "RAD        0\n",
       "TAX        0\n",
       "PTRATIO    0\n",
       "B          0\n",
       "LSTAT      0\n",
       "dtype: int64"
      ]
     },
     "execution_count": 6,
     "metadata": {},
     "output_type": "execute_result"
    }
   ],
   "source": [
    "X.isnull().sum()"
   ]
  },
  {
   "cell_type": "code",
   "execution_count": 7,
   "metadata": {
    "collapsed": false
   },
   "outputs": [
    {
     "data": {
      "text/html": [
       "<div>\n",
       "<table border=\"1\" class=\"dataframe\">\n",
       "  <thead>\n",
       "    <tr style=\"text-align: right;\">\n",
       "      <th></th>\n",
       "      <th>CRIM</th>\n",
       "      <th>ZN</th>\n",
       "      <th>INDUS</th>\n",
       "      <th>CHAS</th>\n",
       "      <th>NOX</th>\n",
       "      <th>RM</th>\n",
       "      <th>AGE</th>\n",
       "      <th>DIS</th>\n",
       "      <th>RAD</th>\n",
       "      <th>TAX</th>\n",
       "      <th>PTRATIO</th>\n",
       "      <th>B</th>\n",
       "      <th>LSTAT</th>\n",
       "    </tr>\n",
       "  </thead>\n",
       "  <tbody>\n",
       "    <tr>\n",
       "      <th>count</th>\n",
       "      <td>506.000000</td>\n",
       "      <td>506.000000</td>\n",
       "      <td>506.000000</td>\n",
       "      <td>506.000000</td>\n",
       "      <td>506.000000</td>\n",
       "      <td>506.000000</td>\n",
       "      <td>506.000000</td>\n",
       "      <td>506.000000</td>\n",
       "      <td>506.000000</td>\n",
       "      <td>506.000000</td>\n",
       "      <td>506.000000</td>\n",
       "      <td>506.000000</td>\n",
       "      <td>506.000000</td>\n",
       "    </tr>\n",
       "    <tr>\n",
       "      <th>mean</th>\n",
       "      <td>3.593761</td>\n",
       "      <td>11.363636</td>\n",
       "      <td>11.136779</td>\n",
       "      <td>0.069170</td>\n",
       "      <td>0.554695</td>\n",
       "      <td>6.284634</td>\n",
       "      <td>68.574901</td>\n",
       "      <td>3.795043</td>\n",
       "      <td>9.549407</td>\n",
       "      <td>408.237154</td>\n",
       "      <td>18.455534</td>\n",
       "      <td>356.674032</td>\n",
       "      <td>12.653063</td>\n",
       "    </tr>\n",
       "    <tr>\n",
       "      <th>std</th>\n",
       "      <td>8.596783</td>\n",
       "      <td>23.322453</td>\n",
       "      <td>6.860353</td>\n",
       "      <td>0.253994</td>\n",
       "      <td>0.115878</td>\n",
       "      <td>0.702617</td>\n",
       "      <td>28.148861</td>\n",
       "      <td>2.105710</td>\n",
       "      <td>8.707259</td>\n",
       "      <td>168.537116</td>\n",
       "      <td>2.164946</td>\n",
       "      <td>91.294864</td>\n",
       "      <td>7.141062</td>\n",
       "    </tr>\n",
       "    <tr>\n",
       "      <th>min</th>\n",
       "      <td>0.006320</td>\n",
       "      <td>0.000000</td>\n",
       "      <td>0.460000</td>\n",
       "      <td>0.000000</td>\n",
       "      <td>0.385000</td>\n",
       "      <td>3.561000</td>\n",
       "      <td>2.900000</td>\n",
       "      <td>1.129600</td>\n",
       "      <td>1.000000</td>\n",
       "      <td>187.000000</td>\n",
       "      <td>12.600000</td>\n",
       "      <td>0.320000</td>\n",
       "      <td>1.730000</td>\n",
       "    </tr>\n",
       "    <tr>\n",
       "      <th>25%</th>\n",
       "      <td>0.082045</td>\n",
       "      <td>0.000000</td>\n",
       "      <td>5.190000</td>\n",
       "      <td>0.000000</td>\n",
       "      <td>0.449000</td>\n",
       "      <td>5.885500</td>\n",
       "      <td>45.025000</td>\n",
       "      <td>2.100175</td>\n",
       "      <td>4.000000</td>\n",
       "      <td>279.000000</td>\n",
       "      <td>17.400000</td>\n",
       "      <td>375.377500</td>\n",
       "      <td>6.950000</td>\n",
       "    </tr>\n",
       "    <tr>\n",
       "      <th>50%</th>\n",
       "      <td>0.256510</td>\n",
       "      <td>0.000000</td>\n",
       "      <td>9.690000</td>\n",
       "      <td>0.000000</td>\n",
       "      <td>0.538000</td>\n",
       "      <td>6.208500</td>\n",
       "      <td>77.500000</td>\n",
       "      <td>3.207450</td>\n",
       "      <td>5.000000</td>\n",
       "      <td>330.000000</td>\n",
       "      <td>19.050000</td>\n",
       "      <td>391.440000</td>\n",
       "      <td>11.360000</td>\n",
       "    </tr>\n",
       "    <tr>\n",
       "      <th>75%</th>\n",
       "      <td>3.647423</td>\n",
       "      <td>12.500000</td>\n",
       "      <td>18.100000</td>\n",
       "      <td>0.000000</td>\n",
       "      <td>0.624000</td>\n",
       "      <td>6.623500</td>\n",
       "      <td>94.075000</td>\n",
       "      <td>5.188425</td>\n",
       "      <td>24.000000</td>\n",
       "      <td>666.000000</td>\n",
       "      <td>20.200000</td>\n",
       "      <td>396.225000</td>\n",
       "      <td>16.955000</td>\n",
       "    </tr>\n",
       "    <tr>\n",
       "      <th>max</th>\n",
       "      <td>88.976200</td>\n",
       "      <td>100.000000</td>\n",
       "      <td>27.740000</td>\n",
       "      <td>1.000000</td>\n",
       "      <td>0.871000</td>\n",
       "      <td>8.780000</td>\n",
       "      <td>100.000000</td>\n",
       "      <td>12.126500</td>\n",
       "      <td>24.000000</td>\n",
       "      <td>711.000000</td>\n",
       "      <td>22.000000</td>\n",
       "      <td>396.900000</td>\n",
       "      <td>37.970000</td>\n",
       "    </tr>\n",
       "  </tbody>\n",
       "</table>\n",
       "</div>"
      ],
      "text/plain": [
       "             CRIM          ZN       INDUS        CHAS         NOX          RM  \\\n",
       "count  506.000000  506.000000  506.000000  506.000000  506.000000  506.000000   \n",
       "mean     3.593761   11.363636   11.136779    0.069170    0.554695    6.284634   \n",
       "std      8.596783   23.322453    6.860353    0.253994    0.115878    0.702617   \n",
       "min      0.006320    0.000000    0.460000    0.000000    0.385000    3.561000   \n",
       "25%      0.082045    0.000000    5.190000    0.000000    0.449000    5.885500   \n",
       "50%      0.256510    0.000000    9.690000    0.000000    0.538000    6.208500   \n",
       "75%      3.647423   12.500000   18.100000    0.000000    0.624000    6.623500   \n",
       "max     88.976200  100.000000   27.740000    1.000000    0.871000    8.780000   \n",
       "\n",
       "              AGE         DIS         RAD         TAX     PTRATIO           B  \\\n",
       "count  506.000000  506.000000  506.000000  506.000000  506.000000  506.000000   \n",
       "mean    68.574901    3.795043    9.549407  408.237154   18.455534  356.674032   \n",
       "std     28.148861    2.105710    8.707259  168.537116    2.164946   91.294864   \n",
       "min      2.900000    1.129600    1.000000  187.000000   12.600000    0.320000   \n",
       "25%     45.025000    2.100175    4.000000  279.000000   17.400000  375.377500   \n",
       "50%     77.500000    3.207450    5.000000  330.000000   19.050000  391.440000   \n",
       "75%     94.075000    5.188425   24.000000  666.000000   20.200000  396.225000   \n",
       "max    100.000000   12.126500   24.000000  711.000000   22.000000  396.900000   \n",
       "\n",
       "            LSTAT  \n",
       "count  506.000000  \n",
       "mean    12.653063  \n",
       "std      7.141062  \n",
       "min      1.730000  \n",
       "25%      6.950000  \n",
       "50%     11.360000  \n",
       "75%     16.955000  \n",
       "max     37.970000  "
      ]
     },
     "execution_count": 7,
     "metadata": {},
     "output_type": "execute_result"
    }
   ],
   "source": [
    "X.describe()"
   ]
  },
  {
   "cell_type": "markdown",
   "metadata": {},
   "source": [
    "### Cleaning & preprocessing data\n",
    "\n",
    "Uncommonly&mdash;if not never&mdash;will your data *not* need any sort of preprocessing. Be it noisy features, skewed variables, redundant or uninformative features, your data will generally always need some massaging.\n",
    "\n",
    "One thing to be aware of is whether your input is shuffled or in order... __if your data is ordered, know why__. For example, let's build a `RandomForestRegressor` on the first few rows of `X`, and validate the model on the last rows:"
   ]
  },
  {
   "cell_type": "code",
   "execution_count": 8,
   "metadata": {
    "collapsed": false
   },
   "outputs": [
    {
     "name": "stdout",
     "output_type": "stream",
     "text": [
      "Train R^2: 0.97543\n",
      "Train RMSE: 1.32625\n",
      "\n",
      "Test R^2: 0.16424\n",
      "Test RMSE: 7.44935\n"
     ]
    }
   ],
   "source": [
    "from sklearn.ensemble import RandomForestRegressor\n",
    "from sklearn.metrics import r2_score, mean_squared_error\n",
    "\n",
    "def rmse(act, pred):\n",
    "    return np.sqrt(mean_squared_error(act, pred))\n",
    "\n",
    "# define the model\n",
    "model = RandomForestRegressor(random_state=42)\n",
    "\n",
    "# fit the model\n",
    "model.fit(X[:350], y[:350])\n",
    "\n",
    "# assess performance\n",
    "print('Train R^2: %.5f'  % r2_score(y[:350], model.predict(X[:350])))\n",
    "print('Train RMSE: %.5f\\n' % rmse(y[:350], model.predict(X[:350])))\n",
    "\n",
    "print('Test R^2: %.5f'  % r2_score(y[350:], model.predict(X[350:])))\n",
    "print('Test RMSE: %.5f' % rmse(y[350:], model.predict(X[350:])))"
   ]
  },
  {
   "cell_type": "markdown",
   "metadata": {},
   "source": [
    "Notice the extreme drop-off in validation performance! It's likely there are phenomena in the test data that were not observed in the training data, and the model was not induced to capture such nuances.\n",
    "\n",
    "### The `train_test_split`\n",
    "\n",
    "The sooner you can split your data, the better. `sklearn` provides a built-in mechanism for just this: `sklearn.cross_validation.train_test_split`. This will split your data to the specified size, and shuffle the observations at the same time. \n",
    "\n",
    "Notice we create *three* splits:\n",
    "  - Train&mdash;the set on which we'll develop our model\n",
    "  - Validate&mdash;the set on which we assess performance of our model\n",
    "  - Test&mdash;the set we'll use to select our final model. __We don't touch this until the end!__"
   ]
  },
  {
   "cell_type": "code",
   "execution_count": 9,
   "metadata": {
    "collapsed": false
   },
   "outputs": [
    {
     "name": "stdout",
     "output_type": "stream",
     "text": [
      "Train size: 304\n",
      "Validation size: 101\n",
      "Holdout size: 101\n"
     ]
    }
   ],
   "source": [
    "from sklearn.cross_validation import train_test_split\n",
    "\n",
    "tr_size = int(0.6 * X.shape[0])\n",
    "va_te_size = int((X.shape[0] - tr_size) / 2)\n",
    "\n",
    "# split the train/val and test sets\n",
    "X_train, X_test, y_train, y_test = train_test_split(X, y, test_size=va_te_size) \n",
    "\n",
    "# split the train/val apart\n",
    "X_train, X_val, y_train, y_val = train_test_split(X_train, y_train, test_size=va_te_size)\n",
    "\n",
    "print('Train size: %i' % X_train.shape[0])\n",
    "print('Validation size: %i' % X_val.shape[0])\n",
    "print('Holdout size: %i' % X_test.shape[0])"
   ]
  },
  {
   "cell_type": "code",
   "execution_count": 10,
   "metadata": {
    "collapsed": false
   },
   "outputs": [
    {
     "name": "stdout",
     "output_type": "stream",
     "text": [
      "Train R^2: 0.96157\n",
      "Train RMSE: 1.76292\n",
      "\n",
      "Val R^2: 0.81943\n",
      "Val RMSE: 4.00728\n"
     ]
    }
   ],
   "source": [
    "# fit the model\n",
    "model.fit(X_train, y_train)\n",
    "\n",
    "# assess performance\n",
    "print('Train R^2: %.5f'  % r2_score(y_train, model.predict(X_train)))\n",
    "print('Train RMSE: %.5f\\n' % rmse(y_train, model.predict(X_train)))\n",
    "\n",
    "print('Val R^2: %.5f'  % r2_score(y_val, model.predict(X_val)))\n",
    "print('Val RMSE: %.5f' % rmse(y_val, model.predict(X_val)))"
   ]
  },
  {
   "cell_type": "markdown",
   "metadata": {},
   "source": [
    "Notice that our validation performance is now much more similar to our training performance. \n",
    "\n",
    "__Note:__ *It is bad practice to evaluate your model against your test set whilst modeling, so we use our validation set to examine incremental performance*"
   ]
  },
  {
   "cell_type": "markdown",
   "metadata": {},
   "source": [
    "\n",
    "### Transforming features\n",
    "\n",
    "How can we make this model perform better? There may be some strange/skewed distributions within our data that we could coerce into a more normal shape. Let's take a look at just a few (you could do this for all features, but for the sake of example, we'll only look at a handful)."
   ]
  },
  {
   "cell_type": "code",
   "execution_count": 11,
   "metadata": {
    "collapsed": true
   },
   "outputs": [],
   "source": [
    "# start by defining a very simple histogram function\n",
    "def hist(x, scale = 1, style = 'darkgrid', left = None, right = None, xlab='Count', ylab='Y'):\n",
    "    x = x if not isinstance(x, pd.Series) else x.tolist()\n",
    "    \n",
    "    figure = plt.figure()\n",
    "    \n",
    "    sns.set(style = style)\n",
    "    sns.distplot(x * scale, hist = True, kde = False, norm_hist = True)\n",
    "    \n",
    "    ax = figure.get_axes()[0]\n",
    "    ax.set_xlim(left  = left  or int(np.ceil(np.min(x))), \n",
    "                right = right or int(np.ceil(np.max(x))))\n",
    "    \n",
    "    ax.set_xlabel(xlab)\n",
    "    ax.set_ylabel(ylab)"
   ]
  },
  {
   "cell_type": "markdown",
   "metadata": {},
   "source": [
    "Notice the crime feature is quite skewed. We may be able to make it more normal with a `BoxCoxTransformer`. We can apply this technique to other features as well, but it is not always guaranteed to work well."
   ]
  },
  {
   "cell_type": "code",
   "execution_count": 12,
   "metadata": {
    "collapsed": false
   },
   "outputs": [
    {
     "data": {
      "image/png": "[encoded data removed]",
      "text/plain": [
       "<matplotlib.figure.Figure at 0x1167d9090>"
      ]
     },
     "metadata": {},
     "output_type": "display_data"
    }
   ],
   "source": [
    "hist(x=X_train.CRIM, ylab='Crime rate')"
   ]
  },
  {
   "cell_type": "code",
   "execution_count": 14,
   "metadata": {
    "collapsed": false
   },
   "outputs": [
    {
     "data": {
      "image/png": "[encoded data removed]",
      "text/plain": [
       "<matplotlib.figure.Figure at 0x117c89d50>"
      ]
     },
     "metadata": {},
     "output_type": "display_data"
    }
   ],
   "source": [
    "from skutil.preprocessing import BoxCoxTransformer\n",
    "\n",
    "hist(BoxCoxTransformer(cols=['CRIM']).fit_transform(X_train).CRIM.tolist(), ylab='Crime transformed')"
   ]
  },
  {
   "cell_type": "markdown",
   "metadata": {},
   "source": [
    "### Feature selection\n",
    "\n",
    "How do we know which features to retain? In this toy example, we have a manageable amount of features, however in the text analytics or computer vision domains, we often have >100,000 features. Let's explore techniques for reducing this high dimensionality without impacting the predictive power of our model (in no particular order):"
   ]
  },
  {
   "cell_type": "markdown",
   "metadata": {},
   "source": [
    "__1. Eliminate multicollinearity:__"
   ]
  },
  {
   "cell_type": "code",
   "execution_count": 15,
   "metadata": {
    "collapsed": false
   },
   "outputs": [
    {
     "data": {
      "text/plain": [
       "['TAX']"
      ]
     },
     "execution_count": 15,
     "metadata": {},
     "output_type": "execute_result"
    }
   ],
   "source": [
    "from skutil.feature_selection import MulticollinearityFilterer\n",
    "\n",
    "# let's see if any features are collinear with one another:\n",
    "fltr = MulticollinearityFilterer(threshold=0.9).fit(X_train)\n",
    "\n",
    "# examine the drop attribute\n",
    "fltr.drop"
   ]
  },
  {
   "cell_type": "markdown",
   "metadata": {},
   "source": [
    "The `MulticollinearityFilterer` searches through a correlation matrix for any correlations greater than the provided threshold. When a high correlation is observed between two variables, the function examines the mean absolute correlation of each feature and removes the one that is most highly-correlated with other features as well."
   ]
  },
  {
   "cell_type": "markdown",
   "metadata": {},
   "source": [
    "__2. Eliminate features with near zero variance__:"
   ]
  },
  {
   "cell_type": "code",
   "execution_count": 16,
   "metadata": {
    "collapsed": false
   },
   "outputs": [],
   "source": [
    "from skutil.feature_selection import NearZeroVarianceFilterer\n",
    "\n",
    "# define and fit the filterer\n",
    "fltr = NearZeroVarianceFilterer(threshold=1e-4).fit(X_train)\n",
    "\n",
    "# examine the dropped cols\n",
    "fltr.drop"
   ]
  },
  {
   "cell_type": "markdown",
   "metadata": {},
   "source": [
    "Notice there are no features with variance less than the threshold, so the result was `None`. If we wanted, we could adjust that threshold.\n",
    "\n",
    "__3. PCA ([Principal Component Analysis](https://www.cs.princeton.edu/picasso/mats/PCA-Tutorial-Intuition_jp.pdf))__\n",
    "\n",
    "*(Note that this isn't actually a feature selection technique, but a feature reduction technique that results in a set of features which are linear combinations of the original input space)*"
   ]
  },
  {
   "cell_type": "code",
   "execution_count": 17,
   "metadata": {
    "collapsed": false
   },
   "outputs": [
    {
     "data": {
      "text/html": [
       "<div>\n",
       "<table border=\"1\" class=\"dataframe\">\n",
       "  <thead>\n",
       "    <tr style=\"text-align: right;\">\n",
       "      <th></th>\n",
       "      <th>PC1</th>\n",
       "      <th>PC2</th>\n",
       "    </tr>\n",
       "  </thead>\n",
       "  <tbody>\n",
       "    <tr>\n",
       "      <th>0</th>\n",
       "      <td>-238.102956</td>\n",
       "      <td>110.325234</td>\n",
       "    </tr>\n",
       "    <tr>\n",
       "      <th>1</th>\n",
       "      <td>138.802417</td>\n",
       "      <td>-3.246269</td>\n",
       "    </tr>\n",
       "    <tr>\n",
       "      <th>2</th>\n",
       "      <td>89.139731</td>\n",
       "      <td>9.242997</td>\n",
       "    </tr>\n",
       "    <tr>\n",
       "      <th>3</th>\n",
       "      <td>111.718522</td>\n",
       "      <td>-15.849379</td>\n",
       "    </tr>\n",
       "    <tr>\n",
       "      <th>4</th>\n",
       "      <td>110.971250</td>\n",
       "      <td>8.055599</td>\n",
       "    </tr>\n",
       "  </tbody>\n",
       "</table>\n",
       "</div>"
      ],
      "text/plain": [
       "          PC1         PC2\n",
       "0 -238.102956  110.325234\n",
       "1  138.802417   -3.246269\n",
       "2   89.139731    9.242997\n",
       "3  111.718522  -15.849379\n",
       "4  110.971250    8.055599"
      ]
     },
     "execution_count": 17,
     "metadata": {},
     "output_type": "execute_result"
    }
   ],
   "source": [
    "from skutil.decomposition import SelectivePCA\n",
    "\n",
    "# define and fit\n",
    "pca = SelectivePCA(n_components=0.85).fit(X_train)\n",
    "\n",
    "# examine the head\n",
    "pca.transform(X_train).head()"
   ]
  },
  {
   "cell_type": "markdown",
   "metadata": {},
   "source": [
    "Notice we effectively reduced the input space to two dimensions while retaining at least 85% of the variability in the matrix!\n",
    "\n",
    "### Putting it all together in a model\n",
    "\n",
    "How can we use all of the aforementioned techniques to preprocess our data prior to modeling?"
   ]
  },
  {
   "cell_type": "code",
   "execution_count": 20,
   "metadata": {
    "collapsed": false
   },
   "outputs": [
    {
     "name": "stdout",
     "output_type": "stream",
     "text": [
      "Train R^2: 0.95395\n",
      "Train RMSE: 1.92976\n",
      "\n"
     ]
    }
   ],
   "source": [
    "from skutil.preprocessing import SelectiveScaler\n",
    "\n",
    "# multicollinearity\n",
    "mcf = MulticollinearityFilterer(threshold=0.9).fit(X_train)\n",
    "mcf_train = mcf.transform(X_train)\n",
    "\n",
    "# near zero variance\n",
    "nzv = NearZeroVarianceFilterer(threshold=1e-4).fit(mcf_train)\n",
    "nzv_train = nzv.transform(mcf_train)\n",
    "\n",
    "# add a step: scaling\n",
    "scl = SelectiveScaler().fit(nzv_train)\n",
    "scl_train = scl.transform(nzv_train)\n",
    "\n",
    "# pca\n",
    "pca = SelectivePCA(n_components=0.85).fit(scl_train)\n",
    "pca_train = pca.transform(scl_train)\n",
    "\n",
    "# fit the model\n",
    "model.fit(pca_train, y_train)\n",
    "\n",
    "# assess performance on validation set\n",
    "print('Train R^2: %.5f'  % r2_score(y_train, model.predict(pca_train)))\n",
    "print('Train RMSE: %.5f\\n' % rmse(y_train, model.predict(pca_train)))"
   ]
  },
  {
   "cell_type": "markdown",
   "metadata": {},
   "source": [
    "That's nice, but it's kind of a mess. What if we have a ton of preprocessors to keep track of? Things could get hairy. Furthermore, if we want to assess performance on our validation set, we have to get just as many intermediate predictions. What a pain!\n",
    "\n",
    "That's what the __`Pipeline`__ object is for. `Pipeline` stores a sequence of *named transformers* with an optional `BaseEstimator` as the last element. The only arg in the `Pipeline` constructor is a single list of tuples:\n",
    "\n",
    "    pipe = Pipeline([\n",
    "        ('name_of_first_step',  FirstTransformer()),\n",
    "        ('name_of_second_step', SecondTransformer())\n",
    "    ])"
   ]
  },
  {
   "cell_type": "code",
   "execution_count": 21,
   "metadata": {
    "collapsed": false
   },
   "outputs": [
    {
     "name": "stdout",
     "output_type": "stream",
     "text": [
      "Train R^2: 0.95395\n",
      "Train RMSE: 1.92976\n",
      "\n",
      "Validation R^2: 0.70628\n",
      "Validation RMSE: 5.11078\n",
      "\n"
     ]
    }
   ],
   "source": [
    "from sklearn.pipeline import Pipeline\n",
    "\n",
    "# define our pipe\n",
    "pipe = Pipeline([\n",
    "        ('mc',  MulticollinearityFilterer(threshold=0.9)),\n",
    "        ('nzv', NearZeroVarianceFilterer(threshold=1e-4)),\n",
    "        ('sc',  SelectiveScaler()),\n",
    "        ('pca', SelectivePCA(n_components=0.85)),\n",
    "        ('rf',  RandomForestRegressor(random_state=42))\n",
    "    ])\n",
    "\n",
    "# fit our pipeline\n",
    "pipe.fit(X_train, y_train)\n",
    "\n",
    "# assess performance\n",
    "print('Train R^2: %.5f'  % r2_score(y_train, pipe.predict(X_train)))\n",
    "print('Train RMSE: %.5f\\n'   % rmse(y_train, pipe.predict(X_train)))\n",
    "\n",
    "print('Validation R^2: %.5f'  % r2_score(y_val, pipe.predict(X_val)))\n",
    "print('Validation RMSE: %.5f\\n'   % rmse(y_val, pipe.predict(X_val)))"
   ]
  },
  {
   "cell_type": "markdown",
   "metadata": {},
   "source": [
    "Notice we get the exact same results, but the code is much more elegant with fewer intermediate variables lying around. We can also assess performance on our validation set.\n",
    "\n",
    "However, at a closer inspection, we can see that our results are not as good as they were before preprocessing. Presumably, if we could tweak our preprocessing hyperparameters to optimize our algorithm, we could identify a model with better performance. Furthermore, the astute will note that we have not yet introduced any __cross validation__:"
   ]
  },
  {
   "cell_type": "code",
   "execution_count": 22,
   "metadata": {
    "collapsed": true
   },
   "outputs": [],
   "source": [
    "from sklearn.cross_validation import KFold\n",
    "\n",
    "# the default sklearn cross validation does NOT shuffle, and you know how we feel about that...\n",
    "custom_cv = KFold(n=y_train.shape[0], n_folds=5, shuffle=True, random_state=42)"
   ]
  },
  {
   "cell_type": "markdown",
   "metadata": {},
   "source": [
    "Now we introduce the __grid search__, the mechanism by which we will search over a random space of hyperparameters, building cross-validated models at each iteration and retaining the model that performs best."
   ]
  },
  {
   "cell_type": "code",
   "execution_count": 23,
   "metadata": {
    "collapsed": false
   },
   "outputs": [
    {
     "name": "stdout",
     "output_type": "stream",
     "text": [
      "Validation R^2: 0.72060\n",
      "Validation RMSE: 4.98469\n",
      "\n"
     ]
    }
   ],
   "source": [
    "# make sure to use the SKUTIL grid search for DF compatability, and not the SKLEARN one.\n",
    "from skutil.grid_search import RandomizedSearchCV\n",
    "from scipy.stats import uniform, randint\n",
    "from sklearn.preprocessing import StandardScaler, RobustScaler, MinMaxScaler\n",
    "\n",
    "# set our CV\n",
    "custom_cv = KFold(n=y_train.shape[0], n_folds=5, shuffle=True, random_state=42)\n",
    "\n",
    "# define our pipe -- let's remove our BC step\n",
    "pipe = Pipeline([\n",
    "        ('mc',  MulticollinearityFilterer()),\n",
    "        ('nzv', NearZeroVarianceFilterer()),\n",
    "        ('sc',  SelectiveScaler()),\n",
    "        ('pca', SelectivePCA()),\n",
    "        ('rf',  RandomForestRegressor(random_state=42))\n",
    "    ])\n",
    "\n",
    "# let's define the hyperparameters we'll search over. Notice the form of:\n",
    "# '<stage_nm>__<arg_nm>'\n",
    "hyperparams = {\n",
    "    'mc__threshold'        : uniform(0.95, 0.05),\n",
    "    'nzv__threshold'       : [1e-4, 1e-2],\n",
    "    'sc__scaler'           : [StandardScaler(), RobustScaler(), MinMaxScaler()],\n",
    "    'pca__n_components'    : randint(4, X.shape[1]),\n",
    "    'pca__whiten'          : [True, False],\n",
    "    'rf__n_estimators'     : randint(50, 100),\n",
    "    'rf__max_depth'        : randint(4, 15),\n",
    "    'rf__min_samples_leaf' : randint(1, 10),\n",
    "    'rf__min_samples_split': randint(2, 5),\n",
    "    'rf__max_features'     : uniform(loc=.5, scale=.5),\n",
    "    'rf__max_leaf_nodes'   : randint(10,50)\n",
    "}\n",
    "\n",
    "# define and fit\n",
    "search = RandomizedSearchCV(pipe, \n",
    "                            hyperparams, \n",
    "                            cv=custom_cv, \n",
    "                            scoring='r2',\n",
    "                            random_state=42, \n",
    "                            n_iter=30)\n",
    "search.fit(X_train, y_train)\n",
    "\n",
    "# assess performance\n",
    "print('Validation R^2: %.5f'  % r2_score(y_val, search.predict(X_val)))\n",
    "print('Validation RMSE: %.5f\\n'   % rmse(y_val, search.predict(X_val)))"
   ]
  },
  {
   "cell_type": "markdown",
   "metadata": {},
   "source": [
    "We can actually view our grid results like so:"
   ]
  },
  {
   "cell_type": "code",
   "execution_count": 24,
   "metadata": {
    "collapsed": false
   },
   "outputs": [
    {
     "data": {
      "image/png": "[encoded data removed]",
      "text/plain": [
       "<matplotlib.figure.Figure at 0x116e74950>"
      ]
     },
     "metadata": {},
     "output_type": "display_data"
    },
    {
     "data": {
      "image/png": "[encoded data removed]",
      "text/plain": [
       "<matplotlib.figure.Figure at 0x117d45a50>"
      ]
     },
     "metadata": {},
     "output_type": "display_data"
    },
    {
     "data": {
      "image/png": "[encoded data removed]",
      "text/plain": [
       "<matplotlib.figure.Figure at 0x118436990>"
      ]
     },
     "metadata": {},
     "output_type": "display_data"
    },
    {
     "data": {
      "image/png": "[encoded data removed]",
      "text/plain": [
       "<matplotlib.figure.Figure at 0x117ce2b50>"
      ]
     },
     "metadata": {},
     "output_type": "display_data"
    },
    {
     "data": {
      "image/png": "[encoded data removed]",
      "text/plain": [
       "<matplotlib.figure.Figure at 0x116fbee50>"
      ]
     },
     "metadata": {},
     "output_type": "display_data"
    },
    {
     "data": {
      "image/png": "[encoded data removed]",
      "text/plain": [
       "<matplotlib.figure.Figure at 0x11856bc10>"
      ]
     },
     "metadata": {},
     "output_type": "display_data"
    },
    {
     "data": {
      "image/png": "[encoded data removed]",
      "text/plain": [
       "<matplotlib.figure.Figure at 0x1186d1dd0>"
      ]
     },
     "metadata": {},
     "output_type": "display_data"
    },
    {
     "data": {
      "image/png": "[encoded data removed]",
      "text/plain": [
       "<matplotlib.figure.Figure at 0x118841c50>"
      ]
     },
     "metadata": {},
     "output_type": "display_data"
    },
    {
     "data": {
      "image/png": "[encoded data removed]",
      "text/plain": [
       "<matplotlib.figure.Figure at 0x118995b50>"
      ]
     },
     "metadata": {},
     "output_type": "display_data"
    },
    {
     "data": {
      "image/png": "[encoded data removed]",
      "text/plain": [
       "<matplotlib.figure.Figure at 0x118b042d0>"
      ]
     },
     "metadata": {},
     "output_type": "display_data"
    },
    {
     "data": {
      "image/png": "[encoded data removed]",
      "text/plain": [
       "<matplotlib.figure.Figure at 0x118be1a50>"
      ]
     },
     "metadata": {},
     "output_type": "display_data"
    },
    {
     "data": {
      "text/html": [
       "<div>\n",
       "<table border=\"1\" class=\"dataframe\">\n",
       "  <thead>\n",
       "    <tr style=\"text-align: right;\">\n",
       "      <th></th>\n",
       "      <th>mc__threshold</th>\n",
       "      <th>nzv__threshold</th>\n",
       "      <th>pca__n_components</th>\n",
       "      <th>pca__whiten</th>\n",
       "      <th>rf__max_depth</th>\n",
       "      <th>rf__max_features</th>\n",
       "      <th>rf__max_leaf_nodes</th>\n",
       "      <th>rf__min_samples_leaf</th>\n",
       "      <th>rf__min_samples_split</th>\n",
       "      <th>rf__n_estimators</th>\n",
       "      <th>sc__scaler</th>\n",
       "      <th>score</th>\n",
       "      <th>std</th>\n",
       "    </tr>\n",
       "  </thead>\n",
       "  <tbody>\n",
       "    <tr>\n",
       "      <th>7</th>\n",
       "      <td>0.988241</td>\n",
       "      <td>0.0100</td>\n",
       "      <td>9</td>\n",
       "      <td>False</td>\n",
       "      <td>8</td>\n",
       "      <td>0.710470</td>\n",
       "      <td>45</td>\n",
       "      <td>2</td>\n",
       "      <td>4</td>\n",
       "      <td>99</td>\n",
       "      <td>RobustScaler(copy=True, with_centering=True, w...</td>\n",
       "      <td>0.791127</td>\n",
       "      <td>0.173148</td>\n",
       "    </tr>\n",
       "    <tr>\n",
       "      <th>22</th>\n",
       "      <td>0.987902</td>\n",
       "      <td>0.0100</td>\n",
       "      <td>8</td>\n",
       "      <td>True</td>\n",
       "      <td>11</td>\n",
       "      <td>0.637820</td>\n",
       "      <td>29</td>\n",
       "      <td>1</td>\n",
       "      <td>3</td>\n",
       "      <td>78</td>\n",
       "      <td>StandardScaler(copy=True, with_mean=True, with...</td>\n",
       "      <td>0.782222</td>\n",
       "      <td>0.171858</td>\n",
       "    </tr>\n",
       "    <tr>\n",
       "      <th>20</th>\n",
       "      <td>0.967801</td>\n",
       "      <td>0.0100</td>\n",
       "      <td>8</td>\n",
       "      <td>True</td>\n",
       "      <td>6</td>\n",
       "      <td>0.880463</td>\n",
       "      <td>14</td>\n",
       "      <td>2</td>\n",
       "      <td>2</td>\n",
       "      <td>80</td>\n",
       "      <td>RobustScaler(copy=True, with_centering=True, w...</td>\n",
       "      <td>0.779109</td>\n",
       "      <td>0.176249</td>\n",
       "    </tr>\n",
       "    <tr>\n",
       "      <th>23</th>\n",
       "      <td>0.989798</td>\n",
       "      <td>0.0100</td>\n",
       "      <td>10</td>\n",
       "      <td>True</td>\n",
       "      <td>13</td>\n",
       "      <td>0.626435</td>\n",
       "      <td>48</td>\n",
       "      <td>2</td>\n",
       "      <td>3</td>\n",
       "      <td>93</td>\n",
       "      <td>MinMaxScaler(copy=True, feature_range=(0, 1))</td>\n",
       "      <td>0.761346</td>\n",
       "      <td>0.185347</td>\n",
       "    </tr>\n",
       "    <tr>\n",
       "      <th>26</th>\n",
       "      <td>0.987078</td>\n",
       "      <td>0.0100</td>\n",
       "      <td>11</td>\n",
       "      <td>False</td>\n",
       "      <td>12</td>\n",
       "      <td>0.634674</td>\n",
       "      <td>26</td>\n",
       "      <td>4</td>\n",
       "      <td>2</td>\n",
       "      <td>88</td>\n",
       "      <td>RobustScaler(copy=True, with_centering=True, w...</td>\n",
       "      <td>0.758516</td>\n",
       "      <td>0.138921</td>\n",
       "    </tr>\n",
       "    <tr>\n",
       "      <th>19</th>\n",
       "      <td>0.983026</td>\n",
       "      <td>0.0100</td>\n",
       "      <td>6</td>\n",
       "      <td>False</td>\n",
       "      <td>5</td>\n",
       "      <td>0.522999</td>\n",
       "      <td>31</td>\n",
       "      <td>4</td>\n",
       "      <td>4</td>\n",
       "      <td>66</td>\n",
       "      <td>RobustScaler(copy=True, with_centering=True, w...</td>\n",
       "      <td>0.755499</td>\n",
       "      <td>0.162324</td>\n",
       "    </tr>\n",
       "    <tr>\n",
       "      <th>17</th>\n",
       "      <td>0.977988</td>\n",
       "      <td>0.0001</td>\n",
       "      <td>12</td>\n",
       "      <td>True</td>\n",
       "      <td>7</td>\n",
       "      <td>0.909229</td>\n",
       "      <td>28</td>\n",
       "      <td>6</td>\n",
       "      <td>2</td>\n",
       "      <td>65</td>\n",
       "      <td>StandardScaler(copy=True, with_mean=True, with...</td>\n",
       "      <td>0.750730</td>\n",
       "      <td>0.187991</td>\n",
       "    </tr>\n",
       "    <tr>\n",
       "      <th>8</th>\n",
       "      <td>0.979696</td>\n",
       "      <td>0.0100</td>\n",
       "      <td>6</td>\n",
       "      <td>False</td>\n",
       "      <td>4</td>\n",
       "      <td>0.552620</td>\n",
       "      <td>47</td>\n",
       "      <td>2</td>\n",
       "      <td>4</td>\n",
       "      <td>65</td>\n",
       "      <td>StandardScaler(copy=True, with_mean=True, with...</td>\n",
       "      <td>0.749867</td>\n",
       "      <td>0.178026</td>\n",
       "    </tr>\n",
       "    <tr>\n",
       "      <th>0</th>\n",
       "      <td>0.983156</td>\n",
       "      <td>0.0001</td>\n",
       "      <td>6</td>\n",
       "      <td>False</td>\n",
       "      <td>13</td>\n",
       "      <td>0.618107</td>\n",
       "      <td>31</td>\n",
       "      <td>5</td>\n",
       "      <td>3</td>\n",
       "      <td>64</td>\n",
       "      <td>StandardScaler(copy=True, with_mean=True, with...</td>\n",
       "      <td>0.747108</td>\n",
       "      <td>0.137729</td>\n",
       "    </tr>\n",
       "    <tr>\n",
       "      <th>3</th>\n",
       "      <td>0.981160</td>\n",
       "      <td>0.0001</td>\n",
       "      <td>12</td>\n",
       "      <td>True</td>\n",
       "      <td>11</td>\n",
       "      <td>0.953544</td>\n",
       "      <td>20</td>\n",
       "      <td>3</td>\n",
       "      <td>3</td>\n",
       "      <td>76</td>\n",
       "      <td>MinMaxScaler(copy=True, feature_range=(0, 1))</td>\n",
       "      <td>0.740208</td>\n",
       "      <td>0.220455</td>\n",
       "    </tr>\n",
       "    <tr>\n",
       "      <th>4</th>\n",
       "      <td>0.956413</td>\n",
       "      <td>0.0001</td>\n",
       "      <td>12</td>\n",
       "      <td>False</td>\n",
       "      <td>8</td>\n",
       "      <td>0.710228</td>\n",
       "      <td>15</td>\n",
       "      <td>6</td>\n",
       "      <td>2</td>\n",
       "      <td>60</td>\n",
       "      <td>StandardScaler(copy=True, with_mean=True, with...</td>\n",
       "      <td>0.738371</td>\n",
       "      <td>0.185873</td>\n",
       "    </tr>\n",
       "    <tr>\n",
       "      <th>18</th>\n",
       "      <td>0.981937</td>\n",
       "      <td>0.0001</td>\n",
       "      <td>4</td>\n",
       "      <td>False</td>\n",
       "      <td>10</td>\n",
       "      <td>0.501948</td>\n",
       "      <td>11</td>\n",
       "      <td>3</td>\n",
       "      <td>4</td>\n",
       "      <td>64</td>\n",
       "      <td>StandardScaler(copy=True, with_mean=True, with...</td>\n",
       "      <td>0.728955</td>\n",
       "      <td>0.172770</td>\n",
       "    </tr>\n",
       "    <tr>\n",
       "      <th>13</th>\n",
       "      <td>0.995750</td>\n",
       "      <td>0.0100</td>\n",
       "      <td>12</td>\n",
       "      <td>False</td>\n",
       "      <td>13</td>\n",
       "      <td>0.525978</td>\n",
       "      <td>14</td>\n",
       "      <td>3</td>\n",
       "      <td>4</td>\n",
       "      <td>53</td>\n",
       "      <td>MinMaxScaler(copy=True, feature_range=(0, 1))</td>\n",
       "      <td>0.728007</td>\n",
       "      <td>0.208564</td>\n",
       "    </tr>\n",
       "    <tr>\n",
       "      <th>24</th>\n",
       "      <td>0.963270</td>\n",
       "      <td>0.0100</td>\n",
       "      <td>4</td>\n",
       "      <td>True</td>\n",
       "      <td>12</td>\n",
       "      <td>0.897112</td>\n",
       "      <td>28</td>\n",
       "      <td>1</td>\n",
       "      <td>4</td>\n",
       "      <td>50</td>\n",
       "      <td>RobustScaler(copy=True, with_centering=True, w...</td>\n",
       "      <td>0.719867</td>\n",
       "      <td>0.235551</td>\n",
       "    </tr>\n",
       "    <tr>\n",
       "      <th>1</th>\n",
       "      <td>0.979604</td>\n",
       "      <td>0.0001</td>\n",
       "      <td>12</td>\n",
       "      <td>True</td>\n",
       "      <td>7</td>\n",
       "      <td>0.947611</td>\n",
       "      <td>12</td>\n",
       "      <td>9</td>\n",
       "      <td>4</td>\n",
       "      <td>76</td>\n",
       "      <td>StandardScaler(copy=True, with_mean=True, with...</td>\n",
       "      <td>0.712489</td>\n",
       "      <td>0.222223</td>\n",
       "    </tr>\n",
       "    <tr>\n",
       "      <th>10</th>\n",
       "      <td>0.968305</td>\n",
       "      <td>0.0100</td>\n",
       "      <td>9</td>\n",
       "      <td>True</td>\n",
       "      <td>7</td>\n",
       "      <td>0.554112</td>\n",
       "      <td>15</td>\n",
       "      <td>6</td>\n",
       "      <td>2</td>\n",
       "      <td>74</td>\n",
       "      <td>StandardScaler(copy=True, with_mean=True, with...</td>\n",
       "      <td>0.711891</td>\n",
       "      <td>0.140203</td>\n",
       "    </tr>\n",
       "    <tr>\n",
       "      <th>2</th>\n",
       "      <td>0.961227</td>\n",
       "      <td>0.0001</td>\n",
       "      <td>11</td>\n",
       "      <td>True</td>\n",
       "      <td>13</td>\n",
       "      <td>0.897544</td>\n",
       "      <td>38</td>\n",
       "      <td>8</td>\n",
       "      <td>4</td>\n",
       "      <td>53</td>\n",
       "      <td>RobustScaler(copy=True, with_centering=True, w...</td>\n",
       "      <td>0.711576</td>\n",
       "      <td>0.126452</td>\n",
       "    </tr>\n",
       "    <tr>\n",
       "      <th>12</th>\n",
       "      <td>0.972200</td>\n",
       "      <td>0.0001</td>\n",
       "      <td>8</td>\n",
       "      <td>False</td>\n",
       "      <td>9</td>\n",
       "      <td>0.559725</td>\n",
       "      <td>20</td>\n",
       "      <td>4</td>\n",
       "      <td>4</td>\n",
       "      <td>92</td>\n",
       "      <td>MinMaxScaler(copy=True, feature_range=(0, 1))</td>\n",
       "      <td>0.710379</td>\n",
       "      <td>0.199472</td>\n",
       "    </tr>\n",
       "    <tr>\n",
       "      <th>27</th>\n",
       "      <td>0.991030</td>\n",
       "      <td>0.0100</td>\n",
       "      <td>8</td>\n",
       "      <td>False</td>\n",
       "      <td>5</td>\n",
       "      <td>0.750453</td>\n",
       "      <td>45</td>\n",
       "      <td>9</td>\n",
       "      <td>2</td>\n",
       "      <td>96</td>\n",
       "      <td>RobustScaler(copy=True, with_centering=True, w...</td>\n",
       "      <td>0.706907</td>\n",
       "      <td>0.111591</td>\n",
       "    </tr>\n",
       "    <tr>\n",
       "      <th>25</th>\n",
       "      <td>0.963694</td>\n",
       "      <td>0.0100</td>\n",
       "      <td>5</td>\n",
       "      <td>False</td>\n",
       "      <td>4</td>\n",
       "      <td>0.825448</td>\n",
       "      <td>41</td>\n",
       "      <td>8</td>\n",
       "      <td>3</td>\n",
       "      <td>56</td>\n",
       "      <td>RobustScaler(copy=True, with_centering=True, w...</td>\n",
       "      <td>0.705611</td>\n",
       "      <td>0.160387</td>\n",
       "    </tr>\n",
       "    <tr>\n",
       "      <th>15</th>\n",
       "      <td>0.990545</td>\n",
       "      <td>0.0100</td>\n",
       "      <td>11</td>\n",
       "      <td>False</td>\n",
       "      <td>11</td>\n",
       "      <td>0.600034</td>\n",
       "      <td>45</td>\n",
       "      <td>8</td>\n",
       "      <td>4</td>\n",
       "      <td>69</td>\n",
       "      <td>StandardScaler(copy=True, with_mean=True, with...</td>\n",
       "      <td>0.703879</td>\n",
       "      <td>0.169953</td>\n",
       "    </tr>\n",
       "    <tr>\n",
       "      <th>9</th>\n",
       "      <td>0.954097</td>\n",
       "      <td>0.0001</td>\n",
       "      <td>9</td>\n",
       "      <td>False</td>\n",
       "      <td>12</td>\n",
       "      <td>0.662525</td>\n",
       "      <td>19</td>\n",
       "      <td>8</td>\n",
       "      <td>3</td>\n",
       "      <td>71</td>\n",
       "      <td>RobustScaler(copy=True, with_centering=True, w...</td>\n",
       "      <td>0.703771</td>\n",
       "      <td>0.150605</td>\n",
       "    </tr>\n",
       "    <tr>\n",
       "      <th>28</th>\n",
       "      <td>0.973833</td>\n",
       "      <td>0.0001</td>\n",
       "      <td>7</td>\n",
       "      <td>True</td>\n",
       "      <td>14</td>\n",
       "      <td>0.810080</td>\n",
       "      <td>35</td>\n",
       "      <td>9</td>\n",
       "      <td>2</td>\n",
       "      <td>85</td>\n",
       "      <td>RobustScaler(copy=True, with_centering=True, w...</td>\n",
       "      <td>0.700193</td>\n",
       "      <td>0.121987</td>\n",
       "    </tr>\n",
       "    <tr>\n",
       "      <th>6</th>\n",
       "      <td>0.973238</td>\n",
       "      <td>0.0100</td>\n",
       "      <td>9</td>\n",
       "      <td>True</td>\n",
       "      <td>6</td>\n",
       "      <td>0.995173</td>\n",
       "      <td>45</td>\n",
       "      <td>9</td>\n",
       "      <td>4</td>\n",
       "      <td>73</td>\n",
       "      <td>RobustScaler(copy=True, with_centering=True, w...</td>\n",
       "      <td>0.698918</td>\n",
       "      <td>0.131617</td>\n",
       "    </tr>\n",
       "    <tr>\n",
       "      <th>11</th>\n",
       "      <td>0.972257</td>\n",
       "      <td>0.0001</td>\n",
       "      <td>12</td>\n",
       "      <td>True</td>\n",
       "      <td>11</td>\n",
       "      <td>0.938802</td>\n",
       "      <td>48</td>\n",
       "      <td>8</td>\n",
       "      <td>4</td>\n",
       "      <td>78</td>\n",
       "      <td>MinMaxScaler(copy=True, feature_range=(0, 1))</td>\n",
       "      <td>0.689296</td>\n",
       "      <td>0.203342</td>\n",
       "    </tr>\n",
       "    <tr>\n",
       "      <th>29</th>\n",
       "      <td>0.976383</td>\n",
       "      <td>0.0100</td>\n",
       "      <td>6</td>\n",
       "      <td>False</td>\n",
       "      <td>14</td>\n",
       "      <td>0.735929</td>\n",
       "      <td>10</td>\n",
       "      <td>9</td>\n",
       "      <td>3</td>\n",
       "      <td>87</td>\n",
       "      <td>RobustScaler(copy=True, with_centering=True, w...</td>\n",
       "      <td>0.681497</td>\n",
       "      <td>0.141443</td>\n",
       "    </tr>\n",
       "    <tr>\n",
       "      <th>21</th>\n",
       "      <td>0.957156</td>\n",
       "      <td>0.0001</td>\n",
       "      <td>6</td>\n",
       "      <td>False</td>\n",
       "      <td>5</td>\n",
       "      <td>0.872918</td>\n",
       "      <td>10</td>\n",
       "      <td>4</td>\n",
       "      <td>3</td>\n",
       "      <td>78</td>\n",
       "      <td>MinMaxScaler(copy=True, feature_range=(0, 1))</td>\n",
       "      <td>0.681335</td>\n",
       "      <td>0.234420</td>\n",
       "    </tr>\n",
       "    <tr>\n",
       "      <th>14</th>\n",
       "      <td>0.984599</td>\n",
       "      <td>0.0100</td>\n",
       "      <td>6</td>\n",
       "      <td>True</td>\n",
       "      <td>11</td>\n",
       "      <td>0.722688</td>\n",
       "      <td>26</td>\n",
       "      <td>7</td>\n",
       "      <td>2</td>\n",
       "      <td>69</td>\n",
       "      <td>MinMaxScaler(copy=True, feature_range=(0, 1))</td>\n",
       "      <td>0.677875</td>\n",
       "      <td>0.184055</td>\n",
       "    </tr>\n",
       "    <tr>\n",
       "      <th>5</th>\n",
       "      <td>0.994759</td>\n",
       "      <td>0.0100</td>\n",
       "      <td>7</td>\n",
       "      <td>False</td>\n",
       "      <td>5</td>\n",
       "      <td>0.545275</td>\n",
       "      <td>14</td>\n",
       "      <td>9</td>\n",
       "      <td>3</td>\n",
       "      <td>62</td>\n",
       "      <td>MinMaxScaler(copy=True, feature_range=(0, 1))</td>\n",
       "      <td>0.639748</td>\n",
       "      <td>0.141657</td>\n",
       "    </tr>\n",
       "    <tr>\n",
       "      <th>16</th>\n",
       "      <td>0.979921</td>\n",
       "      <td>0.0001</td>\n",
       "      <td>5</td>\n",
       "      <td>True</td>\n",
       "      <td>4</td>\n",
       "      <td>0.683391</td>\n",
       "      <td>11</td>\n",
       "      <td>8</td>\n",
       "      <td>4</td>\n",
       "      <td>56</td>\n",
       "      <td>MinMaxScaler(copy=True, feature_range=(0, 1))</td>\n",
       "      <td>0.506704</td>\n",
       "      <td>0.340709</td>\n",
       "    </tr>\n",
       "  </tbody>\n",
       "</table>\n",
       "</div>"
      ],
      "text/plain": [
       "    mc__threshold  nzv__threshold  pca__n_components pca__whiten  \\\n",
       "7        0.988241          0.0100                  9       False   \n",
       "22       0.987902          0.0100                  8        True   \n",
       "20       0.967801          0.0100                  8        True   \n",
       "23       0.989798          0.0100                 10        True   \n",
       "26       0.987078          0.0100                 11       False   \n",
       "19       0.983026          0.0100                  6       False   \n",
       "17       0.977988          0.0001                 12        True   \n",
       "8        0.979696          0.0100                  6       False   \n",
       "0        0.983156          0.0001                  6       False   \n",
       "3        0.981160          0.0001                 12        True   \n",
       "4        0.956413          0.0001                 12       False   \n",
       "18       0.981937          0.0001                  4       False   \n",
       "13       0.995750          0.0100                 12       False   \n",
       "24       0.963270          0.0100                  4        True   \n",
       "1        0.979604          0.0001                 12        True   \n",
       "10       0.968305          0.0100                  9        True   \n",
       "2        0.961227          0.0001                 11        True   \n",
       "12       0.972200          0.0001                  8       False   \n",
       "27       0.991030          0.0100                  8       False   \n",
       "25       0.963694          0.0100                  5       False   \n",
       "15       0.990545          0.0100                 11       False   \n",
       "9        0.954097          0.0001                  9       False   \n",
       "28       0.973833          0.0001                  7        True   \n",
       "6        0.973238          0.0100                  9        True   \n",
       "11       0.972257          0.0001                 12        True   \n",
       "29       0.976383          0.0100                  6       False   \n",
       "21       0.957156          0.0001                  6       False   \n",
       "14       0.984599          0.0100                  6        True   \n",
       "5        0.994759          0.0100                  7       False   \n",
       "16       0.979921          0.0001                  5        True   \n",
       "\n",
       "    rf__max_depth  rf__max_features  rf__max_leaf_nodes  rf__min_samples_leaf  \\\n",
       "7               8          0.710470                  45                     2   \n",
       "22             11          0.637820                  29                     1   \n",
       "20              6          0.880463                  14                     2   \n",
       "23             13          0.626435                  48                     2   \n",
       "26             12          0.634674                  26                     4   \n",
       "19              5          0.522999                  31                     4   \n",
       "17              7          0.909229                  28                     6   \n",
       "8               4          0.552620                  47                     2   \n",
       "0              13          0.618107                  31                     5   \n",
       "3              11          0.953544                  20                     3   \n",
       "4               8          0.710228                  15                     6   \n",
       "18             10          0.501948                  11                     3   \n",
       "13             13          0.525978                  14                     3   \n",
       "24             12          0.897112                  28                     1   \n",
       "1               7          0.947611                  12                     9   \n",
       "10              7          0.554112                  15                     6   \n",
       "2              13          0.897544                  38                     8   \n",
       "12              9          0.559725                  20                     4   \n",
       "27              5          0.750453                  45                     9   \n",
       "25              4          0.825448                  41                     8   \n",
       "15             11          0.600034                  45                     8   \n",
       "9              12          0.662525                  19                     8   \n",
       "28             14          0.810080                  35                     9   \n",
       "6               6          0.995173                  45                     9   \n",
       "11             11          0.938802                  48                     8   \n",
       "29             14          0.735929                  10                     9   \n",
       "21              5          0.872918                  10                     4   \n",
       "14             11          0.722688                  26                     7   \n",
       "5               5          0.545275                  14                     9   \n",
       "16              4          0.683391                  11                     8   \n",
       "\n",
       "    rf__min_samples_split  rf__n_estimators  \\\n",
       "7                       4                99   \n",
       "22                      3                78   \n",
       "20                      2                80   \n",
       "23                      3                93   \n",
       "26                      2                88   \n",
       "19                      4                66   \n",
       "17                      2                65   \n",
       "8                       4                65   \n",
       "0                       3                64   \n",
       "3                       3                76   \n",
       "4                       2                60   \n",
       "18                      4                64   \n",
       "13                      4                53   \n",
       "24                      4                50   \n",
       "1                       4                76   \n",
       "10                      2                74   \n",
       "2                       4                53   \n",
       "12                      4                92   \n",
       "27                      2                96   \n",
       "25                      3                56   \n",
       "15                      4                69   \n",
       "9                       3                71   \n",
       "28                      2                85   \n",
       "6                       4                73   \n",
       "11                      4                78   \n",
       "29                      3                87   \n",
       "21                      3                78   \n",
       "14                      2                69   \n",
       "5                       3                62   \n",
       "16                      4                56   \n",
       "\n",
       "                                           sc__scaler     score       std  \n",
       "7   RobustScaler(copy=True, with_centering=True, w...  0.791127  0.173148  \n",
       "22  StandardScaler(copy=True, with_mean=True, with...  0.782222  0.171858  \n",
       "20  RobustScaler(copy=True, with_centering=True, w...  0.779109  0.176249  \n",
       "23      MinMaxScaler(copy=True, feature_range=(0, 1))  0.761346  0.185347  \n",
       "26  RobustScaler(copy=True, with_centering=True, w...  0.758516  0.138921  \n",
       "19  RobustScaler(copy=True, with_centering=True, w...  0.755499  0.162324  \n",
       "17  StandardScaler(copy=True, with_mean=True, with...  0.750730  0.187991  \n",
       "8   StandardScaler(copy=True, with_mean=True, with...  0.749867  0.178026  \n",
       "0   StandardScaler(copy=True, with_mean=True, with...  0.747108  0.137729  \n",
       "3       MinMaxScaler(copy=True, feature_range=(0, 1))  0.740208  0.220455  \n",
       "4   StandardScaler(copy=True, with_mean=True, with...  0.738371  0.185873  \n",
       "18  StandardScaler(copy=True, with_mean=True, with...  0.728955  0.172770  \n",
       "13      MinMaxScaler(copy=True, feature_range=(0, 1))  0.728007  0.208564  \n",
       "24  RobustScaler(copy=True, with_centering=True, w...  0.719867  0.235551  \n",
       "1   StandardScaler(copy=True, with_mean=True, with...  0.712489  0.222223  \n",
       "10  StandardScaler(copy=True, with_mean=True, with...  0.711891  0.140203  \n",
       "2   RobustScaler(copy=True, with_centering=True, w...  0.711576  0.126452  \n",
       "12      MinMaxScaler(copy=True, feature_range=(0, 1))  0.710379  0.199472  \n",
       "27  RobustScaler(copy=True, with_centering=True, w...  0.706907  0.111591  \n",
       "25  RobustScaler(copy=True, with_centering=True, w...  0.705611  0.160387  \n",
       "15  StandardScaler(copy=True, with_mean=True, with...  0.703879  0.169953  \n",
       "9   RobustScaler(copy=True, with_centering=True, w...  0.703771  0.150605  \n",
       "28  RobustScaler(copy=True, with_centering=True, w...  0.700193  0.121987  \n",
       "6   RobustScaler(copy=True, with_centering=True, w...  0.698918  0.131617  \n",
       "11      MinMaxScaler(copy=True, feature_range=(0, 1))  0.689296  0.203342  \n",
       "29  RobustScaler(copy=True, with_centering=True, w...  0.681497  0.141443  \n",
       "21      MinMaxScaler(copy=True, feature_range=(0, 1))  0.681335  0.234420  \n",
       "14      MinMaxScaler(copy=True, feature_range=(0, 1))  0.677875  0.184055  \n",
       "5       MinMaxScaler(copy=True, feature_range=(0, 1))  0.639748  0.141657  \n",
       "16      MinMaxScaler(copy=True, feature_range=(0, 1))  0.506704  0.340709  "
      ]
     },
     "execution_count": 24,
     "metadata": {},
     "output_type": "execute_result"
    }
   ],
   "source": [
    "from skutil.utils import report_grid_score_detail\n",
    "report_grid_score_detail(random_search=search, charts=True)"
   ]
  },
  {
   "cell_type": "markdown",
   "metadata": {},
   "source": [
    "In viewing these results, we can make educated decisions on refining our grid such that we don't waste time searching over parameters that detrimentally impact the performance."
   ]
  },
  {
   "cell_type": "code",
   "execution_count": 25,
   "metadata": {
    "collapsed": false
   },
   "outputs": [
    {
     "name": "stdout",
     "output_type": "stream",
     "text": [
      "Validation R^2: 0.73432\n",
      "Validation RMSE: 4.86073\n",
      "\n"
     ]
    }
   ],
   "source": [
    "# set our CV\n",
    "custom_cv = KFold(n=y_train.shape[0], n_folds=5, shuffle=True, random_state=42)\n",
    "\n",
    "# define our pipe\n",
    "pipe = Pipeline([\n",
    "        ('mc',  MulticollinearityFilterer()),\n",
    "        ('nzv', NearZeroVarianceFilterer()),\n",
    "        ('sc',  SelectiveScaler(scaler=StandardScaler())), # set to robust\n",
    "        ('pca', SelectivePCA()),\n",
    "        ('rf',  RandomForestRegressor(random_state=42))\n",
    "    ])\n",
    "\n",
    "# we can narrow our search parameters now\n",
    "hyperparams = {\n",
    "    'mc__threshold'        : uniform(0.95, 0.05),\n",
    "    'nzv__threshold'       : [1e-4, 1e-2],\n",
    "    'sc__scaler'           : [StandardScaler(), RobustScaler(), MinMaxScaler()],\n",
    "    'pca__n_components'    : randint(8, X.shape[1]),\n",
    "    'pca__whiten'          : [True, False],\n",
    "    'rf__n_estimators'     : randint(75, 100),\n",
    "    'rf__max_depth'        : randint(4, 15),\n",
    "    'rf__min_samples_leaf' : randint(1, 8),\n",
    "    'rf__min_samples_split': randint(2, 5),\n",
    "    'rf__max_features'     : uniform(loc=.5, scale=.5),\n",
    "    'rf__max_leaf_nodes'   : randint(25,50)\n",
    "}\n",
    "\n",
    "# define and fit\n",
    "search = RandomizedSearchCV(pipe, \n",
    "                            hyperparams, \n",
    "                            cv=custom_cv, \n",
    "                            scoring='r2',\n",
    "                            random_state=42, \n",
    "                            n_iter=30) # incremented to 20 X\n",
    "search.fit(X_train, y_train)\n",
    "\n",
    "# assess performance\n",
    "print('Validation R^2: %.5f'  % r2_score(y_val, search.predict(X_val)))\n",
    "print('Validation RMSE: %.5f\\n'   % rmse(y_val, search.predict(X_val)))"
   ]
  },
  {
   "cell_type": "markdown",
   "metadata": {},
   "source": [
    "### Trying a different model\n",
    "\n",
    "We have a pretty good `RandomForestRegressor` at this point... why don't we try a different model?"
   ]
  },
  {
   "cell_type": "code",
   "execution_count": 26,
   "metadata": {
    "collapsed": false
   },
   "outputs": [
    {
     "name": "stdout",
     "output_type": "stream",
     "text": [
      "Validation R^2: 0.80500\n",
      "Validation RMSE: 4.16424\n",
      "\n"
     ]
    }
   ],
   "source": [
    "from sklearn.ensemble import GradientBoostingRegressor\n",
    "\n",
    "# define our pipe\n",
    "gbm_pipe = Pipeline([\n",
    "        ('mc',  MulticollinearityFilterer(threshold=0.9)),\n",
    "        ('nzv', NearZeroVarianceFilterer(threshold=1e-4)),\n",
    "        ('sc',  SelectiveScaler()),\n",
    "        ('pca', SelectivePCA(n_components=0.85)),\n",
    "        ('gbm', GradientBoostingRegressor(random_state=42))\n",
    "    ])\n",
    "\n",
    "# let's define the hyperparameters we'll search over.\n",
    "gbm_hyperparams = {\n",
    "    'mc__threshold'        : uniform(0.80, 0.15),\n",
    "    'sc__scaler'           : [StandardScaler(), RobustScaler(), MinMaxScaler()],\n",
    "    'pca__n_components'    : uniform(0.95, 0.05),\n",
    "    'gbm__n_estimators'    : randint(90, 200),\n",
    "    'gbm__learning_rate'   : uniform(0.075, 0.05),\n",
    "    'gbm__max_depth'       : randint(2, 7), # we grow these more shallow\n",
    "}\n",
    "\n",
    "# define and fit\n",
    "gbm_search = RandomizedSearchCV(gbm_pipe, \n",
    "                                gbm_hyperparams, \n",
    "                                cv=custom_cv, \n",
    "                                scoring='r2',\n",
    "                                random_state=42, \n",
    "                                n_iter=30)\n",
    "gbm_search.fit(X_train, y_train)\n",
    "\n",
    "# assess performance\n",
    "print('Validation R^2: %.5f'  % r2_score(y_val, gbm_search.predict(X_val)))\n",
    "print('Validation RMSE: %.5f\\n'   % rmse(y_val, gbm_search.predict(X_val)))"
   ]
  },
  {
   "cell_type": "markdown",
   "metadata": {},
   "source": [
    "Wow, that looks fantastic! However, GBMs are much more likely to overfit the data. We'll need to see how it performs on the holdout set to determine whether it's actually a good model.\n",
    "\n",
    "### Evaluating performance on our holdout set\n",
    "\n",
    "This happens *once*. When you've built a selection of models, we evaluate each __one time__ against the holdout set for our final model selection."
   ]
  },
  {
   "cell_type": "code",
   "execution_count": 27,
   "metadata": {
    "collapsed": false
   },
   "outputs": [
    {
     "name": "stdout",
     "output_type": "stream",
     "text": [
      "RF test R^2: 0.69413\n",
      "RF test RMSE: 5.18086\n",
      "\n",
      "GBM test R^2: 0.72310\n",
      "GBM test RMSE: 4.92935\n"
     ]
    }
   ],
   "source": [
    "# examine RF performance\n",
    "print('RF test R^2: %.5f'    % r2_score(y_test, search.predict(X_test)))\n",
    "print('RF test RMSE: %.5f\\n' % rmse(y_test,     search.predict(X_test)))\n",
    "\n",
    "# examine GBM performance\n",
    "print('GBM test R^2: %.5f'  % r2_score(y_test, gbm_search.predict(X_test)))\n",
    "print('GBM test RMSE: %.5f' % rmse(y_test,     gbm_search.predict(X_test)))"
   ]
  },
  {
   "cell_type": "markdown",
   "metadata": {},
   "source": [
    "In our RF, our validation error closely resembles that of our holdout error, which is indicative that we are not overfitting. However, our GBM indicates otherwise. We can tune our hyperparameters to fix this, but for the sake of example, we will not in this demo.\n",
    "\n",
    "__See the [next demo](https://github.com/tgsmith61591/skutil/blob/master/doc/examples/pipeline/skutil%20grid%20demo.ipynb)__ for information on how to persist models to disk."
   ]
  },
  {
   "cell_type": "code",
   "execution_count": null,
   "metadata": {
    "collapsed": true
   },
   "outputs": [],
   "source": []
  }
 ],
 "metadata": {
  "kernelspec": {
   "display_name": "Python 2",
   "language": "python",
   "name": "python2"
  },
  "language_info": {
   "codemirror_mode": {
    "name": "ipython",
    "version": 2
   },
   "file_extension": ".py",
   "mimetype": "text/x-python",
   "name": "python",
   "nbconvert_exporter": "python",
   "pygments_lexer": "ipython2",
   "version": "2.7.11"
  }
 },
 "nbformat": 4,
 "nbformat_minor": 0
}
